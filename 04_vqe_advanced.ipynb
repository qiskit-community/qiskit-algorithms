{
 "cells": [
  {
   "cell_type": "markdown",
   "metadata": {},
   "source": [
    "# Advanced VQE usage\n",
    "\n",
    "There exist several parameters for configuring and using more advanced [VQE](https://qiskit.org/documentation/stubs/qiskit.algorithms.VQE.html) capabilities. This tutorial will cover the parameters such as `initial point`, `expectation` and `gradient`.\n",
    "\n",
    "It will also cover advanced simulator use such as using Aer with the Matrix Product State method."
   ]
  },
  {
   "cell_type": "code",
   "execution_count": 1,
   "metadata": {},
   "outputs": [],
   "source": [
    "from qiskit import Aer\n",
    "from qiskit.opflow import X, Z, I\n",
    "from qiskit.utils import QuantumInstance, algorithm_globals\n",
    "from qiskit.algorithms import VQE\n",
    "from qiskit.algorithms.optimizers import SLSQP\n",
    "from qiskit.circuit.library import TwoLocal"
   ]
  },
  {
   "cell_type": "markdown",
   "metadata": {},
   "source": [
    "Here we will use the same operator as used in the other VQE algorithms tutorials."
   ]
  },
  {
   "cell_type": "code",
   "execution_count": 2,
   "metadata": {},
   "outputs": [],
   "source": [
    "H2_op = (-1.052373245772859 * I ^ I) + \\\n",
    "        (0.39793742484318045 * I ^ Z) + \\\n",
    "        (-0.39793742484318045 * Z ^ I) + \\\n",
    "        (-0.01128010425623538 * Z ^ Z) + \\\n",
    "        (0.18093119978423156 * X ^ X)"
   ]
  },
  {
   "cell_type": "markdown",
   "metadata": {},
   "source": [
    "## Initial point\n",
    "\n",
    "The `initial_point` parameter allows the optimization to begin at the given point, where the point is a list of parameters that will configure the ansatz. By default the initial point is `None` which means that VQE will choose one. The choice in in this case is if the supplied ansatz has a preferred point, based on the initial state provided to it, then this will be chosen, otherwise a random initial point that fits with any bounds the ansatz has will be chosen. If an initial point is supplied it will take priority though and be used - note though it must match in length to the number of parameters in the ansatz circuit.\n",
    "\n",
    "Why to use a initial point? One reason would be if you have guess a reasonable starting point for the problem or perhaps know have information from a prior experiment.\n",
    "\n",
    "To demonstrate the use let's first simply repeat the first working example from the [algorithms introduction](01_algorithms_introduction.ipynb#A-complete-working-example) tutorial to get a solution's optimal point."
   ]
  },
  {
   "cell_type": "code",
   "execution_count": 3,
   "metadata": {},
   "outputs": [
    {
     "name": "stdout",
     "output_type": "stream",
     "text": [
      "{   'aux_operator_eigenvalues': None,\n",
      "    'cost_function_evals': 65,\n",
      "    'eigenstate': array([ 9.54859564e-05+0.j, -9.93766269e-01+0.j,  1.11483597e-01+0.j,\n",
      "        1.76972625e-05+0.j]),\n",
      "    'eigenvalue': -1.8572750175780233,\n",
      "    'optimal_parameters': {   ParameterVectorElement(θ[3]): 6.092947703759512,\n",
      "                              ParameterVectorElement(θ[2]): 0.5470754201428533,\n",
      "                              ParameterVectorElement(θ[1]): 4.426962028746158,\n",
      "                              ParameterVectorElement(θ[4]): -2.5983257006415026,\n",
      "                              ParameterVectorElement(θ[5]): 1.5683259438037993,\n",
      "                              ParameterVectorElement(θ[6]): -4.717618238771348,\n",
      "                              ParameterVectorElement(θ[7]): 0.3602072544539939,\n",
      "                              ParameterVectorElement(θ[0]): 4.2965202693703635},\n",
      "    'optimal_point': array([ 4.29652027,  4.42696203,  0.54707542,  6.0929477 , -2.5983257 ,\n",
      "        1.56832594, -4.71761824,  0.36020725]),\n",
      "    'optimal_value': -1.8572750175780233,\n",
      "    'optimizer_evals': 65,\n",
      "    'optimizer_time': 0.08263611793518066}\n"
     ]
    }
   ],
   "source": [
    "seed = 50\n",
    "algorithm_globals.random_seed = seed\n",
    "qi = QuantumInstance(Aer.get_backend('statevector_simulator'), seed_transpiler=seed, seed_simulator=seed)\n",
    "\n",
    "ansatz = TwoLocal(rotation_blocks='ry', entanglement_blocks='cz')\n",
    "slsqp = SLSQP(maxiter=1000)\n",
    "vqe = VQE(ansatz, optimizer=slsqp, quantum_instance=qi)\n",
    "result = vqe.compute_minimum_eigenvalue(operator=H2_op)\n",
    "print(result)\n",
    "optimizer_evals = result.optimizer_evals"
   ]
  },
  {
   "cell_type": "markdown",
   "metadata": {},
   "source": [
    "Now we can take the `optimal_point` from the above result and use it as the `initial_point` here."
   ]
  },
  {
   "cell_type": "code",
   "execution_count": 4,
   "metadata": {},
   "outputs": [
    {
     "name": "stdout",
     "output_type": "stream",
     "text": [
      "{   'aux_operator_eigenvalues': None,\n",
      "    'cost_function_evals': 9,\n",
      "    'eigenstate': array([ 9.54859564e-05+0.j, -9.93766269e-01+0.j,  1.11483597e-01+0.j,\n",
      "        1.76972625e-05+0.j]),\n",
      "    'eigenvalue': -1.8572750175780233,\n",
      "    'optimal_parameters': {   ParameterVectorElement(θ[3]): 6.092947703759512,\n",
      "                              ParameterVectorElement(θ[6]): -4.717618238771348,\n",
      "                              ParameterVectorElement(θ[5]): 1.5683259438037993,\n",
      "                              ParameterVectorElement(θ[1]): 4.426962028746158,\n",
      "                              ParameterVectorElement(θ[2]): 0.5470754201428533,\n",
      "                              ParameterVectorElement(θ[7]): 0.3602072544539939,\n",
      "                              ParameterVectorElement(θ[4]): -2.5983257006415026,\n",
      "                              ParameterVectorElement(θ[0]): 4.2965202693703635},\n",
      "    'optimal_point': array([ 4.29652027,  4.42696203,  0.54707542,  6.0929477 , -2.5983257 ,\n",
      "        1.56832594, -4.71761824,  0.36020725]),\n",
      "    'optimal_value': -1.8572750175780233,\n",
      "    'optimizer_evals': 9,\n",
      "    'optimizer_time': 0.027410030364990234}\n",
      "\n",
      "optimizer_evals is 9 with initial point versus 65 without it.\n"
     ]
    }
   ],
   "source": [
    "initial_pt = result.optimal_point\n",
    "\n",
    "algorithm_globals.random_seed = seed\n",
    "qi = QuantumInstance(Aer.get_backend('statevector_simulator'), seed_transpiler=seed, seed_simulator=seed)\n",
    "\n",
    "ansatz = TwoLocal(rotation_blocks='ry', entanglement_blocks='cz')\n",
    "slsqp = SLSQP(maxiter=1000)\n",
    "vqe = VQE(ansatz, optimizer=slsqp, initial_point=initial_pt, quantum_instance=qi)\n",
    "result1 = vqe.compute_minimum_eigenvalue(operator=H2_op)\n",
    "print(result1)\n",
    "optimizer_evals1 = result1.optimizer_evals\n",
    "print()\n",
    "print(f'optimizer_evals is {optimizer_evals1} with initial point versus {optimizer_evals} without it.')"
   ]
  },
  {
   "cell_type": "markdown",
   "metadata": {},
   "source": [
    "Here we see that result was arrived at much more quickly with `optimizer_evals` when it started from a random value when the initial point was not supplied (default of None).\n",
    "\n",
    "Where this becomes useful for examples where we the solution to one problem can be used to for a guess for the solution to a very close similar problem. Chemistry is very good example where we change the inter-atomic distance(s) of molecule to plot a dissociation profile. When the distance changes are small we expect the solution to still be nearby the prior one. One technique is to simply use the optimal point from one solution as the starting point for the next step. Now more complex techniques are possible that do some extrapolation to compute an initial position based on prior solution(s) rather than directly use the prior solution."
   ]
  },
  {
   "cell_type": "markdown",
   "metadata": {},
   "source": [
    "## Expectation\n",
    "\n",
    "The energy of the Hamiltonian operator that VQE is working on is the expectation value when evaluated with the parameterized ansatz. To compute the expectation value VQE uses an instance of an [expectation](https://qiskit.org/documentation/apidoc/qiskit.opflow.expectations.html) object. Such an instance may be supplied via the `expectation` parameter, or in the default case, where it has a value of `None`, VQE will use the [ExpectationFactory](https://qiskit.org/documentation/stubs/qiskit.opflow.expectations.ExpectationFactory.html) to create itself a suitable instance based on the supplied backend.\n",
    "\n",
    "For most cases letting VQE create a suitable instance is sufficient. However the Qiskit Aer aer_simulator supports a snapshot instruction that can be used in conjunction with the operator expectation computation. If used then the outcome is ideal, i.e. like the statevector simulator, and has no shot noise. Since people normally choose the aer_simulator to have shot noise (sampling noise), and be more like a real-device outcome, VQE has an `include_custom` flag that is passed on to the ExpectationFactory. When using Aer qasm simulator, and this is set `True`, the factory will return `AerPauliExpectation`  which uses the snapshot instruction, when `False`, default, then the regular `PauliExpectation` is returned.\n",
    "\n",
    "The following example shows `include_custom=True` where the outcome matches the statevector simulator. In fact it can be better/faster to do this than use the statevector_simulator directly. This is because in the latter case when the Hamiltonian is a sum of Paulis it must be converted to matrix form, and this is avoided when using the snapshot instruction done when include_custom is True."
   ]
  },
  {
   "cell_type": "code",
   "execution_count": 5,
   "metadata": {},
   "outputs": [
    {
     "name": "stdout",
     "output_type": "stream",
     "text": [
      "{   'aux_operator_eigenvalues': None,\n",
      "    'cost_function_evals': 65,\n",
      "    'eigenstate': {'01': 0.9921567416492215, '10': 0.125},\n",
      "    'eigenvalue': -1.8572750175807682,\n",
      "    'optimal_parameters': {   ParameterVectorElement(θ[0]): 4.296520300933687,\n",
      "                              ParameterVectorElement(θ[4]): -2.598325866938012,\n",
      "                              ParameterVectorElement(θ[3]): 6.092947713510392,\n",
      "                              ParameterVectorElement(θ[1]): 4.426962159645716,\n",
      "                              ParameterVectorElement(θ[2]): 0.5470752986013949,\n",
      "                              ParameterVectorElement(θ[6]): -4.717618259450455,\n",
      "                              ParameterVectorElement(θ[5]): 1.5683258132970883,\n",
      "                              ParameterVectorElement(θ[7]): 0.3602071559531031},\n",
      "    'optimal_point': array([ 4.2965203 ,  4.42696216,  0.5470753 ,  6.09294771, -2.59832587,\n",
      "        1.56832581, -4.71761826,  0.36020716]),\n",
      "    'optimal_value': -1.8572750175807682,\n",
      "    'optimizer_evals': 65,\n",
      "    'optimizer_time': 0.17621898651123047}\n"
     ]
    }
   ],
   "source": [
    "from qiskit import Aer\n",
    "\n",
    "algorithm_globals.random_seed = seed\n",
    "qi = QuantumInstance(Aer.get_backend('aer_simulator'), seed_transpiler=seed, seed_simulator=seed)\n",
    "\n",
    "ansatz = TwoLocal(rotation_blocks='ry', entanglement_blocks='cz')\n",
    "slsqp = SLSQP(maxiter=1000)\n",
    "vqe = VQE(ansatz, optimizer=slsqp, quantum_instance=qi, include_custom=True)\n",
    "result = vqe.compute_minimum_eigenvalue(operator=H2_op)\n",
    "optimal_value1 = result.optimal_value\n",
    "print(result)"
   ]
  },
  {
   "cell_type": "markdown",
   "metadata": {},
   "source": [
    "In case you have doubts here is the aer_simulator again but include_custom has been left to default to False. The optimization ended abruptly, presumably due to the shot noise confusing the SLSQP optimizer."
   ]
  },
  {
   "cell_type": "code",
   "execution_count": 6,
   "metadata": {},
   "outputs": [
    {
     "name": "stdout",
     "output_type": "stream",
     "text": [
      "The optimal value can be seen to be wrong too, i.e. -1.074 versus the correct -1.857.\n",
      "\n",
      "{   'aux_operator_eigenvalues': None,\n",
      "    'cost_function_evals': 9,\n",
      "    'eigenstate': {   '00': 0.7781187248742958,\n",
      "                      '01': 0.4881406047441659,\n",
      "                      '10': 0.39404750665370286,\n",
      "                      '11': 0.03125},\n",
      "    'eigenvalue': -1.0741921795698932,\n",
      "    'optimal_parameters': {   ParameterVectorElement(θ[0]): 3.611860069224077,\n",
      "                              ParameterVectorElement(θ[7]): 0.6984088030463615,\n",
      "                              ParameterVectorElement(θ[3]): 5.949536809130025,\n",
      "                              ParameterVectorElement(θ[2]): 0.6019852007557844,\n",
      "                              ParameterVectorElement(θ[6]): -5.466043598406607,\n",
      "                              ParameterVectorElement(θ[1]): 4.19301252102391,\n",
      "                              ParameterVectorElement(θ[4]): -3.3070470445355764,\n",
      "                              ParameterVectorElement(θ[5]): 1.8462931831829383},\n",
      "    'optimal_point': array([ 3.61186007,  4.19301252,  0.6019852 ,  5.94953681, -3.30704704,\n",
      "        1.84629318, -5.4660436 ,  0.6984088 ]),\n",
      "    'optimal_value': -1.0741921795698932,\n",
      "    'optimizer_evals': 9,\n",
      "    'optimizer_time': 0.07421207427978516}\n"
     ]
    }
   ],
   "source": [
    "algorithm_globals.random_seed = seed\n",
    "qi = QuantumInstance(Aer.get_backend('aer_simulator'), seed_transpiler=seed, seed_simulator=seed)\n",
    "\n",
    "ansatz = TwoLocal(rotation_blocks='ry', entanglement_blocks='cz')\n",
    "slsqp = SLSQP(maxiter=1000)\n",
    "vqe = VQE(ansatz, optimizer=slsqp, quantum_instance=qi)\n",
    "result = vqe.compute_minimum_eigenvalue(operator=H2_op)\n",
    "optimal_value = result.optimal_value\n",
    "print('The optimal value can be seen to be wrong too, i.e. '\n",
    "      f'{optimal_value:.3f} versus the correct {optimal_value1:.3f}.')\n",
    "print()\n",
    "print(result)"
   ]
  },
  {
   "cell_type": "markdown",
   "metadata": {},
   "source": [
    "Changing the optimizer to SPSA, which is designed to work in noisy environments, gets us a better result. Though the noise has affected the outcome so it's not as accurate."
   ]
  },
  {
   "cell_type": "code",
   "execution_count": 7,
   "metadata": {},
   "outputs": [
    {
     "name": "stdout",
     "output_type": "stream",
     "text": [
      "{   'aux_operator_eigenvalues': None,\n",
      "    'cost_function_evals': 200,\n",
      "    'eigenstate': {'01': 0.993140536379419, '10': 0.11692679333668567},\n",
      "    'eigenvalue': -1.8618521132262453,\n",
      "    'optimal_parameters': {   ParameterVectorElement(θ[4]): -2.3482177711024588,\n",
      "                              ParameterVectorElement(θ[2]): -0.23941337071033308,\n",
      "                              ParameterVectorElement(θ[7]): 0.22755580746001913,\n",
      "                              ParameterVectorElement(θ[3]): 6.6402821272229335,\n",
      "                              ParameterVectorElement(θ[6]): -4.707529314643045,\n",
      "                              ParameterVectorElement(θ[1]): 3.325806567734803,\n",
      "                              ParameterVectorElement(θ[5]): 3.0118347096051314,\n",
      "                              ParameterVectorElement(θ[0]): 3.676715527111659},\n",
      "    'optimal_point': array([ 3.67671553,  3.32580657, -0.23941337,  6.64028213, -2.34821777,\n",
      "        3.01183471, -4.70752931,  0.22755581]),\n",
      "    'optimal_value': -1.8618521132262453,\n",
      "    'optimizer_evals': 200,\n",
      "    'optimizer_time': 1.2898402214050293}\n"
     ]
    }
   ],
   "source": [
    "from qiskit.algorithms.optimizers import SPSA\n",
    "\n",
    "algorithm_globals.random_seed = seed\n",
    "qi = QuantumInstance(Aer.get_backend('aer_simulator'), seed_transpiler=seed, seed_simulator=seed)\n",
    "\n",
    "ansatz = TwoLocal(rotation_blocks='ry', entanglement_blocks='cz')\n",
    "slsqp = SPSA(maxiter=100)\n",
    "vqe = VQE(ansatz, optimizer=slsqp, quantum_instance=qi)\n",
    "result = vqe.compute_minimum_eigenvalue(operator=H2_op)\n",
    "print(result)"
   ]
  },
  {
   "cell_type": "markdown",
   "metadata": {},
   "source": [
    "As mentioned above, an expectation object can be explicitly given (so the internal `ExpectationFactory` and include_custom are never used/needed. Below we create an `AerPauliExpectation` and pass this to VQE. We can see the result matches that above where we set include_custom to True and let VQE create its own expectation object."
   ]
  },
  {
   "cell_type": "code",
   "execution_count": 8,
   "metadata": {},
   "outputs": [
    {
     "name": "stdout",
     "output_type": "stream",
     "text": [
      "{   'aux_operator_eigenvalues': None,\n",
      "    'cost_function_evals': 65,\n",
      "    'eigenstate': {'01': 0.9921567416492215, '10': 0.125},\n",
      "    'eigenvalue': -1.8572750175807682,\n",
      "    'optimal_parameters': {   ParameterVectorElement(θ[3]): 6.092947713510392,\n",
      "                              ParameterVectorElement(θ[7]): 0.3602071559531031,\n",
      "                              ParameterVectorElement(θ[6]): -4.717618259450455,\n",
      "                              ParameterVectorElement(θ[4]): -2.598325866938012,\n",
      "                              ParameterVectorElement(θ[5]): 1.5683258132970883,\n",
      "                              ParameterVectorElement(θ[0]): 4.296520300933687,\n",
      "                              ParameterVectorElement(θ[1]): 4.426962159645716,\n",
      "                              ParameterVectorElement(θ[2]): 0.5470752986013949},\n",
      "    'optimal_point': array([ 4.2965203 ,  4.42696216,  0.5470753 ,  6.09294771, -2.59832587,\n",
      "        1.56832581, -4.71761826,  0.36020716]),\n",
      "    'optimal_value': -1.8572750175807682,\n",
      "    'optimizer_evals': 65,\n",
      "    'optimizer_time': 0.20196986198425293}\n"
     ]
    }
   ],
   "source": [
    "from qiskit.opflow import AerPauliExpectation\n",
    "\n",
    "algorithm_globals.random_seed = seed\n",
    "qi = QuantumInstance(Aer.get_backend('aer_simulator'), seed_transpiler=seed, seed_simulator=seed)\n",
    "\n",
    "ansatz = TwoLocal(rotation_blocks='ry', entanglement_blocks='cz')\n",
    "slsqp = SLSQP(maxiter=1000)\n",
    "vqe = VQE(ansatz, optimizer=slsqp, quantum_instance=qi,\n",
    "          expectation=AerPauliExpectation())\n",
    "result = vqe.compute_minimum_eigenvalue(operator=H2_op)\n",
    "print(result)"
   ]
  },
  {
   "cell_type": "markdown",
   "metadata": {},
   "source": [
    "By default, the `PauliExpectation` object, that would have be chosen when include_custom is False (or when using Aer aer_simulator, or a real device) groups Paulis into commuting sets. This is efficient as it runs less circuits to compute the expectation. However, if for some reason you wanted to run a circuit for each Pauli then then grouping can be turned off when constructing the PauliExpectation. You need to explicitly pass in such an expectation instance to VQE to have it work this way though as shown below."
   ]
  },
  {
   "cell_type": "code",
   "execution_count": 9,
   "metadata": {},
   "outputs": [
    {
     "name": "stdout",
     "output_type": "stream",
     "text": [
      "{   'aux_operator_eigenvalues': None,\n",
      "    'cost_function_evals': 200,\n",
      "    'eigenstate': {'01': 0.9916644782889019, '10': 0.1288470508005519},\n",
      "    'eigenvalue': -1.8649830308114583,\n",
      "    'optimal_parameters': {   ParameterVectorElement(θ[5]): 2.9887235542230144,\n",
      "                              ParameterVectorElement(θ[0]): 3.6833958480452034,\n",
      "                              ParameterVectorElement(θ[1]): 3.3827104248942383,\n",
      "                              ParameterVectorElement(θ[7]): 0.18495131387681946,\n",
      "                              ParameterVectorElement(θ[6]): -4.76651492079903,\n",
      "                              ParameterVectorElement(θ[2]): -0.2651696479429452,\n",
      "                              ParameterVectorElement(θ[3]): 6.699789960055848,\n",
      "                              ParameterVectorElement(θ[4]): -2.282559635034206},\n",
      "    'optimal_point': array([ 3.68339585,  3.38271042, -0.26516965,  6.69978996, -2.28255964,\n",
      "        2.98872355, -4.76651492,  0.18495131]),\n",
      "    'optimal_value': -1.8649830308114583,\n",
      "    'optimizer_evals': 200,\n",
      "    'optimizer_time': 2.700853109359741}\n"
     ]
    }
   ],
   "source": [
    "from qiskit.opflow import PauliExpectation\n",
    "\n",
    "algorithm_globals.random_seed = seed\n",
    "qi = QuantumInstance(Aer.get_backend('aer_simulator'), seed_transpiler=seed, seed_simulator=seed)\n",
    "\n",
    "ansatz = TwoLocal(rotation_blocks='ry', entanglement_blocks='cz')\n",
    "slsqp = SPSA(maxiter=100)\n",
    "vqe = VQE(ansatz, optimizer=slsqp, quantum_instance=qi,\n",
    "          expectation=PauliExpectation(group_paulis=False))\n",
    "result = vqe.compute_minimum_eigenvalue(operator=H2_op)\n",
    "print(result)"
   ]
  },
  {
   "cell_type": "markdown",
   "metadata": {},
   "source": [
    "## Gradient\n",
    "\n",
    "Optimizers that use a gradient-based technique can be supplied with a user defined gradient that will be used instead of their default gradient computation which is usually done by simple finite difference. Gradients are passed indirectly via to the optimizer via its `gradient` parameter.\n",
    "\n",
    "As the use of a user supplied `gradient` was shown in the [Monitoring VQE Convergence](02_vqe_convergence.ipynb#Using-Gradient-framework) tutorial I will simply refer you there. Also the [Gradients framework](../operators/02_gradients_framework.ipynb) tutorial has much more about the gradients themselves."
   ]
  },
  {
   "cell_type": "markdown",
   "metadata": {},
   "source": [
    "## Quantum Instance and advanced simulation\n",
    "\n",
    "While you may be familiar with passing a QuantumInstancen created from a `aer_simulator_statevector` a `aer_simulator` or   real device backend, it is possible to use the advanced simulation modes of Aer too when applicable. For instance we can easily use the Aer [Matrix Product State](../simulators/7_matrix_product_state_method.ipynb) method, that has the potential to scale to larger numbers of qubits."
   ]
  },
  {
   "cell_type": "code",
   "execution_count": 10,
   "metadata": {},
   "outputs": [
    {
     "name": "stdout",
     "output_type": "stream",
     "text": [
      "{   'aux_operator_eigenvalues': None,\n",
      "    'cost_function_evals': 65,\n",
      "    'eigenstate': {'01': 0.9921567416492215, '10': 0.125},\n",
      "    'eigenvalue': -1.8572750175807682,\n",
      "    'optimal_parameters': {   ParameterVectorElement(θ[2]): 0.5470752986013949,\n",
      "                              ParameterVectorElement(θ[3]): 6.092947713510392,\n",
      "                              ParameterVectorElement(θ[5]): 1.5683258132970883,\n",
      "                              ParameterVectorElement(θ[7]): 0.3602071559531031,\n",
      "                              ParameterVectorElement(θ[4]): -2.598325866938012,\n",
      "                              ParameterVectorElement(θ[1]): 4.426962159645716,\n",
      "                              ParameterVectorElement(θ[6]): -4.717618259450455,\n",
      "                              ParameterVectorElement(θ[0]): 4.296520300933687},\n",
      "    'optimal_point': array([ 4.2965203 ,  4.42696216,  0.5470753 ,  6.09294771, -2.59832587,\n",
      "        1.56832581, -4.71761826,  0.36020716]),\n",
      "    'optimal_value': -1.8572750175807682,\n",
      "    'optimizer_evals': 65,\n",
      "    'optimizer_time': 0.2019951343536377}\n"
     ]
    }
   ],
   "source": [
    "algorithm_globals.random_seed = seed\n",
    "\n",
    "from qiskit.providers.aer import QasmSimulator\n",
    "quantum_instance = QuantumInstance(QasmSimulator(method='matrix_product_state'), shots=1)\n",
    "\n",
    "ansatz = TwoLocal(rotation_blocks='ry', entanglement_blocks='cz')\n",
    "slsqp = SLSQP(maxiter=1000)\n",
    "vqe = VQE(ansatz, optimizer=slsqp, quantum_instance=qi, include_custom=True)\n",
    "result = vqe.compute_minimum_eigenvalue(operator=H2_op)\n",
    "print(result)"
   ]
  },
  {
   "cell_type": "code",
   "execution_count": 11,
   "metadata": {},
   "outputs": [
    {
     "data": {
      "text/html": [
       "<h3>Version Information</h3><table><tr><th>Qiskit Software</th><th>Version</th></tr><tr><td>Qiskit</td><td>None</td></tr><tr><td>Terra</td><td>0.18.0.dev0+5920b66</td></tr><tr><td>Aer</td><td>0.9.0</td></tr><tr><td>Ignis</td><td>0.7.0.dev0+8195559</td></tr><tr><td>Aqua</td><td>None</td></tr><tr><td>IBM Q Provider</td><td>None</td></tr><tr><th>System information</th></tr><tr><td>Python</td><td>3.8.8 (default, Apr 13 2021, 12:59:45) \n",
       "[Clang 10.0.0 ]</td></tr><tr><td>OS</td><td>Darwin</td></tr><tr><td>CPUs</td><td>2</td></tr><tr><td>Memory (Gb)</td><td>12.0</td></tr><tr><td colspan='2'>Thu May 27 11:03:27 2021 EDT</td></tr></table>"
      ],
      "text/plain": [
       "<IPython.core.display.HTML object>"
      ]
     },
     "metadata": {},
     "output_type": "display_data"
    },
    {
     "data": {
      "text/html": [
       "<div style='width: 100%; background-color:#d5d9e0;padding-left: 10px; padding-bottom: 10px; padding-right: 10px; padding-top: 5px'><h3>This code is a part of Qiskit</h3><p>&copy; Copyright IBM 2017, 2021.</p><p>This code is licensed under the Apache License, Version 2.0. You may<br>obtain a copy of this license in the LICENSE.txt file in the root directory<br> of this source tree or at http://www.apache.org/licenses/LICENSE-2.0.<p>Any modifications or derivative works of this code must retain this<br>copyright notice, and modified files need to carry a notice indicating<br>that they have been altered from the originals.</p></div>"
      ],
      "text/plain": [
       "<IPython.core.display.HTML object>"
      ]
     },
     "metadata": {},
     "output_type": "display_data"
    }
   ],
   "source": [
    "import qiskit.tools.jupyter\n",
    "%qiskit_version_table\n",
    "%qiskit_copyright"
   ]
  },
  {
   "cell_type": "code",
   "execution_count": null,
   "metadata": {},
   "outputs": [],
   "source": []
  }
 ],
 "metadata": {
  "kernelspec": {
   "display_name": "Python 3",
   "language": "python",
   "name": "python3"
  },
  "language_info": {
   "codemirror_mode": {
    "name": "ipython",
    "version": 3
   },
   "file_extension": ".py",
   "mimetype": "text/x-python",
   "name": "python",
   "nbconvert_exporter": "python",
   "pygments_lexer": "ipython3",
   "version": "3.8.8"
  }
 },
 "nbformat": 4,
 "nbformat_minor": 2
}
