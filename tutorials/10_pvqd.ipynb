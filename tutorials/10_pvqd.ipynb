{
 "cells": [
  {
   "cell_type": "markdown",
   "metadata": {},
   "source": [
    "# Projected Variational Quantum Dynamics\n",
    "\n",
    "The projected Variational Quantum Dynamics (p-VQD) algorithm is a quantum algorithm for real time evolution. It's a variational algorithm that projects the state at time $t + \\Delta_t$, as calculated with Trotterization, onto a parameterized quantum circuit.\n",
    "\n",
    "For a quantum state $|\\phi(\\theta)\\rangle = U(\\theta)|0\\rangle$ constructed by a parameterized quantum circuit $U(\\theta)$ and a Hamiltonian $H$, the update rule can be written as\n",
    "\n",
    "$$\n",
    "\\theta_{n+1} = \\theta_n + \\arg\\min_{\\delta\\theta} 1 - |\\langle\\phi(\\theta_n + \\delta\\theta)|e^{-i\\Delta_t H}|\\phi(\\theta_n)\\rangle|^2,\n",
    "$$\n",
    "\n",
    "where $e^{-i\\Delta_t H}$ is calculated with a Trotter expansion (using e.g. the [PauliEvolutionGate](https://quantum.cloud.ibm.com/docs/api/qiskit/qiskit.circuit.library.PauliEvolutionGate) in Qiskit!).\n",
    "\n",
    "The following tutorial explores the p-VQD algorithm, which is available as the [PVQD](https://qiskit-community.github.io/qiskit-algorithms/stubs/qiskit_algorithms.PVQD.html) class. For details on the algorithm, see the original paper: [Barison et al. Quantum 5, 512 (2021)](https://quantum-journal.org/papers/q-2021-07-28-512/#)."
   ]
  },
  {
   "cell_type": "markdown",
   "metadata": {},
   "source": [
    "The example we're looking at is the time evolution of the $|00\\rangle$ state under the Hamiltonian\n",
    "\n",
    "$$\n",
    "    H = 0.1 Z_1 Z_2 + X_1 + X_2,\n",
    "$$\n",
    "\n",
    "which is an Ising Hamiltonian on two neighboring spins, up to a time $T=1$, where we want to keep track of the total magnetization $M = Z_1 + Z_2$ as an observable."
   ]
  },
  {
   "cell_type": "code",
   "execution_count": 1,
   "metadata": {
    "execution": {
     "iopub.execute_input": "2025-09-09T09:44:30.053065Z",
     "iopub.status.busy": "2025-09-09T09:44:30.052703Z",
     "iopub.status.idle": "2025-09-09T09:44:30.376344Z",
     "shell.execute_reply": "2025-09-09T09:44:30.375672Z"
    }
   },
   "outputs": [],
   "source": [
    "from qiskit.quantum_info import SparsePauliOp\n",
    "\n",
    "final_time = 1\n",
    "hamiltonian = SparsePauliOp.from_sparse_list(\n",
    "    [\n",
    "        (\"ZZ\", [0, 1], 0.1),\n",
    "        (\"X\", [0], 1),\n",
    "        (\"X\", [1], 1),\n",
    "    ],\n",
    "    num_qubits=2,\n",
    ")\n",
    "observable = SparsePauliOp([\"ZI\", \"IZ\"])"
   ]
  },
  {
   "cell_type": "markdown",
   "metadata": {},
   "source": [
    "After defining our Hamiltonian and observable, we need to choose the parameterized ansatz we project the update steps onto. We have different choices here, but for real time evolution an ansatz that contains building blocks of the evolved Hamiltonian usually performs very well."
   ]
  },
  {
   "cell_type": "code",
   "execution_count": 2,
   "metadata": {
    "execution": {
     "iopub.execute_input": "2025-09-09T09:44:30.378745Z",
     "iopub.status.busy": "2025-09-09T09:44:30.378462Z",
     "iopub.status.idle": "2025-09-09T09:44:31.210563Z",
     "shell.execute_reply": "2025-09-09T09:44:31.209776Z"
    }
   },
   "outputs": [
    {
     "data": {
      "image/png": "[encoded data removed]",
      "text/plain": [
       "<Figure size 454.517x200.667 with 1 Axes>"
      ]
     },
     "execution_count": 2,
     "metadata": {},
     "output_type": "execute_result"
    }
   ],
   "source": [
    "from qiskit.circuit import QuantumCircuit, ParameterVector\n",
    "\n",
    "theta = ParameterVector(r\"$\\theta$\", 5)\n",
    "ansatz = QuantumCircuit(2)\n",
    "ansatz.rx(theta[0], 0)\n",
    "ansatz.rx(theta[1], 1)\n",
    "ansatz.rzz(theta[2], 0, 1)\n",
    "ansatz.rx(theta[3], 0)\n",
    "ansatz.rx(theta[4], 1)\n",
    "\n",
    "# you can try different circuits, like:\n",
    "# from qiskit.circuit.library import efficient_su2\n",
    "# ansatz = efficient_su2(2, reps=1)\n",
    "\n",
    "ansatz.draw(\"mpl\")"
   ]
  },
  {
   "cell_type": "markdown",
   "metadata": {},
   "source": [
    "With this ansatz, the $|00\\rangle$ state is prepared if all parameters are 0. Hence we'll set the initial parameters to $\\theta_0 = 0$:"
   ]
  },
  {
   "cell_type": "code",
   "execution_count": 3,
   "metadata": {
    "execution": {
     "iopub.execute_input": "2025-09-09T09:44:31.213036Z",
     "iopub.status.busy": "2025-09-09T09:44:31.212688Z",
     "iopub.status.idle": "2025-09-09T09:44:31.215812Z",
     "shell.execute_reply": "2025-09-09T09:44:31.215254Z"
    }
   },
   "outputs": [],
   "source": [
    "import numpy as np\n",
    "\n",
    "initial_parameters = np.zeros(ansatz.num_parameters)"
   ]
  },
  {
   "cell_type": "markdown",
   "metadata": {},
   "source": [
    "Before running the p-VQD algorithm, we need to select the backend and how we want to calculate the expectation values. Here, we'll perform exact statevector simulations (which are still very fast, as we investigate a 2 qubit system) through the reference primitive implementations found in `qiskit.primitives`."
   ]
  },
  {
   "cell_type": "code",
   "execution_count": 4,
   "metadata": {
    "execution": {
     "iopub.execute_input": "2025-09-09T09:44:31.217777Z",
     "iopub.status.busy": "2025-09-09T09:44:31.217566Z",
     "iopub.status.idle": "2025-09-09T09:44:31.733424Z",
     "shell.execute_reply": "2025-09-09T09:44:31.732684Z"
    }
   },
   "outputs": [],
   "source": [
    "from qiskit.primitives import StatevectorSampler, StatevectorEstimator\n",
    "from qiskit_algorithms.state_fidelities import ComputeUncompute\n",
    "\n",
    "# the fidelity is used to evaluate the objective: the overlap of the variational form and the trotter step\n",
    "sampler = StatevectorSampler(default_shots=10_000, seed=42)\n",
    "fidelity = ComputeUncompute(sampler)\n",
    "\n",
    "# the estimator is used to evaluate the observables\n",
    "estimator = StatevectorEstimator(seed=43)"
   ]
  },
  {
   "cell_type": "markdown",
   "metadata": {},
   "source": [
    "Since p-VQD performs a classical optimization in each timestep to determine the best parameters for the projection, we also have to specify the classical optimizer. As a first example we're using BFGS, which typically works well in statevector simulations, but later we can switch to gradient descent."
   ]
  },
  {
   "cell_type": "code",
   "execution_count": 5,
   "metadata": {
    "execution": {
     "iopub.execute_input": "2025-09-09T09:44:31.735895Z",
     "iopub.status.busy": "2025-09-09T09:44:31.735542Z",
     "iopub.status.idle": "2025-09-09T09:44:31.738684Z",
     "shell.execute_reply": "2025-09-09T09:44:31.738113Z"
    }
   },
   "outputs": [],
   "source": [
    "from qiskit_algorithms.optimizers import L_BFGS_B\n",
    "\n",
    "bfgs = L_BFGS_B()"
   ]
  },
  {
   "cell_type": "markdown",
   "metadata": {},
   "source": [
    "Now we can define p-VQD and execute it!"
   ]
  },
  {
   "cell_type": "code",
   "execution_count": 6,
   "metadata": {
    "execution": {
     "iopub.execute_input": "2025-09-09T09:44:31.740743Z",
     "iopub.status.busy": "2025-09-09T09:44:31.740533Z",
     "iopub.status.idle": "2025-09-09T09:44:31.743607Z",
     "shell.execute_reply": "2025-09-09T09:44:31.743052Z"
    }
   },
   "outputs": [],
   "source": [
    "from qiskit_algorithms import PVQD\n",
    "\n",
    "pvqd = PVQD(\n",
    "    fidelity, ansatz, initial_parameters, estimator=estimator, num_timesteps=100, optimizer=bfgs\n",
    ")"
   ]
  },
  {
   "cell_type": "markdown",
   "metadata": {},
   "source": [
    "The p-VQD implementation follows Qiskit's time evolution interface, thus we pack all information of the evolution problem into an input class: the `hamiltonian` under which we evolve the state, the `final_time` of the evolution and the observables (`aux_operators`) we keep track of."
   ]
  },
  {
   "cell_type": "code",
   "execution_count": 7,
   "metadata": {
    "execution": {
     "iopub.execute_input": "2025-09-09T09:44:31.745522Z",
     "iopub.status.busy": "2025-09-09T09:44:31.745320Z",
     "iopub.status.idle": "2025-09-09T09:44:31.748500Z",
     "shell.execute_reply": "2025-09-09T09:44:31.747933Z"
    }
   },
   "outputs": [],
   "source": [
    "from qiskit_algorithms import TimeEvolutionProblem\n",
    "\n",
    "problem = TimeEvolutionProblem(\n",
    "    hamiltonian, time=final_time, aux_operators=[hamiltonian, observable]\n",
    ")"
   ]
  },
  {
   "cell_type": "markdown",
   "metadata": {},
   "source": [
    "And then run the algorithm! Beware that for a large number of shots to compute the fidelity, running the algorithm might take a while."
   ]
  },
  {
   "cell_type": "code",
   "execution_count": 8,
   "metadata": {
    "execution": {
     "iopub.execute_input": "2025-09-09T09:44:31.750462Z",
     "iopub.status.busy": "2025-09-09T09:44:31.750241Z",
     "iopub.status.idle": "2025-09-09T09:53:43.613003Z",
     "shell.execute_reply": "2025-09-09T09:53:43.612224Z"
    }
   },
   "outputs": [
    {
     "name": "stdout",
     "output_type": "stream",
     "text": [
      "{   'aux_ops_evaluated': array([ 0.54894508, -0.64803032]),\n",
      "    'estimated_error': 0.0,\n",
      "    'evolved_state': <qiskit.circuit.quantumcircuit.QuantumCircuit object at 0x7f9890859db0>,\n",
      "    'fidelities': [   1.0,\n",
      "                      np.float64(1.0),\n",
      "                      np.float64(1.0),\n",
      "                      np.float64(1.0),\n",
      "                      np.float64(1.0),\n",
      "                      np.float64(1.0),\n",
      "                      np.float64(1.0),\n",
      "                      np.float64(1.0),\n",
      "                      np.float64(1.0),\n",
      "                      np.float64(1.0),\n",
      "                      np.float64(1.0),\n",
      "                      np.float64(1.0),\n",
      "                      np.float64(1.0),\n",
      "                      np.float64(1.0),\n",
      "                      np.float64(1.0),\n",
      "                      np.float64(1.0),\n",
      "                      np.float64(1.0),\n",
      "                      np.float64(1.0),\n",
      "                      np.float64(1.0),\n",
      "                      np.float64(1.0),\n",
      "                      np.float64(1.0),\n",
      "                      np.float64(1.0),\n",
      "                      np.float64(1.0),\n",
      "                      np.float64(1.0),\n",
      "                      np.float64(1.0),\n",
      "                      np.float64(1.0),\n",
      "                      np.float64(1.0),\n",
      "                      np.float64(1.0),\n",
      "                      np.float64(1.0),\n",
      "                      np.float64(1.0),\n",
      "                      np.float64(1.0),\n",
      "                      np.float64(1.0),\n",
      "                      np.float64(1.0),\n",
      "                      np.float64(1.0),\n",
      "                      np.float64(1.0),\n",
      "                      np.float64(1.0),\n",
      "                      np.float64(1.0),\n",
      "                      np.float64(1.0),\n",
      "                      np.float64(1.0),\n",
      "                      np.float64(1.0),\n",
      "                      np.float64(1.0),\n",
      "                      np.float64(1.0),\n",
      "                      np.float64(1.0),\n",
      "                      np.float64(1.0),\n",
      "                      np.float64(1.0),\n",
      "                      np.float64(1.0),\n",
      "                      np.float64(1.0),\n",
      "                      np.float64(1.0),\n",
      "                      np.float64(1.0),\n",
      "                      np.float64(1.0),\n",
      "                      np.float64(1.0),\n",
      "                      np.float64(1.0),\n",
      "                      np.float64(1.0),\n",
      "                      np.float64(1.0),\n",
      "                      np.float64(1.0),\n",
      "                      np.float64(1.0),\n",
      "                      np.float64(1.0),\n",
      "                      np.float64(1.0),\n",
      "                      np.float64(1.0),\n",
      "                      np.float64(1.0),\n",
      "                      np.float64(1.0),\n",
      "                      np.float64(1.0),\n",
      "                      np.float64(1.0),\n",
      "                      np.float64(1.0),\n",
      "                      np.float64(1.0),\n",
      "                      np.float64(1.0),\n",
      "                      np.float64(1.0),\n",
      "                      np.float64(1.0),\n",
      "                      np.float64(1.0),\n",
      "                      np.float64(1.0),\n",
      "                      np.float64(1.0),\n",
      "                      np.float64(1.0),\n",
      "                      np.float64(1.0),\n",
      "                      np.float64(1.0),\n",
      "                      np.float64(1.0),\n",
      "                      np.float64(1.0),\n",
      "                      np.float64(1.0),\n",
      "                      np.float64(1.0),\n",
      "                      np.float64(1.0),\n",
      "                      np.float64(1.0),\n",
      "                      np.float64(1.0),\n",
      "                      np.float64(1.0),\n",
      "                      np.float64(1.0),\n",
      "                      np.float64(1.0),\n",
      "                      np.float64(1.0),\n",
      "                      np.float64(1.0),\n",
      "                      np.float64(1.0),\n",
      "                      np.float64(1.0),\n",
      "                      np.float64(1.0),\n",
      "                      np.float64(1.0),\n",
      "                      np.float64(1.0),\n",
      "                      np.float64(1.0),\n",
      "                      np.float64(1.0),\n",
      "                      np.float64(1.0),\n",
      "                      np.float64(1.0),\n",
      "                      np.float64(1.0),\n",
      "                      np.float64(1.0),\n",
      "                      np.float64(1.0),\n",
      "                      np.float64(1.0),\n",
      "                      np.float64(1.0),\n",
      "                      np.float64(1.0)],\n",
      "    'observables': [   array([0.1, 2. ]),\n",
      "                       array([0.10010017, 1.9996105 ]),\n",
      "                       array([0.10040066, 1.99844224]),\n",
      "                       array([0.10090137, 1.99649591]),\n",
      "                       array([0.10160216, 1.99377264]),\n",
      "                       array([0.10250284, 1.99027407]),\n",
      "                       array([0.10360313, 1.98600224]),\n",
      "                       array([0.10490273, 1.98095969]),\n",
      "                       array([0.10640125, 1.97514938]),\n",
      "                       array([0.10809825, 1.96857476]),\n",
      "                       array([0.10999323, 1.96123969]),\n",
      "                       array([0.11208562, 1.95314852]),\n",
      "                       array([0.11437481, 1.94430601]),\n",
      "                       array([0.11686009, 1.93471737]),\n",
      "                       array([0.1195407 , 1.92438827]),\n",
      "                       array([0.12241583, 1.9133248 ]),\n",
      "                       array([0.12548456, 1.90153346]),\n",
      "                       array([0.12874594, 1.88902122]),\n",
      "                       array([0.13219891, 1.87579543]),\n",
      "                       array([0.13584237, 1.86186389]),\n",
      "                       array([0.13967513, 1.84723479]),\n",
      "                       array([0.1436959 , 1.83191674]),\n",
      "                       array([0.14790333, 1.81591874]),\n",
      "                       array([0.15229599, 1.7992502 ]),\n",
      "                       array([0.15687236, 1.78192091]),\n",
      "                       array([0.16163083, 1.76394103]),\n",
      "                       array([0.16656969, 1.74532112]),\n",
      "                       array([0.17168717, 1.72607211]),\n",
      "                       array([0.17698137, 1.70620526]),\n",
      "                       array([0.18245031, 1.68573221]),\n",
      "                       array([0.18809192, 1.66466495]),\n",
      "                       array([0.19390401, 1.6430158 ]),\n",
      "                       array([0.19988429, 1.6207974 ]),\n",
      "                       array([0.20603039, 1.59802275]),\n",
      "                       array([0.2123398 , 1.57470512]),\n",
      "                       array([0.21880992, 1.55085812]),\n",
      "                       array([0.22543802, 1.52649564]),\n",
      "                       array([0.23222128, 1.50163186]),\n",
      "                       array([0.23915675, 1.47628124]),\n",
      "                       array([0.24624136, 1.45045852]),\n",
      "                       array([0.25347193, 1.42417867]),\n",
      "                       array([0.26084515, 1.39745695]),\n",
      "                       array([0.2683576 , 1.37030884]),\n",
      "                       array([0.27600571, 1.34275004]),\n",
      "                       array([0.28378582, 1.3147965 ]),\n",
      "                       array([0.29169412, 1.28646434]),\n",
      "                       array([0.29972667, 1.25776992]),\n",
      "                       array([0.30787941, 1.22872976]),\n",
      "                       array([0.31614816, 1.19936057]),\n",
      "                       array([0.3245286 , 1.16967923]),\n",
      "                       array([0.33301626, 1.13970278]),\n",
      "                       array([0.34160658, 1.10944839]),\n",
      "                       array([0.35029483, 1.07893339]),\n",
      "                       array([0.35907618, 1.0481752 ]),\n",
      "                       array([0.36794564, 1.01719138]),\n",
      "                       array([0.37689812, 0.98599958]),\n",
      "                       array([0.38592839, 0.95461755]),\n",
      "                       array([0.39503107, 0.92306311]),\n",
      "                       array([0.40420068, 0.89135415]),\n",
      "                       array([0.41343161, 0.85950861]),\n",
      "                       array([0.42271811, 0.82754449]),\n",
      "                       array([0.43205432, 0.79547982]),\n",
      "                       array([0.44143426, 0.76333264]),\n",
      "                       array([0.45085182, 0.73112101]),\n",
      "                       array([0.46030078, 0.69886299]),\n",
      "                       array([0.46977481, 0.66657662]),\n",
      "                       array([0.47926746, 0.63427993]),\n",
      "                       array([0.48877219, 0.6019909 ]),\n",
      "                       array([0.49828233, 0.56972749]),\n",
      "                       array([0.50779112, 0.53750757]),\n",
      "                       array([0.51729172, 0.50534896]),\n",
      "                       array([0.52677716, 0.47326941]),\n",
      "                       array([0.53624042, 0.44128655]),\n",
      "                       array([0.54567436, 0.40941795]),\n",
      "                       array([0.5550718 , 0.37768103]),\n",
      "                       array([0.55545732, 0.33807244]),\n",
      "                       array([0.55578782, 0.29833591]),\n",
      "                       array([0.5560646 , 0.25848879]),\n",
      "                       array([0.55628886, 0.21854852]),\n",
      "                       array([0.55646169, 0.17853257]),\n",
      "                       array([0.55658406, 0.1384585 ]),\n",
      "                       array([0.55665683, 0.09834392]),\n",
      "                       array([0.55668076, 0.05820645]),\n",
      "                       array([0.55665649, 0.01806377]),\n",
      "                       array([ 0.55658453, -0.0220664 ]),\n",
      "                       array([ 0.5564653 , -0.06216636]),\n",
      "                       array([ 0.5562991 , -0.10221837]),\n",
      "                       array([ 0.5560861 , -0.14220471]),\n",
      "                       array([ 0.55582638, -0.18210764]),\n",
      "                       array([ 0.5555199 , -0.22190946]),\n",
      "                       array([ 0.55516652, -0.26159247]),\n",
      "                       array([ 0.55476597, -0.30113903]),\n",
      "                       array([ 0.55431789, -0.34053152]),\n",
      "                       array([ 0.55382181, -0.37975237]),\n",
      "                       array([ 0.55327715, -0.41878406]),\n",
      "                       array([ 0.55268326, -0.45760914]),\n",
      "                       array([ 0.55203936, -0.49621025]),\n",
      "                       array([ 0.55134459, -0.53457008]),\n",
      "                       array([ 0.550598  , -0.57267143]),\n",
      "                       array([ 0.54979854, -0.61049717]),\n",
      "                       array([ 0.54894508, -0.64803032])],\n",
      "    'parameters': [   array([0., 0., 0., 0., 0.]),\n",
      "                      array([0.00764763, 0.00909888, 0.0083077 , 0.01205852, 0.01066726]),\n",
      "                      array([0.01529526, 0.01819776, 0.0166154 , 0.02411705, 0.02133452]),\n",
      "                      array([0.02294289, 0.02729664, 0.0249231 , 0.03617557, 0.03200178]),\n",
      "                      array([0.03059051, 0.03639552, 0.0332308 , 0.0482341 , 0.04266905]),\n",
      "                      array([0.03823814, 0.0454944 , 0.0415385 , 0.06029262, 0.05333631]),\n",
      "                      array([0.04588577, 0.05459328, 0.0498462 , 0.07235115, 0.06400357]),\n",
      "                      array([0.0535334 , 0.06369216, 0.0581539 , 0.08440967, 0.07467083]),\n",
      "                      array([0.06118103, 0.07279105, 0.0664616 , 0.0964682 , 0.08533809]),\n",
      "                      array([0.06882866, 0.08188993, 0.0747693 , 0.10852672, 0.09600535]),\n",
      "                      array([0.07647629, 0.09098881, 0.083077  , 0.12058525, 0.10667262]),\n",
      "                      array([0.08412392, 0.10008769, 0.0913847 , 0.13264377, 0.11733988]),\n",
      "                      array([0.09177154, 0.10918657, 0.0996924 , 0.1447023 , 0.12800714]),\n",
      "                      array([0.09941917, 0.11828545, 0.1080001 , 0.15676082, 0.1386744 ]),\n",
      "                      array([0.1070668 , 0.12738433, 0.1163078 , 0.16881935, 0.14934166]),\n",
      "                      array([0.11471443, 0.13648321, 0.1246155 , 0.18087787, 0.16000892]),\n",
      "                      array([0.12236206, 0.14558209, 0.1329232 , 0.1929364 , 0.17067619]),\n",
      "                      array([0.13000969, 0.15468097, 0.1412309 , 0.20499492, 0.18134345]),\n",
      "                      array([0.13765732, 0.16377985, 0.1495386 , 0.21705345, 0.19201071]),\n",
      "                      array([0.14530495, 0.17287873, 0.1578463 , 0.22911197, 0.20267797]),\n",
      "                      array([0.15295257, 0.18197761, 0.16615399, 0.2411705 , 0.21334523]),\n",
      "                      array([0.1606002 , 0.19107649, 0.17446169, 0.25322902, 0.22401249]),\n",
      "                      array([0.16824783, 0.20017538, 0.18276939, 0.26528754, 0.23467976]),\n",
      "                      array([0.17589546, 0.20927426, 0.19107709, 0.27734607, 0.24534702]),\n",
      "                      array([0.18354309, 0.21837314, 0.19938479, 0.28940459, 0.25601428]),\n",
      "                      array([0.19119072, 0.22747202, 0.20769249, 0.30146312, 0.26668154]),\n",
      "                      array([0.19883835, 0.2365709 , 0.21600019, 0.31352164, 0.2773488 ]),\n",
      "                      array([0.20648598, 0.24566978, 0.22430789, 0.32558017, 0.28801606]),\n",
      "                      array([0.2141336 , 0.25476866, 0.23261559, 0.33763869, 0.29868333]),\n",
      "                      array([0.22178123, 0.26386754, 0.24092329, 0.34969722, 0.30935059]),\n",
      "                      array([0.22942886, 0.27296642, 0.24923099, 0.36175574, 0.32001785]),\n",
      "                      array([0.23707649, 0.2820653 , 0.25753869, 0.37381427, 0.33068511]),\n",
      "                      array([0.24472412, 0.29116418, 0.26584639, 0.38587279, 0.34135237]),\n",
      "                      array([0.25237175, 0.30026306, 0.27415409, 0.39793132, 0.35201963]),\n",
      "                      array([0.26001938, 0.30936194, 0.28246179, 0.40998984, 0.3626869 ]),\n",
      "                      array([0.267667  , 0.31846082, 0.29076949, 0.42204837, 0.37335416]),\n",
      "                      array([0.27531463, 0.3275597 , 0.29907719, 0.43410689, 0.38402142]),\n",
      "                      array([0.28296226, 0.33665859, 0.30738489, 0.44616542, 0.39468868]),\n",
      "                      array([0.29060989, 0.34575747, 0.31569259, 0.45822394, 0.40535594]),\n",
      "                      array([0.29825752, 0.35485635, 0.32400029, 0.47028247, 0.4160232 ]),\n",
      "                      array([0.30590515, 0.36395523, 0.33230799, 0.48234099, 0.42669047]),\n",
      "                      array([0.31355278, 0.37305411, 0.34061569, 0.49439952, 0.43735773]),\n",
      "                      array([0.32120041, 0.38215299, 0.34892339, 0.50645804, 0.44802499]),\n",
      "                      array([0.32884803, 0.39125187, 0.35723109, 0.51851656, 0.45869225]),\n",
      "                      array([0.33649566, 0.40035075, 0.36553879, 0.53057509, 0.46935951]),\n",
      "                      array([0.34414329, 0.40944963, 0.37384649, 0.54263361, 0.48002677]),\n",
      "                      array([0.35179092, 0.41854851, 0.38215419, 0.55469214, 0.49069404]),\n",
      "                      array([0.35943855, 0.42764739, 0.39046189, 0.56675066, 0.5013613 ]),\n",
      "                      array([0.36708618, 0.43674627, 0.39876959, 0.57880919, 0.51202856]),\n",
      "                      array([0.37473381, 0.44584515, 0.40707729, 0.59086771, 0.52269582]),\n",
      "                      array([0.38238144, 0.45494403, 0.41538499, 0.60292624, 0.53336308]),\n",
      "                      array([0.39002906, 0.46404291, 0.42369269, 0.61498476, 0.54403034]),\n",
      "                      array([0.39767669, 0.4731418 , 0.43200039, 0.62704329, 0.55469761]),\n",
      "                      array([0.40532432, 0.48224068, 0.44030809, 0.63910181, 0.56536487]),\n",
      "                      array([0.41297195, 0.49133956, 0.44861579, 0.65116034, 0.57603213]),\n",
      "                      array([0.42061958, 0.50043844, 0.45692349, 0.66321886, 0.58669939]),\n",
      "                      array([0.42826721, 0.50953732, 0.46523119, 0.67527739, 0.59736665]),\n",
      "                      array([0.43591484, 0.5186362 , 0.47353889, 0.68733591, 0.60803391]),\n",
      "                      array([0.44356247, 0.52773508, 0.48184658, 0.69939444, 0.61870118]),\n",
      "                      array([0.45121009, 0.53683396, 0.49015428, 0.71145296, 0.62936844]),\n",
      "                      array([0.45885772, 0.54593284, 0.49846198, 0.72351149, 0.6400357 ]),\n",
      "                      array([0.46650535, 0.55503172, 0.50676968, 0.73557001, 0.65070296]),\n",
      "                      array([0.47415298, 0.5641306 , 0.51507738, 0.74762854, 0.66137022]),\n",
      "                      array([0.48180061, 0.57322948, 0.52338508, 0.75968706, 0.67203748]),\n",
      "                      array([0.48944824, 0.58232836, 0.53169278, 0.77174558, 0.68270475]),\n",
      "                      array([0.49709587, 0.59142724, 0.54000048, 0.78380411, 0.69337201]),\n",
      "                      array([0.50474349, 0.60052613, 0.54830818, 0.79586263, 0.70403927]),\n",
      "                      array([0.51239112, 0.60962501, 0.55661588, 0.80792116, 0.71470653]),\n",
      "                      array([0.52003875, 0.61872389, 0.56492358, 0.81997968, 0.72537379]),\n",
      "                      array([0.52768638, 0.62782277, 0.57323128, 0.83203821, 0.73604105]),\n",
      "                      array([0.53533401, 0.63692165, 0.58153898, 0.84409673, 0.74670832]),\n",
      "                      array([0.54298164, 0.64602053, 0.58984668, 0.85615526, 0.75737558]),\n",
      "                      array([0.55062927, 0.65511941, 0.59815438, 0.86821378, 0.76804284]),\n",
      "                      array([0.5582769 , 0.66421829, 0.60646208, 0.88027231, 0.7787101 ]),\n",
      "                      array([0.56592452, 0.67331717, 0.61476978, 0.89233083, 0.78937736]),\n",
      "                      array([0.57271069, 0.68098028, 0.61245275, 0.90683017, 0.80262902]),\n",
      "                      array([0.57949685, 0.68864338, 0.61013572, 0.92132951, 0.81588067]),\n",
      "                      array([0.58628302, 0.69630649, 0.60781869, 0.93582885, 0.82913233]),\n",
      "                      array([0.59306918, 0.7039696 , 0.60550166, 0.9503282 , 0.84238398]),\n",
      "                      array([0.59985535, 0.7116327 , 0.60318463, 0.96482754, 0.85563564]),\n",
      "                      array([0.60664151, 0.71929581, 0.60086761, 0.97932688, 0.86888729]),\n",
      "                      array([0.61342767, 0.72695892, 0.59855058, 0.99382622, 0.88213895]),\n",
      "                      array([0.62021384, 0.73462202, 0.59623355, 1.00832556, 0.8953906 ]),\n",
      "                      array([0.627     , 0.74228513, 0.59391652, 1.0228249 , 0.90864226]),\n",
      "                      array([0.63378617, 0.74994824, 0.59159949, 1.03732424, 0.92189392]),\n",
      "                      array([0.64057233, 0.75761134, 0.58928246, 1.05182358, 0.93514557]),\n",
      "                      array([0.6473585 , 0.76527445, 0.58696543, 1.06632292, 0.94839723]),\n",
      "                      array([0.65414466, 0.77293756, 0.5846484 , 1.08082226, 0.96164888]),\n",
      "                      array([0.66093082, 0.78060066, 0.58233137, 1.0953216 , 0.97490054]),\n",
      "                      array([0.66771699, 0.78826377, 0.58001434, 1.10982095, 0.98815219]),\n",
      "                      array([0.67450315, 0.79592687, 0.57769731, 1.12432029, 1.00140385]),\n",
      "                      array([0.68128932, 0.80358998, 0.57538028, 1.13881963, 1.0146555 ]),\n",
      "                      array([0.68807548, 0.81125309, 0.57306325, 1.15331897, 1.02790716]),\n",
      "                      array([0.69486164, 0.81891619, 0.57074623, 1.16781831, 1.04115881]),\n",
      "                      array([0.70164781, 0.8265793 , 0.5684292 , 1.18231765, 1.05441047]),\n",
      "                      array([0.70843397, 0.83424241, 0.56611217, 1.19681699, 1.06766212]),\n",
      "                      array([0.71522014, 0.84190551, 0.56379514, 1.21131633, 1.08091378]),\n",
      "                      array([0.7220063 , 0.84956862, 0.56147811, 1.22581567, 1.09416543]),\n",
      "                      array([0.72879247, 0.85723173, 0.55916108, 1.24031501, 1.10741709]),\n",
      "                      array([0.73557863, 0.86489483, 0.55684405, 1.25481435, 1.12066874]),\n",
      "                      array([0.74236479, 0.87255794, 0.55452702, 1.26931369, 1.1339204 ])],\n",
      "    'times': [   0.0,\n",
      "                 0.01,\n",
      "                 0.02,\n",
      "                 0.03,\n",
      "                 0.04,\n",
      "                 0.05,\n",
      "                 0.06,\n",
      "                 0.07,\n",
      "                 0.08,\n",
      "                 0.09,\n",
      "                 0.1,\n",
      "                 0.11,\n",
      "                 0.12,\n",
      "                 0.13,\n",
      "                 0.14,\n",
      "                 0.15,\n",
      "                 0.16,\n",
      "                 0.17,\n",
      "                 0.18,\n",
      "                 0.19,\n",
      "                 0.2,\n",
      "                 0.21,\n",
      "                 0.22,\n",
      "                 0.23,\n",
      "                 0.24,\n",
      "                 0.25,\n",
      "                 0.26,\n",
      "                 0.27,\n",
      "                 0.28,\n",
      "                 0.29,\n",
      "                 0.3,\n",
      "                 0.31,\n",
      "                 0.32,\n",
      "                 0.33,\n",
      "                 0.34,\n",
      "                 0.35000000000000003,\n",
      "                 0.36,\n",
      "                 0.37,\n",
      "                 0.38,\n",
      "                 0.39,\n",
      "                 0.4,\n",
      "                 0.41000000000000003,\n",
      "                 0.42,\n",
      "                 0.43,\n",
      "                 0.44,\n",
      "                 0.45,\n",
      "                 0.46,\n",
      "                 0.47000000000000003,\n",
      "                 0.48,\n",
      "                 0.49,\n",
      "                 0.5,\n",
      "                 0.51,\n",
      "                 0.52,\n",
      "                 0.53,\n",
      "                 0.54,\n",
      "                 0.55,\n",
      "                 0.56,\n",
      "                 0.5700000000000001,\n",
      "                 0.58,\n",
      "                 0.59,\n",
      "                 0.6,\n",
      "                 0.61,\n",
      "                 0.62,\n",
      "                 0.63,\n",
      "                 0.64,\n",
      "                 0.65,\n",
      "                 0.66,\n",
      "                 0.67,\n",
      "                 0.68,\n",
      "                 0.6900000000000001,\n",
      "                 0.7000000000000001,\n",
      "                 0.71,\n",
      "                 0.72,\n",
      "                 0.73,\n",
      "                 0.74,\n",
      "                 0.75,\n",
      "                 0.76,\n",
      "                 0.77,\n",
      "                 0.78,\n",
      "                 0.79,\n",
      "                 0.8,\n",
      "                 0.81,\n",
      "                 0.8200000000000001,\n",
      "                 0.8300000000000001,\n",
      "                 0.84,\n",
      "                 0.85,\n",
      "                 0.86,\n",
      "                 0.87,\n",
      "                 0.88,\n",
      "                 0.89,\n",
      "                 0.9,\n",
      "                 0.91,\n",
      "                 0.92,\n",
      "                 0.93,\n",
      "                 0.9400000000000001,\n",
      "                 0.9500000000000001,\n",
      "                 0.96,\n",
      "                 0.97,\n",
      "                 0.98,\n",
      "                 0.99,\n",
      "                 1.0]}\n"
     ]
    }
   ],
   "source": [
    "result = pvqd.evolve(problem)\n",
    "print(result)"
   ]
  },
  {
   "cell_type": "markdown",
   "metadata": {},
   "source": [
    "Now we can have a look at the results, which are stored in a `PVQDResult` object. This class has the fields\n",
    "\n",
    "* `evolved_state`: The quantum circuit with the parameters at the final evolution time.\n",
    "* `times`: The timesteps of the time integration. At these times we have the parameter values and evaluated the observables.\n",
    "* `parameters`: The parameter values at each timestep.\n",
    "* `observables`: The observable values at each timestep.\n",
    "* `fidelities`: The fidelity of projecting the Trotter timestep onto the variational form at each timestep.\n",
    "* `estimated_error`: The estimated error as product of all fidelities."
   ]
  },
  {
   "cell_type": "markdown",
   "metadata": {},
   "source": [
    "The energy should be constant in a real time evolution. However, we are projecting the time-evolved state onto a variational form, which might violate this rule."
   ]
  },
  {
   "cell_type": "code",
   "execution_count": 9,
   "metadata": {
    "execution": {
     "iopub.execute_input": "2025-09-09T09:53:43.615165Z",
     "iopub.status.busy": "2025-09-09T09:53:43.614938Z",
     "iopub.status.idle": "2025-09-09T09:53:43.743249Z",
     "shell.execute_reply": "2025-09-09T09:53:43.742554Z"
    }
   },
   "outputs": [
    {
     "data": {
      "text/plain": [
       "Text(0.5, 1.0, 'Energy over time')"
      ]
     },
     "execution_count": 9,
     "metadata": {},
     "output_type": "execute_result"
    },
    {
     "data": {
      "image/png": "[encoded data removed]",
      "text/plain": [
       "<Figure size 640x480 with 1 Axes>"
      ]
     },
     "metadata": {},
     "output_type": "display_data"
    }
   ],
   "source": [
    "import matplotlib.pyplot as plt\n",
    "\n",
    "energies = np.real(result.observables)[:, 0]\n",
    "\n",
    "plt.plot(result.times, energies, color=\"royalblue\")\n",
    "plt.xlabel(\"time $t$\")\n",
    "plt.ylabel(\"energy $E$\")\n",
    "plt.title(\"Energy over time\")"
   ]
  },
  {
   "cell_type": "markdown",
   "metadata": {},
   "source": [
    "Since we also kept track of the total magnetization of the system, we can plot that quantity too. However let's first compute exact reference values to verify our algorithm results."
   ]
  },
  {
   "cell_type": "code",
   "execution_count": 10,
   "metadata": {
    "execution": {
     "iopub.execute_input": "2025-09-09T09:53:43.745341Z",
     "iopub.status.busy": "2025-09-09T09:53:43.745110Z",
     "iopub.status.idle": "2025-09-09T09:53:43.750473Z",
     "shell.execute_reply": "2025-09-09T09:53:43.749811Z"
    }
   },
   "outputs": [],
   "source": [
    "import scipy as sc\n",
    "\n",
    "\n",
    "def exact(final_time, timestep, hamiltonian, initial_state):\n",
    "    \"\"\"Get the exact values for energy and the observable.\"\"\"\n",
    "    O = observable.to_matrix()\n",
    "    H = hamiltonian.to_matrix()\n",
    "\n",
    "    energ, magn = [], []  # list of energies and magnetizations evaluated at timesteps timestep\n",
    "    times = []  # list of timepoints at which energy/obs are evaluated\n",
    "    time = 0\n",
    "    while time <= final_time:\n",
    "        # get exact state at time t\n",
    "        exact_state = initial_state.evolve(sc.linalg.expm(-1j * time * H))\n",
    "        # store observables and time\n",
    "        times.append(time)\n",
    "        energ.append(exact_state.expectation_value(H).real)\n",
    "        magn.append(exact_state.expectation_value(observable).real)\n",
    "\n",
    "        # next timestep\n",
    "        time += timestep\n",
    "\n",
    "    return times, energ, magn"
   ]
  },
  {
   "cell_type": "code",
   "execution_count": 11,
   "metadata": {
    "execution": {
     "iopub.execute_input": "2025-09-09T09:53:43.752370Z",
     "iopub.status.busy": "2025-09-09T09:53:43.752156Z",
     "iopub.status.idle": "2025-09-09T09:53:43.779660Z",
     "shell.execute_reply": "2025-09-09T09:53:43.778951Z"
    }
   },
   "outputs": [],
   "source": [
    "from qiskit.quantum_info import Statevector\n",
    "\n",
    "initial_state = Statevector(ansatz.assign_parameters(initial_parameters))\n",
    "exact_times, exact_energies, exact_magnetizations = exact(\n",
    "    final_time, 0.01, hamiltonian, initial_state\n",
    ")"
   ]
  },
  {
   "cell_type": "code",
   "execution_count": 12,
   "metadata": {
    "execution": {
     "iopub.execute_input": "2025-09-09T09:53:43.782412Z",
     "iopub.status.busy": "2025-09-09T09:53:43.782147Z",
     "iopub.status.idle": "2025-09-09T09:53:43.926772Z",
     "shell.execute_reply": "2025-09-09T09:53:43.925987Z"
    }
   },
   "outputs": [
    {
     "data": {
      "image/png": "[encoded data removed]",
      "text/plain": [
       "<Figure size 640x480 with 1 Axes>"
      ]
     },
     "metadata": {},
     "output_type": "display_data"
    }
   ],
   "source": [
    "magnetizations = np.real(result.observables)[:, 1]\n",
    "\n",
    "plt.plot(result.times, magnetizations.real, color=\"crimson\", label=\"PVQD\")\n",
    "plt.plot(exact_times, exact_magnetizations, \":\", color=\"k\", label=\"Exact\")\n",
    "plt.xlabel(\"time $t$\")\n",
    "plt.ylabel(r\"magnetization $\\langle Z_1 Z_2 \\rangle$\")\n",
    "plt.title(\"Magnetization over time\")\n",
    "plt.legend(loc=\"best\")\n",
    "plt.show()"
   ]
  },
  {
   "cell_type": "markdown",
   "metadata": {},
   "source": [
    "Looks pretty good!"
   ]
  },
  {
   "cell_type": "markdown",
   "metadata": {},
   "source": [
    "### Gradient-based optimizations\n",
    "\n",
    "The `PVQD` class also implements parameter-shift gradients for the loss function and we can use a gradient descent optimization routine\n",
    "\n",
    "$$\n",
    "    \\theta_{k+1} = \\theta_{k} - \\eta_k \\nabla\\ell(\\theta_k).\n",
    "$$\n",
    "\n",
    "Here we're using a learning rate of\n",
    "\n",
    "$$\n",
    "    \\eta_k = 0.1 k^{-0.602}\n",
    "$$\n",
    "and 80 optimization steps in each timestep."
   ]
  },
  {
   "cell_type": "code",
   "execution_count": 13,
   "metadata": {
    "execution": {
     "iopub.execute_input": "2025-09-09T09:53:43.929136Z",
     "iopub.status.busy": "2025-09-09T09:53:43.928870Z",
     "iopub.status.idle": "2025-09-09T09:53:43.932703Z",
     "shell.execute_reply": "2025-09-09T09:53:43.932030Z"
    },
    "scrolled": true
   },
   "outputs": [],
   "source": [
    "from qiskit_algorithms.optimizers import GradientDescent\n",
    "\n",
    "maxiter = 80\n",
    "learning_rate = 0.1 * np.arange(1, maxiter + 1) ** (-0.602)\n",
    "gd = GradientDescent(maxiter, lambda: iter(learning_rate))"
   ]
  },
  {
   "cell_type": "code",
   "execution_count": 14,
   "metadata": {
    "execution": {
     "iopub.execute_input": "2025-09-09T09:53:43.934767Z",
     "iopub.status.busy": "2025-09-09T09:53:43.934565Z",
     "iopub.status.idle": "2025-09-09T09:53:43.937382Z",
     "shell.execute_reply": "2025-09-09T09:53:43.936808Z"
    }
   },
   "outputs": [],
   "source": [
    "pvqd.optimizer = gd"
   ]
  },
  {
   "cell_type": "markdown",
   "metadata": {},
   "source": [
    "The following cell would take a few minutes to run for 100 timesteps, so we reduce them here."
   ]
  },
  {
   "cell_type": "code",
   "execution_count": 15,
   "metadata": {
    "execution": {
     "iopub.execute_input": "2025-09-09T09:53:43.939280Z",
     "iopub.status.busy": "2025-09-09T09:53:43.939082Z",
     "iopub.status.idle": "2025-09-09T09:53:43.942027Z",
     "shell.execute_reply": "2025-09-09T09:53:43.941451Z"
    }
   },
   "outputs": [],
   "source": [
    "n = 10\n",
    "pvqd.num_timesteps = n\n",
    "problem.time = 0.1"
   ]
  },
  {
   "cell_type": "code",
   "execution_count": 16,
   "metadata": {
    "execution": {
     "iopub.execute_input": "2025-09-09T09:53:43.943920Z",
     "iopub.status.busy": "2025-09-09T09:53:43.943700Z",
     "iopub.status.idle": "2025-09-09T09:55:04.077615Z",
     "shell.execute_reply": "2025-09-09T09:55:04.076808Z"
    }
   },
   "outputs": [],
   "source": [
    "result_gd = pvqd.evolve(problem)"
   ]
  },
  {
   "cell_type": "code",
   "execution_count": 17,
   "metadata": {
    "execution": {
     "iopub.execute_input": "2025-09-09T09:55:04.079850Z",
     "iopub.status.busy": "2025-09-09T09:55:04.079619Z",
     "iopub.status.idle": "2025-09-09T09:55:04.344193Z",
     "shell.execute_reply": "2025-09-09T09:55:04.343422Z"
    }
   },
   "outputs": [
    {
     "data": {
      "text/plain": [
       "Text(0.5, 1.0, 'Energy over time')"
      ]
     },
     "execution_count": 17,
     "metadata": {},
     "output_type": "execute_result"
    },
    {
     "data": {
      "image/png": "[encoded data removed]",
      "text/plain": [
       "<Figure size 640x480 with 1 Axes>"
      ]
     },
     "metadata": {},
     "output_type": "display_data"
    }
   ],
   "source": [
    "energies_gd = np.real(result_gd.observables)[:, 0]\n",
    "\n",
    "plt.plot(result.times[: n + 1], energies[: n + 1], \"-\", color=\"royalblue\", label=\"BFGS\")\n",
    "plt.plot(result_gd.times, energies_gd, \"--\", color=\"royalblue\", label=\"Gradient descent\")\n",
    "plt.plot(exact_times[: n + 1], exact_energies[: n + 1], \":\", color=\"k\", label=\"Exact\")\n",
    "plt.legend(loc=\"best\")\n",
    "plt.xlabel(\"time $t$\")\n",
    "plt.ylabel(\"energy $E$\")\n",
    "plt.title(\"Energy over time\")"
   ]
  },
  {
   "cell_type": "markdown",
   "metadata": {},
   "source": [
    "We can observe here, that the energy does vary quite a bit! But as we mentioned before, p-VQD does not preserve the energy."
   ]
  },
  {
   "cell_type": "code",
   "execution_count": 18,
   "metadata": {
    "execution": {
     "iopub.execute_input": "2025-09-09T09:55:04.346354Z",
     "iopub.status.busy": "2025-09-09T09:55:04.346128Z",
     "iopub.status.idle": "2025-09-09T09:55:04.520143Z",
     "shell.execute_reply": "2025-09-09T09:55:04.519367Z"
    },
    "tags": [
     "nbsphinx-thumbnail"
    ]
   },
   "outputs": [
    {
     "data": {
      "text/plain": [
       "Text(0.5, 1.0, 'Magnetization over time')"
      ]
     },
     "execution_count": 18,
     "metadata": {},
     "output_type": "execute_result"
    },
    {
     "data": {
      "image/png": "[encoded data removed]",
      "text/plain": [
       "<Figure size 640x480 with 1 Axes>"
      ]
     },
     "metadata": {},
     "output_type": "display_data"
    }
   ],
   "source": [
    "magnetizations_gd = np.real(result_gd.observables)[:, 1]\n",
    "\n",
    "plt.plot(result.times[: n + 1], magnetizations[: n + 1], \"-\", color=\"crimson\", label=\"BFGS\")\n",
    "plt.plot(result_gd.times, magnetizations_gd, \"--\", color=\"crimson\", label=\"Gradient descent\")\n",
    "plt.plot(exact_times[: n + 1], exact_magnetizations[: n + 1], \":\", color=\"k\", label=\"Exact\")\n",
    "plt.legend(loc=\"best\")\n",
    "plt.xlabel(\"time $t$\")\n",
    "plt.ylabel(r\"magnetization $\\langle Z_1 + Z_2 \\rangle$\")\n",
    "plt.title(\"Magnetization over time\")"
   ]
  },
  {
   "cell_type": "markdown",
   "metadata": {},
   "source": [
    "The magnetization, however, is computed very precisely."
   ]
  },
  {
   "cell_type": "code",
   "execution_count": 19,
   "metadata": {
    "execution": {
     "iopub.execute_input": "2025-09-09T09:55:04.522303Z",
     "iopub.status.busy": "2025-09-09T09:55:04.522091Z",
     "iopub.status.idle": "2025-09-09T09:55:04.530084Z",
     "shell.execute_reply": "2025-09-09T09:55:04.529479Z"
    }
   },
   "outputs": [
    {
     "data": {
      "text/html": [
       "<h3>Version Information</h3><table><tr><th>Software</th><th>Version</th></tr><tr><td><code>qiskit</code></td><td>2.0.3</td></tr><tr><td><code>qiskit_algorithms</code></td><td>0.4.0</td></tr><tr><th colspan='2'>System information</th></tr><tr><td>Python version</td><td>3.10.18</td></tr><tr><td>OS</td><td>Linux</td></tr><tr><td colspan='2'>Tue Sep 09 09:55:04 2025 UTC</td></tr></table>"
      ],
      "text/plain": [
       "<IPython.core.display.HTML object>"
      ]
     },
     "metadata": {},
     "output_type": "display_data"
    },
    {
     "data": {
      "text/html": [
       "<div style='width: 100%; background-color:#d5d9e0;padding-left: 10px; padding-bottom: 10px; padding-right: 10px; padding-top: 5px'><h3>This code is a part of a Qiskit project</h3><p>&copy; Copyright IBM 2017, 2025.</p><p>This code is licensed under the Apache License, Version 2.0. You may<br>obtain a copy of this license in the LICENSE.txt file in the root directory<br> of this source tree or at http://www.apache.org/licenses/LICENSE-2.0.<p>Any modifications or derivative works of this code must retain this<br>copyright notice, and modified files need to carry a notice indicating<br>that they have been altered from the originals.</p></div>"
      ],
      "text/plain": [
       "<IPython.core.display.HTML object>"
      ]
     },
     "metadata": {},
     "output_type": "display_data"
    }
   ],
   "source": [
    "import tutorial_magics\n",
    "\n",
    "%qiskit_version_table\n",
    "%qiskit_copyright"
   ]
  }
 ],
 "metadata": {
  "celltoolbar": "Edit Metadata",
  "kernelspec": {
   "display_name": "Python 3 (ipykernel)",
   "language": "python",
   "name": "python3"
  },
  "language_info": {
   "codemirror_mode": {
    "name": "ipython",
    "version": 3
   },
   "file_extension": ".py",
   "mimetype": "text/x-python",
   "name": "python",
   "nbconvert_exporter": "python",
   "pygments_lexer": "ipython3",
   "version": "3.10.18"
  }
 },
 "nbformat": 4,
 "nbformat_minor": 4
}
