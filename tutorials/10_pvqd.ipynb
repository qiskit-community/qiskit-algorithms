{
 "cells": [
  {
   "cell_type": "markdown",
   "metadata": {},
   "source": [
    "# Projected Variational Quantum Dynamics\n",
    "\n",
    "The projected Variational Quantum Dynamics (p-VQD) algorithm is a quantum algorithm for real time evolution. It's a variational algorithm that projects the state at time $t + \\Delta_t$, as calculated with Trotterization, onto a parameterized quantum circuit.\n",
    "\n",
    "For a quantum state $|\\phi(\\theta)\\rangle = U(\\theta)|0\\rangle$ constructed by a parameterized quantum circuit $U(\\theta)$ and a Hamiltonian $H$, the update rule can be written as\n",
    "\n",
    "$$\n",
    "\\theta_{n+1} = \\theta_n + \\arg\\min_{\\delta\\theta} 1 - |\\langle\\phi(\\theta_n + \\delta\\theta)|e^{-i\\Delta_t H}|\\phi(\\theta_n)\\rangle|^2,\n",
    "$$\n",
    "\n",
    "where $e^{-i\\Delta_t H}$ is calculated with a Trotter expansion (using e.g. the [PauliEvolutionGate](https://quantum.cloud.ibm.com/docs/api/qiskit/qiskit.circuit.library.PauliEvolutionGate) in Qiskit!).\n",
    "\n",
    "The following tutorial explores the p-VQD algorithm, which is available as the [PVQD](https://qiskit-community.github.io/qiskit-algorithms/stubs/qiskit_algorithms.PVQD.html) class. For details on the algorithm, see the original paper: [Barison et al. Quantum 5, 512 (2021)](https://quantum-journal.org/papers/q-2021-07-28-512/#)."
   ]
  },
  {
   "cell_type": "markdown",
   "metadata": {},
   "source": [
    "The example we're looking at is the time evolution of the $|00\\rangle$ state under the Hamiltonian\n",
    "\n",
    "$$\n",
    "    H = 0.1 Z_1 Z_2 + X_1 + X_2,\n",
    "$$\n",
    "\n",
    "which is an Ising Hamiltonian on two neighboring spins, up to a time $T=1$, where we want to keep track of the total magnetization $M = Z_1 + Z_2$ as an observable."
   ]
  },
  {
   "cell_type": "code",
   "execution_count": 1,
   "metadata": {
    "execution": {
     "iopub.execute_input": "2025-09-03T19:57:57.667113Z",
     "iopub.status.busy": "2025-09-03T19:57:57.666917Z",
     "iopub.status.idle": "2025-09-03T19:57:57.951920Z",
     "shell.execute_reply": "2025-09-03T19:57:57.951294Z"
    }
   },
   "outputs": [],
   "source": [
    "from qiskit.quantum_info import SparsePauliOp\n",
    "\n",
    "final_time = 1\n",
    "hamiltonian = SparsePauliOp.from_sparse_list(\n",
    "    [\n",
    "        (\"ZZ\", [0, 1], 0.1),\n",
    "        (\"X\", [0], 1),\n",
    "        (\"X\", [1], 1),\n",
    "    ],\n",
    "    num_qubits=2,\n",
    ")\n",
    "observable = SparsePauliOp([\"ZI\", \"IZ\"])"
   ]
  },
  {
   "cell_type": "markdown",
   "metadata": {},
   "source": [
    "After defining our Hamiltonian and observable, we need to choose the parameterized ansatz we project the update steps onto. We have different choices here, but for real time evolution an ansatz that contains building blocks of the evolved Hamiltonian usually performs very well."
   ]
  },
  {
   "cell_type": "code",
   "execution_count": 2,
   "metadata": {
    "execution": {
     "iopub.execute_input": "2025-09-03T19:57:57.954177Z",
     "iopub.status.busy": "2025-09-03T19:57:57.953942Z",
     "iopub.status.idle": "2025-09-03T19:57:58.687150Z",
     "shell.execute_reply": "2025-09-03T19:57:58.686396Z"
    }
   },
   "outputs": [
    {
     "data": {
      "image/png": "[encoded data removed]",
      "text/plain": [
       "<Figure size 454.517x200.667 with 1 Axes>"
      ]
     },
     "execution_count": 2,
     "metadata": {},
     "output_type": "execute_result"
    }
   ],
   "source": [
    "from qiskit.circuit import QuantumCircuit, ParameterVector\n",
    "\n",
    "theta = ParameterVector(r\"$\\theta$\", 5)\n",
    "ansatz = QuantumCircuit(2)\n",
    "ansatz.rx(theta[0], 0)\n",
    "ansatz.rx(theta[1], 1)\n",
    "ansatz.rzz(theta[2], 0, 1)\n",
    "ansatz.rx(theta[3], 0)\n",
    "ansatz.rx(theta[4], 1)\n",
    "\n",
    "# you can try different circuits, like:\n",
    "# from qiskit.circuit.library import efficient_su2\n",
    "# ansatz = efficient_su2(2, reps=1)\n",
    "\n",
    "ansatz.draw(\"mpl\")"
   ]
  },
  {
   "cell_type": "markdown",
   "metadata": {},
   "source": [
    "With this ansatz, the $|00\\rangle$ state is prepared if all parameters are 0. Hence we'll set the initial parameters to $\\theta_0 = 0$:"
   ]
  },
  {
   "cell_type": "code",
   "execution_count": 3,
   "metadata": {
    "execution": {
     "iopub.execute_input": "2025-09-03T19:57:58.689207Z",
     "iopub.status.busy": "2025-09-03T19:57:58.688929Z",
     "iopub.status.idle": "2025-09-03T19:57:58.691839Z",
     "shell.execute_reply": "2025-09-03T19:57:58.691280Z"
    }
   },
   "outputs": [],
   "source": [
    "import numpy as np\n",
    "\n",
    "initial_parameters = np.zeros(ansatz.num_parameters)"
   ]
  },
  {
   "cell_type": "markdown",
   "metadata": {},
   "source": [
    "Before running the p-VQD algorithm, we need to select the backend and how we want to calculate the expectation values. Here, we'll perform exact statevector simulations (which are still very fast, as we investigate a 2 qubit system) through the reference primitive implementations found in `qiskit.primitives`."
   ]
  },
  {
   "cell_type": "code",
   "execution_count": 4,
   "metadata": {
    "execution": {
     "iopub.execute_input": "2025-09-03T19:57:58.693687Z",
     "iopub.status.busy": "2025-09-03T19:57:58.693504Z",
     "iopub.status.idle": "2025-09-03T19:57:59.159032Z",
     "shell.execute_reply": "2025-09-03T19:57:59.158354Z"
    }
   },
   "outputs": [],
   "source": [
    "from qiskit.primitives import StatevectorSampler, StatevectorEstimator\n",
    "from qiskit_algorithms.state_fidelities import ComputeUncompute\n",
    "\n",
    "# the fidelity is used to evaluate the objective: the overlap of the variational form and the trotter step\n",
    "sampler = StatevectorSampler(default_shots=10_000, seed=42)\n",
    "fidelity = ComputeUncompute(sampler)\n",
    "\n",
    "# the estimator is used to evaluate the observables\n",
    "estimator = StatevectorEstimator(seed=43)"
   ]
  },
  {
   "cell_type": "markdown",
   "metadata": {},
   "source": [
    "Since p-VQD performs a classical optimization in each timestep to determine the best parameters for the projection, we also have to specify the classical optimizer. As a first example we're using BFGS, which typically works well in statevector simulations, but later we can switch to gradient descent."
   ]
  },
  {
   "cell_type": "code",
   "execution_count": 5,
   "metadata": {
    "execution": {
     "iopub.execute_input": "2025-09-03T19:57:59.161293Z",
     "iopub.status.busy": "2025-09-03T19:57:59.161030Z",
     "iopub.status.idle": "2025-09-03T19:57:59.163950Z",
     "shell.execute_reply": "2025-09-03T19:57:59.163395Z"
    }
   },
   "outputs": [],
   "source": [
    "from qiskit_algorithms.optimizers import L_BFGS_B\n",
    "\n",
    "bfgs = L_BFGS_B()"
   ]
  },
  {
   "cell_type": "markdown",
   "metadata": {},
   "source": [
    "Now we can define p-VQD and execute it!"
   ]
  },
  {
   "cell_type": "code",
   "execution_count": 6,
   "metadata": {
    "execution": {
     "iopub.execute_input": "2025-09-03T19:57:59.165824Z",
     "iopub.status.busy": "2025-09-03T19:57:59.165617Z",
     "iopub.status.idle": "2025-09-03T19:57:59.168483Z",
     "shell.execute_reply": "2025-09-03T19:57:59.167949Z"
    }
   },
   "outputs": [],
   "source": [
    "from qiskit_algorithms import PVQD\n",
    "\n",
    "pvqd = PVQD(\n",
    "    fidelity, ansatz, initial_parameters, estimator=estimator, num_timesteps=100, optimizer=bfgs\n",
    ")"
   ]
  },
  {
   "cell_type": "markdown",
   "metadata": {},
   "source": [
    "The p-VQD implementation follows Qiskit's time evolution interface, thus we pack all information of the evolution problem into an input class: the `hamiltonian` under which we evolve the state, the `final_time` of the evolution and the observables (`aux_operators`) we keep track of."
   ]
  },
  {
   "cell_type": "code",
   "execution_count": 7,
   "metadata": {
    "execution": {
     "iopub.execute_input": "2025-09-03T19:57:59.170261Z",
     "iopub.status.busy": "2025-09-03T19:57:59.170069Z",
     "iopub.status.idle": "2025-09-03T19:57:59.172902Z",
     "shell.execute_reply": "2025-09-03T19:57:59.172365Z"
    }
   },
   "outputs": [],
   "source": [
    "from qiskit_algorithms import TimeEvolutionProblem\n",
    "\n",
    "problem = TimeEvolutionProblem(\n",
    "    hamiltonian, time=final_time, aux_operators=[hamiltonian, observable]\n",
    ")"
   ]
  },
  {
   "cell_type": "markdown",
   "metadata": {},
   "source": [
    "And then run the algorithm! Beware that for a large number of shots to compute the fidelity, running the algorithm might take a while."
   ]
  },
  {
   "cell_type": "code",
   "execution_count": 8,
   "metadata": {
    "execution": {
     "iopub.execute_input": "2025-09-03T19:57:59.174641Z",
     "iopub.status.busy": "2025-09-03T19:57:59.174462Z",
     "iopub.status.idle": "2025-09-03T20:06:24.273581Z",
     "shell.execute_reply": "2025-09-03T20:06:24.272856Z"
    }
   },
   "outputs": [
    {
     "name": "stdout",
     "output_type": "stream",
     "text": [
      "{   'aux_ops_evaluated': array([ 0.58497693, -0.4890591 ]),\n",
      "    'estimated_error': 0.0,\n",
      "    'evolved_state': <qiskit.circuit.quantumcircuit.QuantumCircuit object at 0x7f8d7144d5a0>,\n",
      "    'fidelities': [   1.0,\n",
      "                      np.float64(1.0),\n",
      "                      np.float64(1.0),\n",
      "                      np.float64(1.0),\n",
      "                      np.float64(1.0),\n",
      "                      np.float64(1.0),\n",
      "                      np.float64(1.0),\n",
      "                      np.float64(1.0),\n",
      "                      np.float64(1.0),\n",
      "                      np.float64(1.0),\n",
      "                      np.float64(1.0),\n",
      "                      np.float64(1.0),\n",
      "                      np.float64(1.0),\n",
      "                      np.float64(1.0),\n",
      "                      np.float64(1.0),\n",
      "                      np.float64(1.0),\n",
      "                      np.float64(1.0),\n",
      "                      np.float64(1.0),\n",
      "                      np.float64(1.0),\n",
      "                      np.float64(1.0),\n",
      "                      np.float64(1.0),\n",
      "                      np.float64(1.0),\n",
      "                      np.float64(1.0),\n",
      "                      np.float64(1.0),\n",
      "                      np.float64(1.0),\n",
      "                      np.float64(1.0),\n",
      "                      np.float64(1.0),\n",
      "                      np.float64(1.0),\n",
      "                      np.float64(1.0),\n",
      "                      np.float64(1.0),\n",
      "                      np.float64(1.0),\n",
      "                      np.float64(1.0),\n",
      "                      np.float64(1.0),\n",
      "                      np.float64(1.0),\n",
      "                      np.float64(1.0),\n",
      "                      np.float64(1.0),\n",
      "                      np.float64(1.0),\n",
      "                      np.float64(1.0),\n",
      "                      np.float64(1.0),\n",
      "                      np.float64(1.0),\n",
      "                      np.float64(1.0),\n",
      "                      np.float64(1.0),\n",
      "                      np.float64(1.0),\n",
      "                      np.float64(1.0),\n",
      "                      np.float64(1.0),\n",
      "                      np.float64(1.0),\n",
      "                      np.float64(1.0),\n",
      "                      np.float64(1.0),\n",
      "                      np.float64(1.0),\n",
      "                      np.float64(1.0),\n",
      "                      np.float64(1.0),\n",
      "                      np.float64(1.0),\n",
      "                      np.float64(1.0),\n",
      "                      np.float64(1.0),\n",
      "                      np.float64(1.0),\n",
      "                      np.float64(1.0),\n",
      "                      np.float64(1.0),\n",
      "                      np.float64(1.0),\n",
      "                      np.float64(1.0),\n",
      "                      np.float64(1.0),\n",
      "                      np.float64(1.0),\n",
      "                      np.float64(1.0),\n",
      "                      np.float64(1.0),\n",
      "                      np.float64(1.0),\n",
      "                      np.float64(1.0),\n",
      "                      np.float64(1.0),\n",
      "                      np.float64(1.0),\n",
      "                      np.float64(1.0),\n",
      "                      np.float64(1.0),\n",
      "                      np.float64(1.0),\n",
      "                      np.float64(1.0),\n",
      "                      np.float64(1.0),\n",
      "                      np.float64(1.0),\n",
      "                      np.float64(1.0),\n",
      "                      np.float64(1.0),\n",
      "                      np.float64(1.0),\n",
      "                      np.float64(1.0),\n",
      "                      np.float64(1.0),\n",
      "                      np.float64(1.0),\n",
      "                      np.float64(1.0),\n",
      "                      np.float64(1.0),\n",
      "                      np.float64(1.0),\n",
      "                      np.float64(1.0),\n",
      "                      np.float64(1.0),\n",
      "                      np.float64(1.0),\n",
      "                      np.float64(1.0),\n",
      "                      np.float64(1.0),\n",
      "                      np.float64(1.0),\n",
      "                      np.float64(1.0),\n",
      "                      np.float64(1.0),\n",
      "                      np.float64(1.0),\n",
      "                      np.float64(1.0),\n",
      "                      np.float64(1.0),\n",
      "                      np.float64(1.0),\n",
      "                      np.float64(1.0),\n",
      "                      np.float64(1.0),\n",
      "                      np.float64(1.0),\n",
      "                      np.float64(1.0),\n",
      "                      np.float64(1.0),\n",
      "                      np.float64(1.0),\n",
      "                      np.float64(1.0)],\n",
      "    'observables': [   array([0.1, 2. ]),\n",
      "                       array([0.10008343, 1.99961541]),\n",
      "                       array([0.10033367, 1.99846185]),\n",
      "                       array([0.10075063, 1.99653989]),\n",
      "                       array([0.10133412, 1.99385052]),\n",
      "                       array([0.10208391, 1.99039509]),\n",
      "                       array([0.10299967, 1.98617535]),\n",
      "                       array([0.10408103, 1.98119346]),\n",
      "                       array([0.10532751, 1.97545192]),\n",
      "                       array([0.1067386 , 1.96895365]),\n",
      "                       array([0.10831369, 1.96170194]),\n",
      "                       array([0.1100521 , 1.95370047]),\n",
      "                       array([0.11195309, 1.94495328]),\n",
      "                       array([0.11401582, 1.93546482]),\n",
      "                       array([0.11623941, 1.92523988]),\n",
      "                       array([0.11862286, 1.91428364]),\n",
      "                       array([0.12116513, 1.90260165]),\n",
      "                       array([0.12386509, 1.89019982]),\n",
      "                       array([0.12672152, 1.87708442]),\n",
      "                       array([0.12973312, 1.86326209]),\n",
      "                       array([0.13289852, 1.84873982]),\n",
      "                       array([0.13621626, 1.83352495]),\n",
      "                       array([0.13968479, 1.81762517]),\n",
      "                       array([0.14330249, 1.80104852]),\n",
      "                       array([0.14706763, 1.78380336]),\n",
      "                       array([0.1509784 , 1.76589842]),\n",
      "                       array([0.15503292, 1.74734271]),\n",
      "                       array([0.15922918, 1.72814562]),\n",
      "                       array([0.16356511, 1.70831682]),\n",
      "                       array([0.16803853, 1.6878663 ]),\n",
      "                       array([0.17264717, 1.66680439]),\n",
      "                       array([0.17738865, 1.64514168]),\n",
      "                       array([0.18226052, 1.62288908]),\n",
      "                       array([0.1872602, 1.6000578]),\n",
      "                       array([0.19238503, 1.57665933]),\n",
      "                       array([0.19763223, 1.55270542]),\n",
      "                       array([0.20299893, 1.52820812]),\n",
      "                       array([0.20848215, 1.50317973]),\n",
      "                       array([0.21407882, 1.47763282]),\n",
      "                       array([0.21978573, 1.4515802 ]),\n",
      "                       array([0.2255996 , 1.42503495]),\n",
      "                       array([0.23151701, 1.39801036]),\n",
      "                       array([0.23753446, 1.37051997]),\n",
      "                       array([0.24364832, 1.34257753]),\n",
      "                       array([0.24985486, 1.31419704]),\n",
      "                       array([0.25615024, 1.28539266]),\n",
      "                       array([0.26253049, 1.2561788 ]),\n",
      "                       array([0.26899156, 1.22657003]),\n",
      "                       array([0.27552927, 1.19658112]),\n",
      "                       array([0.28213934, 1.16622702]),\n",
      "                       array([0.28881735, 1.13552284]),\n",
      "                       array([0.29555882, 1.10448386]),\n",
      "                       array([0.30235911, 1.07312552]),\n",
      "                       array([0.30921351, 1.04146339]),\n",
      "                       array([0.31611717, 1.00951318]),\n",
      "                       array([0.32306515, 0.97729075]),\n",
      "                       array([0.33005241, 0.94481206]),\n",
      "                       array([0.33707378, 0.91209317]),\n",
      "                       array([0.34412402, 0.87915027]),\n",
      "                       array([0.35119775, 0.84599964]),\n",
      "                       array([0.35828952, 0.81265762]),\n",
      "                       array([0.36539376, 0.77914066]),\n",
      "                       array([0.37250481, 0.74546526]),\n",
      "                       array([0.37961694, 0.71164799]),\n",
      "                       array([0.38672429, 0.67770545]),\n",
      "                       array([0.39382093, 0.64365431]),\n",
      "                       array([0.40090084, 0.60951126]),\n",
      "                       array([0.40795792, 0.575293  ]),\n",
      "                       array([0.41498599, 0.54101626]),\n",
      "                       array([0.4219788 , 0.50669779]),\n",
      "                       array([0.42892999, 0.47235432]),\n",
      "                       array([0.43583319, 0.43800256]),\n",
      "                       array([0.44268191, 0.40365923]),\n",
      "                       array([0.44946964, 0.36934099]),\n",
      "                       array([0.45618978, 0.33506448]),\n",
      "                       array([0.46283569, 0.3008463 ]),\n",
      "                       array([0.46940069, 0.26670297]),\n",
      "                       array([0.47587805, 0.23265099]),\n",
      "                       array([0.482261  , 0.19870674]),\n",
      "                       array([0.48854274, 0.16488654]),\n",
      "                       array([0.49471642, 0.13120664]),\n",
      "                       array([0.50077521, 0.09768317]),\n",
      "                       array([0.50671223, 0.06433216]),\n",
      "                       array([0.5125206 , 0.03116953]),\n",
      "                       array([ 0.51819342, -0.00178893]),\n",
      "                       array([ 0.52372381, -0.03452755]),\n",
      "                       array([ 0.52910489, -0.06703079]),\n",
      "                       array([ 0.53432978, -0.09928329]),\n",
      "                       array([ 0.53939164, -0.13126979]),\n",
      "                       array([ 0.54428363, -0.16297525]),\n",
      "                       array([ 0.54899896, -0.19438475]),\n",
      "                       array([ 0.55353088, -0.22548357]),\n",
      "                       array([ 0.55787267, -0.25625717]),\n",
      "                       array([ 0.56201767, -0.2866912 ]),\n",
      "                       array([ 0.56595928, -0.3167715 ]),\n",
      "                       array([ 0.56969095, -0.34648412]),\n",
      "                       array([ 0.57320623, -0.37581534]),\n",
      "                       array([ 0.57649872, -0.40475162]),\n",
      "                       array([ 0.57956212, -0.43327968]),\n",
      "                       array([ 0.58239023, -0.46138645]),\n",
      "                       array([ 0.58497693, -0.4890591 ])],\n",
      "    'parameters': [   array([0., 0., 0., 0., 0.]),\n",
      "                      array([0.00946808, 0.00962316, 0.00638458, 0.01037215, 0.00975647]),\n",
      "                      array([0.01893616, 0.01924631, 0.01276915, 0.0207443 , 0.01951295]),\n",
      "                      array([0.02840425, 0.02886947, 0.01915373, 0.03111646, 0.02926942]),\n",
      "                      array([0.03787233, 0.03849263, 0.02553831, 0.04148861, 0.03902589]),\n",
      "                      array([0.04734041, 0.04811579, 0.03192288, 0.05186076, 0.04878237]),\n",
      "                      array([0.05680849, 0.05773894, 0.03830746, 0.06223291, 0.05853884]),\n",
      "                      array([0.06627658, 0.0673621 , 0.04469204, 0.07260506, 0.06829532]),\n",
      "                      array([0.07574466, 0.07698526, 0.05107662, 0.08297721, 0.07805179]),\n",
      "                      array([0.08521274, 0.08660841, 0.05746119, 0.09334937, 0.08780826]),\n",
      "                      array([0.09468082, 0.09623157, 0.06384577, 0.10372152, 0.09756474]),\n",
      "                      array([0.1041489 , 0.10585473, 0.07023035, 0.11409367, 0.10732121]),\n",
      "                      array([0.11361699, 0.11547789, 0.07661492, 0.12446582, 0.11707768]),\n",
      "                      array([0.12308507, 0.12510104, 0.0829995 , 0.13483797, 0.12683416]),\n",
      "                      array([0.13255315, 0.1347242 , 0.08938408, 0.14521013, 0.13659063]),\n",
      "                      array([0.14202123, 0.14434736, 0.09576865, 0.15558228, 0.1463471 ]),\n",
      "                      array([0.15148932, 0.15397051, 0.10215323, 0.16595443, 0.15610358]),\n",
      "                      array([0.1609574 , 0.16359367, 0.10853781, 0.17632658, 0.16586005]),\n",
      "                      array([0.17042548, 0.17321683, 0.11492238, 0.18669873, 0.17561653]),\n",
      "                      array([0.17989356, 0.18283999, 0.12130696, 0.19707089, 0.185373  ]),\n",
      "                      array([0.18936164, 0.19246314, 0.12769154, 0.20744304, 0.19512947]),\n",
      "                      array([0.19882973, 0.2020863 , 0.13407611, 0.21781519, 0.20488595]),\n",
      "                      array([0.20829781, 0.21170946, 0.14046069, 0.22818734, 0.21464242]),\n",
      "                      array([0.21776589, 0.22133261, 0.14684527, 0.23855949, 0.22439889]),\n",
      "                      array([0.22723397, 0.23095577, 0.15322985, 0.24893164, 0.23415537]),\n",
      "                      array([0.23670206, 0.24057893, 0.15961442, 0.2593038 , 0.24391184]),\n",
      "                      array([0.24617014, 0.25020209, 0.165999  , 0.26967595, 0.25366832]),\n",
      "                      array([0.25563822, 0.25982524, 0.17238358, 0.2800481 , 0.26342479]),\n",
      "                      array([0.2651063 , 0.2694484 , 0.17876815, 0.29042025, 0.27318126]),\n",
      "                      array([0.27457439, 0.27907156, 0.18515273, 0.3007924 , 0.28293774]),\n",
      "                      array([0.28404247, 0.28869471, 0.19153731, 0.31116456, 0.29269421]),\n",
      "                      array([0.29351055, 0.29831787, 0.19792188, 0.32153671, 0.30245068]),\n",
      "                      array([0.30297863, 0.30794103, 0.20430646, 0.33190886, 0.31220716]),\n",
      "                      array([0.31244671, 0.31756419, 0.21069104, 0.34228101, 0.32196363]),\n",
      "                      array([0.3219148 , 0.32718734, 0.21707561, 0.35265316, 0.3317201 ]),\n",
      "                      array([0.33138288, 0.3368105 , 0.22346019, 0.36302532, 0.34147658]),\n",
      "                      array([0.34085096, 0.34643366, 0.22984477, 0.37339747, 0.35123305]),\n",
      "                      array([0.35031904, 0.35605681, 0.23622935, 0.38376962, 0.36098953]),\n",
      "                      array([0.35978713, 0.36567997, 0.24261392, 0.39414177, 0.370746  ]),\n",
      "                      array([0.36925521, 0.37530313, 0.2489985 , 0.40451392, 0.38050247]),\n",
      "                      array([0.37872329, 0.38492629, 0.25538308, 0.41488607, 0.39025895]),\n",
      "                      array([0.38819137, 0.39454944, 0.26176765, 0.42525823, 0.40001542]),\n",
      "                      array([0.39765945, 0.4041726 , 0.26815223, 0.43563038, 0.40977189]),\n",
      "                      array([0.40712754, 0.41379576, 0.27453681, 0.44600253, 0.41952837]),\n",
      "                      array([0.41659562, 0.42341891, 0.28092138, 0.45637468, 0.42928484]),\n",
      "                      array([0.4260637 , 0.43304207, 0.28730596, 0.46674683, 0.43904131]),\n",
      "                      array([0.43553178, 0.44266523, 0.29369054, 0.47711899, 0.44879779]),\n",
      "                      array([0.44499987, 0.45228839, 0.30007511, 0.48749114, 0.45855426]),\n",
      "                      array([0.45446795, 0.46191154, 0.30645969, 0.49786329, 0.46831074]),\n",
      "                      array([0.46393603, 0.4715347 , 0.31284427, 0.50823544, 0.47806721]),\n",
      "                      array([0.47340411, 0.48115786, 0.31922884, 0.51860759, 0.48782368]),\n",
      "                      array([0.48287219, 0.49078101, 0.32561342, 0.52897974, 0.49758016]),\n",
      "                      array([0.49234028, 0.50040417, 0.331998  , 0.5393519 , 0.50733663]),\n",
      "                      array([0.50180836, 0.51002733, 0.33838258, 0.54972405, 0.5170931 ]),\n",
      "                      array([0.51127644, 0.51965049, 0.34476715, 0.5600962 , 0.52684958]),\n",
      "                      array([0.52074452, 0.52927364, 0.35115173, 0.57046835, 0.53660605]),\n",
      "                      array([0.53021261, 0.5388968 , 0.35753631, 0.5808405 , 0.54636253]),\n",
      "                      array([0.53968069, 0.54851996, 0.36392088, 0.59121266, 0.556119  ]),\n",
      "                      array([0.54914877, 0.55814311, 0.37030546, 0.60158481, 0.56587547]),\n",
      "                      array([0.55861685, 0.56776627, 0.37669004, 0.61195696, 0.57563195]),\n",
      "                      array([0.56808493, 0.57738943, 0.38307461, 0.62232911, 0.58538842]),\n",
      "                      array([0.57755302, 0.58701259, 0.38945919, 0.63270126, 0.59514489]),\n",
      "                      array([0.5870211 , 0.59663574, 0.39584377, 0.64307342, 0.60490137]),\n",
      "                      array([0.59648918, 0.6062589 , 0.40222834, 0.65344557, 0.61465784]),\n",
      "                      array([0.60595726, 0.61588206, 0.40861292, 0.66381772, 0.62441431]),\n",
      "                      array([0.61542535, 0.62550521, 0.4149975 , 0.67418987, 0.63417079]),\n",
      "                      array([0.62489343, 0.63512837, 0.42138208, 0.68456202, 0.64392726]),\n",
      "                      array([0.63436151, 0.64475153, 0.42776665, 0.69493417, 0.65368374]),\n",
      "                      array([0.64382959, 0.65437469, 0.43415123, 0.70530633, 0.66344021]),\n",
      "                      array([0.65329767, 0.66399784, 0.44053581, 0.71567848, 0.67319668]),\n",
      "                      array([0.66276576, 0.673621  , 0.44692038, 0.72605063, 0.68295316]),\n",
      "                      array([0.67223384, 0.68324416, 0.45330496, 0.73642278, 0.69270963]),\n",
      "                      array([0.68170192, 0.69286731, 0.45968954, 0.74679493, 0.7024661 ]),\n",
      "                      array([0.69117   , 0.70249047, 0.46607411, 0.75716709, 0.71222258]),\n",
      "                      array([0.70063809, 0.71211363, 0.47245869, 0.76753924, 0.72197905]),\n",
      "                      array([0.71010617, 0.72173679, 0.47884327, 0.77791139, 0.73173552]),\n",
      "                      array([0.71957425, 0.73135994, 0.48522784, 0.78828354, 0.741492  ]),\n",
      "                      array([0.72904233, 0.7409831 , 0.49161242, 0.79865569, 0.75124847]),\n",
      "                      array([0.73851041, 0.75060626, 0.497997  , 0.80902785, 0.76100495]),\n",
      "                      array([0.7479785 , 0.76022941, 0.50438157, 0.8194    , 0.77076142]),\n",
      "                      array([0.75744658, 0.76985257, 0.51076615, 0.82977215, 0.78051789]),\n",
      "                      array([0.76691466, 0.77947573, 0.51715073, 0.8401443 , 0.79027437]),\n",
      "                      array([0.77638274, 0.78909889, 0.52353531, 0.85051645, 0.80003084]),\n",
      "                      array([0.78585083, 0.79872204, 0.52991988, 0.8608886 , 0.80978731]),\n",
      "                      array([0.79531891, 0.8083452 , 0.53630446, 0.87126076, 0.81954379]),\n",
      "                      array([0.80478699, 0.81796836, 0.54268904, 0.88163291, 0.82930026]),\n",
      "                      array([0.81425507, 0.82759151, 0.54907361, 0.89200506, 0.83905674]),\n",
      "                      array([0.82372316, 0.83721467, 0.55545819, 0.90237721, 0.84881321]),\n",
      "                      array([0.83319124, 0.84683783, 0.56184277, 0.91274936, 0.85856968]),\n",
      "                      array([0.84265932, 0.85646099, 0.56822734, 0.92312152, 0.86832616]),\n",
      "                      array([0.8521274 , 0.86608414, 0.57461192, 0.93349367, 0.87808263]),\n",
      "                      array([0.86159548, 0.8757073 , 0.5809965 , 0.94386582, 0.8878391 ]),\n",
      "                      array([0.87106357, 0.88533046, 0.58738107, 0.95423797, 0.89759558]),\n",
      "                      array([0.88053165, 0.89495361, 0.59376565, 0.96461012, 0.90735205]),\n",
      "                      array([0.88999973, 0.90457677, 0.60015023, 0.97498227, 0.91710852]),\n",
      "                      array([0.89946781, 0.91419993, 0.60653481, 0.98535443, 0.926865  ]),\n",
      "                      array([0.9089359 , 0.92382309, 0.61291938, 0.99572658, 0.93662147]),\n",
      "                      array([0.91840398, 0.93344624, 0.61930396, 1.00609873, 0.94637795]),\n",
      "                      array([0.92787206, 0.9430694 , 0.62568854, 1.01647088, 0.95613442]),\n",
      "                      array([0.93734014, 0.95269256, 0.63207311, 1.02684303, 0.96589089]),\n",
      "                      array([0.94680822, 0.96231571, 0.63845769, 1.03721519, 0.97564737])],\n",
      "    'times': [   0.0,\n",
      "                 0.01,\n",
      "                 0.02,\n",
      "                 0.03,\n",
      "                 0.04,\n",
      "                 0.05,\n",
      "                 0.06,\n",
      "                 0.07,\n",
      "                 0.08,\n",
      "                 0.09,\n",
      "                 0.1,\n",
      "                 0.11,\n",
      "                 0.12,\n",
      "                 0.13,\n",
      "                 0.14,\n",
      "                 0.15,\n",
      "                 0.16,\n",
      "                 0.17,\n",
      "                 0.18,\n",
      "                 0.19,\n",
      "                 0.2,\n",
      "                 0.21,\n",
      "                 0.22,\n",
      "                 0.23,\n",
      "                 0.24,\n",
      "                 0.25,\n",
      "                 0.26,\n",
      "                 0.27,\n",
      "                 0.28,\n",
      "                 0.29,\n",
      "                 0.3,\n",
      "                 0.31,\n",
      "                 0.32,\n",
      "                 0.33,\n",
      "                 0.34,\n",
      "                 0.35000000000000003,\n",
      "                 0.36,\n",
      "                 0.37,\n",
      "                 0.38,\n",
      "                 0.39,\n",
      "                 0.4,\n",
      "                 0.41000000000000003,\n",
      "                 0.42,\n",
      "                 0.43,\n",
      "                 0.44,\n",
      "                 0.45,\n",
      "                 0.46,\n",
      "                 0.47000000000000003,\n",
      "                 0.48,\n",
      "                 0.49,\n",
      "                 0.5,\n",
      "                 0.51,\n",
      "                 0.52,\n",
      "                 0.53,\n",
      "                 0.54,\n",
      "                 0.55,\n",
      "                 0.56,\n",
      "                 0.5700000000000001,\n",
      "                 0.58,\n",
      "                 0.59,\n",
      "                 0.6,\n",
      "                 0.61,\n",
      "                 0.62,\n",
      "                 0.63,\n",
      "                 0.64,\n",
      "                 0.65,\n",
      "                 0.66,\n",
      "                 0.67,\n",
      "                 0.68,\n",
      "                 0.6900000000000001,\n",
      "                 0.7000000000000001,\n",
      "                 0.71,\n",
      "                 0.72,\n",
      "                 0.73,\n",
      "                 0.74,\n",
      "                 0.75,\n",
      "                 0.76,\n",
      "                 0.77,\n",
      "                 0.78,\n",
      "                 0.79,\n",
      "                 0.8,\n",
      "                 0.81,\n",
      "                 0.8200000000000001,\n",
      "                 0.8300000000000001,\n",
      "                 0.84,\n",
      "                 0.85,\n",
      "                 0.86,\n",
      "                 0.87,\n",
      "                 0.88,\n",
      "                 0.89,\n",
      "                 0.9,\n",
      "                 0.91,\n",
      "                 0.92,\n",
      "                 0.93,\n",
      "                 0.9400000000000001,\n",
      "                 0.9500000000000001,\n",
      "                 0.96,\n",
      "                 0.97,\n",
      "                 0.98,\n",
      "                 0.99,\n",
      "                 1.0]}\n"
     ]
    }
   ],
   "source": [
    "result = pvqd.evolve(problem)\n",
    "print(result)"
   ]
  },
  {
   "cell_type": "markdown",
   "metadata": {},
   "source": [
    "Now we can have a look at the results, which are stored in a `PVQDResult` object. This class has the fields\n",
    "\n",
    "* `evolved_state`: The quantum circuit with the parameters at the final evolution time.\n",
    "* `times`: The timesteps of the time integration. At these times we have the parameter values and evaluated the observables.\n",
    "* `parameters`: The parameter values at each timestep.\n",
    "* `observables`: The observable values at each timestep.\n",
    "* `fidelities`: The fidelity of projecting the Trotter timestep onto the variational form at each timestep.\n",
    "* `estimated_error`: The estimated error as product of all fidelities."
   ]
  },
  {
   "cell_type": "markdown",
   "metadata": {},
   "source": [
    "The energy should be constant in a real time evolution. However, we are projecting the time-evolved state onto a variational form, which might violate this rule."
   ]
  },
  {
   "cell_type": "code",
   "execution_count": 9,
   "metadata": {
    "execution": {
     "iopub.execute_input": "2025-09-03T20:06:24.275623Z",
     "iopub.status.busy": "2025-09-03T20:06:24.275412Z",
     "iopub.status.idle": "2025-09-03T20:06:24.401699Z",
     "shell.execute_reply": "2025-09-03T20:06:24.401094Z"
    }
   },
   "outputs": [
    {
     "data": {
      "text/plain": [
       "Text(0.5, 1.0, 'Energy over time')"
      ]
     },
     "execution_count": 9,
     "metadata": {},
     "output_type": "execute_result"
    },
    {
     "data": {
      "image/png": "[encoded data removed]",
      "text/plain": [
       "<Figure size 640x480 with 1 Axes>"
      ]
     },
     "metadata": {},
     "output_type": "display_data"
    }
   ],
   "source": [
    "import matplotlib.pyplot as plt\n",
    "\n",
    "energies = np.real(result.observables)[:, 0]\n",
    "\n",
    "plt.plot(result.times, energies, color=\"royalblue\")\n",
    "plt.xlabel(\"time $t$\")\n",
    "plt.ylabel(\"energy $E$\")\n",
    "plt.title(\"Energy over time\")"
   ]
  },
  {
   "cell_type": "markdown",
   "metadata": {},
   "source": [
    "Since we also kept track of the total magnetization of the system, we can plot that quantity too. However let's first compute exact reference values to verify our algorithm results."
   ]
  },
  {
   "cell_type": "code",
   "execution_count": 10,
   "metadata": {
    "execution": {
     "iopub.execute_input": "2025-09-03T20:06:24.403664Z",
     "iopub.status.busy": "2025-09-03T20:06:24.403468Z",
     "iopub.status.idle": "2025-09-03T20:06:24.408330Z",
     "shell.execute_reply": "2025-09-03T20:06:24.407776Z"
    }
   },
   "outputs": [],
   "source": [
    "import scipy as sc\n",
    "\n",
    "\n",
    "def exact(final_time, timestep, hamiltonian, initial_state):\n",
    "    \"\"\"Get the exact values for energy and the observable.\"\"\"\n",
    "    O = observable.to_matrix()\n",
    "    H = hamiltonian.to_matrix()\n",
    "\n",
    "    energ, magn = [], []  # list of energies and magnetizations evaluated at timesteps timestep\n",
    "    times = []  # list of timepoints at which energy/obs are evaluated\n",
    "    time = 0\n",
    "    while time <= final_time:\n",
    "        # get exact state at time t\n",
    "        exact_state = initial_state.evolve(sc.linalg.expm(-1j * time * H))\n",
    "        # store observables and time\n",
    "        times.append(time)\n",
    "        energ.append(exact_state.expectation_value(H).real)\n",
    "        magn.append(exact_state.expectation_value(observable).real)\n",
    "\n",
    "        # next timestep\n",
    "        time += timestep\n",
    "\n",
    "    return times, energ, magn"
   ]
  },
  {
   "cell_type": "code",
   "execution_count": 11,
   "metadata": {
    "execution": {
     "iopub.execute_input": "2025-09-03T20:06:24.410075Z",
     "iopub.status.busy": "2025-09-03T20:06:24.409875Z",
     "iopub.status.idle": "2025-09-03T20:06:24.436193Z",
     "shell.execute_reply": "2025-09-03T20:06:24.435574Z"
    }
   },
   "outputs": [],
   "source": [
    "from qiskit.quantum_info import Statevector\n",
    "\n",
    "initial_state = Statevector(ansatz.assign_parameters(initial_parameters))\n",
    "exact_times, exact_energies, exact_magnetizations = exact(\n",
    "    final_time, 0.01, hamiltonian, initial_state\n",
    ")"
   ]
  },
  {
   "cell_type": "code",
   "execution_count": 12,
   "metadata": {
    "execution": {
     "iopub.execute_input": "2025-09-03T20:06:24.438156Z",
     "iopub.status.busy": "2025-09-03T20:06:24.437929Z",
     "iopub.status.idle": "2025-09-03T20:06:24.578564Z",
     "shell.execute_reply": "2025-09-03T20:06:24.577849Z"
    }
   },
   "outputs": [
    {
     "data": {
      "image/png": "[encoded data removed]",
      "text/plain": [
       "<Figure size 640x480 with 1 Axes>"
      ]
     },
     "metadata": {},
     "output_type": "display_data"
    }
   ],
   "source": [
    "magnetizations = np.real(result.observables)[:, 1]\n",
    "\n",
    "plt.plot(result.times, magnetizations.real, color=\"crimson\", label=\"PVQD\")\n",
    "plt.plot(exact_times, exact_magnetizations, \":\", color=\"k\", label=\"Exact\")\n",
    "plt.xlabel(\"time $t$\")\n",
    "plt.ylabel(r\"magnetization $\\langle Z_1 Z_2 \\rangle$\")\n",
    "plt.title(\"Magnetization over time\")\n",
    "plt.legend(loc=\"best\")\n",
    "plt.show()"
   ]
  },
  {
   "cell_type": "markdown",
   "metadata": {},
   "source": [
    "Looks pretty good!"
   ]
  },
  {
   "cell_type": "markdown",
   "metadata": {},
   "source": [
    "### Gradient-based optimizations\n",
    "\n",
    "The `PVQD` class also implements parameter-shift gradients for the loss function and we can use a gradient descent optimization routine\n",
    "\n",
    "$$\n",
    "    \\theta_{k+1} = \\theta_{k} - \\eta_k \\nabla\\ell(\\theta_k).\n",
    "$$\n",
    "\n",
    "Here we're using a learning rate of\n",
    "\n",
    "$$\n",
    "    \\eta_k = 0.1 k^{-0.602}\n",
    "$$\n",
    "and 80 optimization steps in each timestep."
   ]
  },
  {
   "cell_type": "code",
   "execution_count": 13,
   "metadata": {
    "execution": {
     "iopub.execute_input": "2025-09-03T20:06:24.580562Z",
     "iopub.status.busy": "2025-09-03T20:06:24.580351Z",
     "iopub.status.idle": "2025-09-03T20:06:24.583896Z",
     "shell.execute_reply": "2025-09-03T20:06:24.583217Z"
    },
    "scrolled": true
   },
   "outputs": [],
   "source": [
    "from qiskit_algorithms.optimizers import GradientDescent\n",
    "\n",
    "maxiter = 80\n",
    "learning_rate = 0.1 * np.arange(1, maxiter + 1) ** (-0.602)\n",
    "gd = GradientDescent(maxiter, lambda: iter(learning_rate))"
   ]
  },
  {
   "cell_type": "code",
   "execution_count": 14,
   "metadata": {
    "execution": {
     "iopub.execute_input": "2025-09-03T20:06:24.585739Z",
     "iopub.status.busy": "2025-09-03T20:06:24.585549Z",
     "iopub.status.idle": "2025-09-03T20:06:24.588169Z",
     "shell.execute_reply": "2025-09-03T20:06:24.587640Z"
    }
   },
   "outputs": [],
   "source": [
    "pvqd.optimizer = gd"
   ]
  },
  {
   "cell_type": "markdown",
   "metadata": {},
   "source": [
    "The following cell would take a few minutes to run for 100 timesteps, so we reduce them here."
   ]
  },
  {
   "cell_type": "code",
   "execution_count": 15,
   "metadata": {
    "execution": {
     "iopub.execute_input": "2025-09-03T20:06:24.589975Z",
     "iopub.status.busy": "2025-09-03T20:06:24.589785Z",
     "iopub.status.idle": "2025-09-03T20:06:24.592391Z",
     "shell.execute_reply": "2025-09-03T20:06:24.591888Z"
    }
   },
   "outputs": [],
   "source": [
    "n = 10\n",
    "pvqd.num_timesteps = n\n",
    "problem.time = 0.1"
   ]
  },
  {
   "cell_type": "code",
   "execution_count": 16,
   "metadata": {
    "execution": {
     "iopub.execute_input": "2025-09-03T20:06:24.594046Z",
     "iopub.status.busy": "2025-09-03T20:06:24.593848Z",
     "iopub.status.idle": "2025-09-03T20:09:04.458913Z",
     "shell.execute_reply": "2025-09-03T20:09:04.458276Z"
    }
   },
   "outputs": [],
   "source": [
    "result_gd = pvqd.evolve(problem)"
   ]
  },
  {
   "cell_type": "code",
   "execution_count": 17,
   "metadata": {
    "execution": {
     "iopub.execute_input": "2025-09-03T20:09:04.461087Z",
     "iopub.status.busy": "2025-09-03T20:09:04.460886Z",
     "iopub.status.idle": "2025-09-03T20:09:04.625600Z",
     "shell.execute_reply": "2025-09-03T20:09:04.624955Z"
    }
   },
   "outputs": [
    {
     "data": {
      "text/plain": [
       "Text(0.5, 1.0, 'Energy over time')"
      ]
     },
     "execution_count": 17,
     "metadata": {},
     "output_type": "execute_result"
    },
    {
     "data": {
      "image/png": "[encoded data removed]",
      "text/plain": [
       "<Figure size 640x480 with 1 Axes>"
      ]
     },
     "metadata": {},
     "output_type": "display_data"
    }
   ],
   "source": [
    "energies_gd = np.real(result_gd.observables)[:, 0]\n",
    "\n",
    "plt.plot(result.times[: n + 1], energies[: n + 1], \"-\", color=\"royalblue\", label=\"BFGS\")\n",
    "plt.plot(result_gd.times, energies_gd, \"--\", color=\"royalblue\", label=\"Gradient descent\")\n",
    "plt.plot(exact_times[: n + 1], exact_energies[: n + 1], \":\", color=\"k\", label=\"Exact\")\n",
    "plt.legend(loc=\"best\")\n",
    "plt.xlabel(\"time $t$\")\n",
    "plt.ylabel(\"energy $E$\")\n",
    "plt.title(\"Energy over time\")"
   ]
  },
  {
   "cell_type": "markdown",
   "metadata": {},
   "source": [
    "We can observe here, that the energy does vary quite a bit! But as we mentioned before, p-VQD does not preserve the energy."
   ]
  },
  {
   "cell_type": "code",
   "execution_count": 18,
   "metadata": {
    "execution": {
     "iopub.execute_input": "2025-09-03T20:09:04.627660Z",
     "iopub.status.busy": "2025-09-03T20:09:04.627461Z",
     "iopub.status.idle": "2025-09-03T20:09:04.795000Z",
     "shell.execute_reply": "2025-09-03T20:09:04.794268Z"
    },
    "tags": [
     "nbsphinx-thumbnail"
    ]
   },
   "outputs": [
    {
     "data": {
      "text/plain": [
       "Text(0.5, 1.0, 'Magnetization over time')"
      ]
     },
     "execution_count": 18,
     "metadata": {},
     "output_type": "execute_result"
    },
    {
     "data": {
      "image/png": "[encoded data removed]",
      "text/plain": [
       "<Figure size 640x480 with 1 Axes>"
      ]
     },
     "metadata": {},
     "output_type": "display_data"
    }
   ],
   "source": [
    "magnetizations_gd = np.real(result_gd.observables)[:, 1]\n",
    "\n",
    "plt.plot(result.times[: n + 1], magnetizations[: n + 1], \"-\", color=\"crimson\", label=\"BFGS\")\n",
    "plt.plot(result_gd.times, magnetizations_gd, \"--\", color=\"crimson\", label=\"Gradient descent\")\n",
    "plt.plot(exact_times[: n + 1], exact_magnetizations[: n + 1], \":\", color=\"k\", label=\"Exact\")\n",
    "plt.legend(loc=\"best\")\n",
    "plt.xlabel(\"time $t$\")\n",
    "plt.ylabel(r\"magnetization $\\langle Z_1 + Z_2 \\rangle$\")\n",
    "plt.title(\"Magnetization over time\")"
   ]
  },
  {
   "cell_type": "markdown",
   "metadata": {},
   "source": [
    "The magnetization, however, is computed very precisely."
   ]
  },
  {
   "cell_type": "code",
   "execution_count": 19,
   "metadata": {
    "execution": {
     "iopub.execute_input": "2025-09-03T20:09:04.797047Z",
     "iopub.status.busy": "2025-09-03T20:09:04.796838Z",
     "iopub.status.idle": "2025-09-03T20:09:04.804441Z",
     "shell.execute_reply": "2025-09-03T20:09:04.803783Z"
    }
   },
   "outputs": [
    {
     "data": {
      "text/html": [
       "<h3>Version Information</h3><table><tr><th>Software</th><th>Version</th></tr><tr><td><code>qiskit</code></td><td>2.0.3</td></tr><tr><td><code>qiskit_algorithms</code></td><td>0.4.0</td></tr><tr><th colspan='2'>System information</th></tr><tr><td>Python version</td><td>3.10.18</td></tr><tr><td>OS</td><td>Linux</td></tr><tr><td colspan='2'>Wed Sep 03 20:09:04 2025 UTC</td></tr></table>"
      ],
      "text/plain": [
       "<IPython.core.display.HTML object>"
      ]
     },
     "metadata": {},
     "output_type": "display_data"
    },
    {
     "data": {
      "text/html": [
       "<div style='width: 100%; background-color:#d5d9e0;padding-left: 10px; padding-bottom: 10px; padding-right: 10px; padding-top: 5px'><h3>This code is a part of a Qiskit project</h3><p>&copy; Copyright IBM 2017, 2025.</p><p>This code is licensed under the Apache License, Version 2.0. You may<br>obtain a copy of this license in the LICENSE.txt file in the root directory<br> of this source tree or at http://www.apache.org/licenses/LICENSE-2.0.<p>Any modifications or derivative works of this code must retain this<br>copyright notice, and modified files need to carry a notice indicating<br>that they have been altered from the originals.</p></div>"
      ],
      "text/plain": [
       "<IPython.core.display.HTML object>"
      ]
     },
     "metadata": {},
     "output_type": "display_data"
    }
   ],
   "source": [
    "import tutorial_magics\n",
    "\n",
    "%qiskit_version_table\n",
    "%qiskit_copyright"
   ]
  }
 ],
 "metadata": {
  "celltoolbar": "Edit Metadata",
  "kernelspec": {
   "display_name": "Python 3 (ipykernel)",
   "language": "python",
   "name": "python3"
  },
  "language_info": {
   "codemirror_mode": {
    "name": "ipython",
    "version": 3
   },
   "file_extension": ".py",
   "mimetype": "text/x-python",
   "name": "python",
   "nbconvert_exporter": "python",
   "pygments_lexer": "ipython3",
   "version": "3.10.18"
  }
 },
 "nbformat": 4,
 "nbformat_minor": 4
}
