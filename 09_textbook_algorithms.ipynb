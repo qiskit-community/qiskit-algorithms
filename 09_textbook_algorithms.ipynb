{
 "cells": [
  {
   "cell_type": "markdown",
   "metadata": {},
   "source": [
    "# Textbook and Shor's algorithms\n",
    "\n",
    "Qiskit contains implementations of the well known textbook quantum algorithms such as the [Deutsch-Jozsa algorithm](https://qiskit.org/textbook/ch-algorithms/deutsch-jozsa.html), the [Bernstein-Vazirani algorithm](https://qiskit.org/textbook/ch-algorithms/bernstein-vazirani.html) and [Simon's algorithm](https://qiskit.org/textbook/ch-algorithms/simon.html).\n",
    "\n",
    "Qiskit also has an implementation of [Shor's algorithm](https://qiskit.org/textbook/ch-algorithms/shor.html).\n",
    "\n",
    "The preceding references have detailed explanations and build-out of circuits whereas this notebook has examples with the pre-built algorithms in Qiskit that you can use for experimentation and education purposes."
   ]
  },
  {
   "cell_type": "code",
   "execution_count": 1,
   "metadata": {},
   "outputs": [],
   "source": [
    "import math\n",
    "import numpy as np\n",
    "from qiskit import BasicAer\n",
    "from qiskit.aqua import QuantumInstance\n",
    "from qiskit.aqua.algorithms import BernsteinVazirani, DeutschJozsa, Simon, Shor\n",
    "from qiskit.aqua.components.oracles import TruthTableOracle"
   ]
  },
  {
   "cell_type": "markdown",
   "metadata": {},
   "source": [
    "## Deutsch-Jozsa algorithm\n",
    "\n",
    "Lets start with the [Deutsch-Jozsa algorithm](https://qiskit.org/documentation/stubs/qiskit.aqua.algorithms.DeutschJozsa.html) which can determine if a function is `'balanced'` or `'constant'` given such a function as input. We can experiment with it in Qiskit using an oracles created from a truth tables. So for example, we can create a `TruthTableOracle` instance as follows."
   ]
  },
  {
   "cell_type": "code",
   "execution_count": 2,
   "metadata": {},
   "outputs": [],
   "source": [
    "bitstr = '11110000'\n",
    "oracle = TruthTableOracle(bitstr)"
   ]
  },
  {
   "cell_type": "markdown",
   "metadata": {},
   "source": [
    "As shown, the truthtable is specified with the `bitstr` containing values of all entries in the table. It has length $8$, so the corresponding truth table is of $3$ input bits. We can of course see that this truth table represents a `'balanced'` function as half of values are $1$ and the other half $0$.\n",
    "\n",
    "It might seem like a moot point running Deutsch-Jozsa on a truthtable as the function outputs are literally listed as the truthtable's values. The intention is to create an oracle circuit whose groundtruth information is readily available to us but obviously not to the quantum Deutsch-Jozsa algorithm that is to act upon the oracle circuit. In more realistic situations, the oracle circuit would be provided as a blackbox to the algorithm.\n",
    "\n",
    "Above said, we can inspect the circuit corresponding to the function encoded in the `TruthTableOracle` instance."
   ]
  },
  {
   "cell_type": "code",
   "execution_count": 3,
   "metadata": {
    "tags": [
     "nbsphinx-thumbnail"
    ]
   },
   "outputs": [
    {
     "data": {
      "image/png": "[encoded data removed]",
      "text/plain": [
       "<matplotlib.figure.Figure at 0x7f9a07bd0e80>"
      ]
     },
     "execution_count": 3,
     "metadata": {},
     "output_type": "execute_result"
    }
   ],
   "source": [
    "oracle.circuit.draw(output='mpl')"
   ]
  },
  {
   "cell_type": "markdown",
   "metadata": {},
   "source": [
    "As seen, the $v_i$'s correspond to the 3 input bits; the $o_0$ is the oracle's output qubit; the $a_0$ is an ancilla qubit.\n",
    "\n",
    "Next we can simply create a `DeutschJozsa` instance using the oracle, and run it to check the result."
   ]
  },
  {
   "cell_type": "code",
   "execution_count": 4,
   "metadata": {},
   "outputs": [
    {
     "name": "stdout",
     "output_type": "stream",
     "text": [
      "The truth table 11110000 represents a 'balanced' function.\n"
     ]
    }
   ],
   "source": [
    "dj = DeutschJozsa(oracle)\n",
    "backend = BasicAer.get_backend('qasm_simulator')\n",
    "result = dj.run(QuantumInstance(backend, shots=1024))\n",
    "print(f'The truth table {bitstr} represents a \\'{result[\"result\"]}\\' function.')"
   ]
  },
  {
   "cell_type": "markdown",
   "metadata": {},
   "source": [
    "We can of course quickly put together another example for a `'constant'` function, as follows."
   ]
  },
  {
   "cell_type": "code",
   "execution_count": 5,
   "metadata": {},
   "outputs": [
    {
     "name": "stdout",
     "output_type": "stream",
     "text": [
      "The truth table 1111111111111111 represents a 'constant' function.\n"
     ]
    }
   ],
   "source": [
    "bitstr = '1' * 16\n",
    "oracle = TruthTableOracle(bitstr)\n",
    "dj = DeutschJozsa(oracle)\n",
    "backend = BasicAer.get_backend('qasm_simulator')\n",
    "result = dj.run(QuantumInstance(backend, shots=1024))\n",
    "print(f'The truth table {bitstr} represents a \\'{result[\"result\"]}\\' function.')"
   ]
  },
  {
   "cell_type": "markdown",
   "metadata": {},
   "source": [
    "## Bernstein-Vazirani algorithm\n",
    "\n",
    "Next the [Bernstein-Vazirani algorithm](https://qiskit.org/documentation/stubs/qiskit.aqua.algorithms.BernsteinVazirani.html) which tries to find a hidden string. Again, for the example, we create a TruthTableOracle instance."
   ]
  },
  {
   "cell_type": "code",
   "execution_count": 6,
   "metadata": {},
   "outputs": [],
   "source": [
    "bitstr = '00111100'\n",
    "oracle = TruthTableOracle(bitstr)"
   ]
  },
  {
   "cell_type": "markdown",
   "metadata": {},
   "source": [
    "As shown, the truthtable is specified with the `bitstr` containing values of all entries in the table. It has length $8$, so the corresponding truth table is of $3$ input bits. The truthtable represents the function mappings as follows:\n",
    "\n",
    "- $\\mathbf{a} \\cdot 000 \\mod 2 = 0$\n",
    "- $\\mathbf{a} \\cdot 001 \\mod 2 = 0$\n",
    "- $\\mathbf{a} \\cdot 010 \\mod 2 = 1$\n",
    "- $\\mathbf{a} \\cdot 011 \\mod 2 = 1$\n",
    "- $\\mathbf{a} \\cdot 100 \\mod 2 = 1$\n",
    "- $\\mathbf{a} \\cdot 101 \\mod 2 = 1$\n",
    "- $\\mathbf{a} \\cdot 110 \\mod 2 = 0$\n",
    "- $\\mathbf{a} \\cdot 111 \\mod 2 = 0$\n",
    "\n",
    "And obviously the goal is to find the bitstring $\\mathbf{a}$ that satisfies all the inner product equations.\n",
    "\n",
    "Lets again look at the oracle circuit, that now corresponds to the binary function encoded in the `TruthTableOracle` instance."
   ]
  },
  {
   "cell_type": "code",
   "execution_count": 7,
   "metadata": {},
   "outputs": [
    {
     "data": {
      "image/png": "[encoded data removed]",
      "text/plain": [
       "<matplotlib.figure.Figure at 0x7f9a07842978>"
      ]
     },
     "execution_count": 7,
     "metadata": {},
     "output_type": "execute_result"
    }
   ],
   "source": [
    "oracle.circuit.draw(output='mpl')"
   ]
  },
  {
   "cell_type": "markdown",
   "metadata": {},
   "source": [
    "Again the $v_i$'s correspond to the 3 input bits; the $o_0$ is the oracle's output qubit; the $a_0$ is an ancilla qubit.\n",
    "\n",
    "Let us first compute the groundtruth $\\mathbf{a}$ classically:"
   ]
  },
  {
   "cell_type": "code",
   "execution_count": 8,
   "metadata": {},
   "outputs": [
    {
     "name": "stdout",
     "output_type": "stream",
     "text": [
      "The groundtruth result bitstring is 110.\n"
     ]
    }
   ],
   "source": [
    "a_bitstr = \"\"\n",
    "num_bits = math.log2(len(bitstr))\n",
    "for i in reversed(range(3)):\n",
    "    bit = bitstr[2 ** i]\n",
    "    a_bitstr += bit\n",
    "print(f'The groundtruth result bitstring is {a_bitstr}.')"
   ]
  },
  {
   "cell_type": "markdown",
   "metadata": {},
   "source": [
    "Next we can create a `BernsteinVazirani` instance using the oracle, and run it to check the result against the groundtruth."
   ]
  },
  {
   "cell_type": "code",
   "execution_count": 9,
   "metadata": {},
   "outputs": [
    {
     "name": "stdout",
     "output_type": "stream",
     "text": [
      "The result bitstring computed using Bernstein-Vazirani is 110.\n"
     ]
    }
   ],
   "source": [
    "bv = BernsteinVazirani(oracle)\n",
    "backend = BasicAer.get_backend('qasm_simulator')\n",
    "result = bv.run(QuantumInstance(backend, shots=1024))\n",
    "print(f'The result bitstring computed using Bernstein-Vazirani is {result[\"result\"]}.')\n",
    "assert(result['result'] == a_bitstr)"
   ]
  },
  {
   "cell_type": "markdown",
   "metadata": {},
   "source": [
    "## Simon's algorithm\n",
    "\n",
    "[Simon's algorithm](https://qiskit.org/documentation/stubs/qiskit.aqua.algorithms.Simon.html) is used to solve [Simon's problem](https://en.wikipedia.org/wiki/Simon's_problem). Once again, for the example, we create a TruthTableOracle instance, where the construction shows a different form."
   ]
  },
  {
   "cell_type": "code",
   "execution_count": 10,
   "metadata": {},
   "outputs": [],
   "source": [
    "bitmaps = [\n",
    "    '01101001', \n",
    "    '10011001', \n",
    "    '01100110'\n",
    "]\n",
    "oracle = TruthTableOracle(bitmaps)"
   ]
  },
  {
   "cell_type": "markdown",
   "metadata": {},
   "source": [
    "As shown, the truthtable is specified with three length-8 bitstrings, each containing the values of all entries for a particular output column in the table. Each bitstring has length $8$, so the truthtable has $3$ input bits; There are $3$ bitstrings, so the truthtable has $3$ output bits.\n",
    "\n",
    "The function $f$ represented by the truthtable is promised to be either 1-to-1 or 2-to-1. Our goal is to determine which. For the case of 2-to-1, we also need to compute the mask $\\mathbf{s}$, which satisfies $\\forall \\mathbf{x},\\mathbf{y}$: $\\mathbf{x} \\oplus \\mathbf{y} = \\mathbf{s}$ iff $f(\\mathbf{x}) = f(\\mathbf{y})$. Apparently, if $f$ is 1-to-1, the corresponding mask $\\mathbf{s} = \\mathbf{0}$.\n",
    "\n",
    "Let us first compute the groundtruth mask $\\mathbf{s}$ classically:"
   ]
  },
  {
   "cell_type": "code",
   "execution_count": 11,
   "metadata": {},
   "outputs": [
    {
     "name": "stdout",
     "output_type": "stream",
     "text": [
      "The groundtruth mask is 011.\n"
     ]
    }
   ],
   "source": [
    "def compute_mask(input_bitmaps):\n",
    "    vals = list(zip(*input_bitmaps))[::-1]\n",
    "    def find_pair():\n",
    "        for i in range(len(vals)):\n",
    "            for j in range(i + 1, len(vals)):\n",
    "                if vals[i] == vals[j]:\n",
    "                    return i, j\n",
    "        return 0, 0\n",
    "\n",
    "    k1, k2 = find_pair()\n",
    "    return np.binary_repr(k1 ^ k2, int(np.log2(len(input_bitmaps[0]))))\n",
    "\n",
    "mask = compute_mask(bitmaps)\n",
    "print(f'The groundtruth mask is {mask}.')"
   ]
  },
  {
   "cell_type": "code",
   "execution_count": 12,
   "metadata": {},
   "outputs": [
    {
     "name": "stdout",
     "output_type": "stream",
     "text": [
      "The mask computed using Simon is 011.\n"
     ]
    }
   ],
   "source": [
    "simon = Simon(oracle)\n",
    "backend = BasicAer.get_backend('qasm_simulator')\n",
    "result = simon.run(QuantumInstance(backend, shots=1024))\n",
    "print(f'The mask computed using Simon is {result[\"result\"]}.')\n",
    "assert(result['result'] == mask)"
   ]
  },
  {
   "cell_type": "markdown",
   "metadata": {},
   "source": [
    "We can also quickly try a truthtable that represents a 1-to-1 function (i.e., the corresponding mask is $\\mathbf{0}$), as follows."
   ]
  },
  {
   "cell_type": "code",
   "execution_count": 13,
   "metadata": {},
   "outputs": [
    {
     "name": "stdout",
     "output_type": "stream",
     "text": [
      "The groundtruth mask is 000.\n",
      "The mask computed using Simon is 000.\n"
     ]
    }
   ],
   "source": [
    "bitmaps = [\n",
    "    '00011110', \n",
    "    '01100110', \n",
    "    '10101010'\n",
    "]\n",
    "mask = compute_mask(bitmaps)\n",
    "print(f'The groundtruth mask is {mask}.')\n",
    "\n",
    "oracle = TruthTableOracle(bitmaps)\n",
    "simon = Simon(oracle)\n",
    "result = simon.run(QuantumInstance(backend, shots=1024))\n",
    "print(f'The mask computed using Simon is {result[\"result\"]}.')\n",
    "assert(result['result'] == mask)"
   ]
  },
  {
   "cell_type": "markdown",
   "metadata": {},
   "source": [
    "## Shor's Factoring algorithm\n",
    "\n",
    "[Shor’s Factoring algorithm](https://qiskit.org/documentation/stubs/qiskit.aqua.algorithms.Shor.html) is one of the most well-known quantum algorithms and finds the prime factors for input integer $N$ in polynomial time. The algorithm implementation in Qiskit is simply provided a target integer to be factored and run, as follows:"
   ]
  },
  {
   "cell_type": "code",
   "execution_count": 14,
   "metadata": {},
   "outputs": [
    {
     "name": "stdout",
     "output_type": "stream",
     "text": [
      "The list of factors of 15 as computed by the Shor's algorithm is [3, 5].\n"
     ]
    }
   ],
   "source": [
    "N = 15\n",
    "shor = Shor(N)\n",
    "backend = BasicAer.get_backend('qasm_simulator')\n",
    "quantum_instance = QuantumInstance(backend, shots=1024)\n",
    "result = shor.run(quantum_instance)\n",
    "print(f\"The list of factors of {N} as computed by the Shor's algorithm is {result['factors'][0]}.\")"
   ]
  },
  {
   "cell_type": "markdown",
   "metadata": {},
   "source": [
    "Note: this implementation of Shor's algorithm uses $4n + 2$ qubits, where $n$ is the number of bits representing the integer in binary. So in practice, for now, this implementation is restricted to factorizing small integers. Given the above value of N we compute $4n +2$ below and confirm the size from the actual circuit."
   ]
  },
  {
   "cell_type": "code",
   "execution_count": 15,
   "metadata": {},
   "outputs": [
    {
     "name": "stdout",
     "output_type": "stream",
     "text": [
      "Computed of qubits for circuit: 18\n",
      "Actual number of qubits of circuit: 18\n"
     ]
    }
   ],
   "source": [
    "print(f'Computed of qubits for circuit: {4 * math.ceil(math.log(N, 2)) + 2}')\n",
    "print(f'Actual number of qubits of circuit: {shor.construct_circuit().num_qubits}')"
   ]
  },
  {
   "cell_type": "code",
   "execution_count": 16,
   "metadata": {},
   "outputs": [
    {
     "data": {
      "text/html": [
       "<h3>Version Information</h3><table><tr><th>Qiskit Software</th><th>Version</th></tr><tr><td>Qiskit</td><td>0.23.0</td></tr><tr><td>Terra</td><td>0.16.0</td></tr><tr><td>Aer</td><td>0.7.0</td></tr><tr><td>Ignis</td><td>0.5.0</td></tr><tr><td>Aqua</td><td>0.8.0</td></tr><tr><td>IBM Q Provider</td><td>0.11.0</td></tr><tr><th>System information</th></tr><tr><td>Python</td><td>3.6.1 |Continuum Analytics, Inc.| (default, May 11 2017, 13:09:58) \n",
       "[GCC 4.4.7 20120313 (Red Hat 4.4.7-1)]</td></tr><tr><td>OS</td><td>Linux</td></tr><tr><td>CPUs</td><td>1</td></tr><tr><td>Memory (Gb)</td><td>5.827335357666016</td></tr><tr><td colspan='2'>Sun Nov 08 16:49:50 2020 EST</td></tr></table>"
      ],
      "text/plain": [
       "<IPython.core.display.HTML object>"
      ]
     },
     "metadata": {},
     "output_type": "display_data"
    },
    {
     "data": {
      "text/html": [
       "<div style='width: 100%; background-color:#d5d9e0;padding-left: 10px; padding-bottom: 10px; padding-right: 10px; padding-top: 5px'><h3>This code is a part of Qiskit</h3><p>&copy; Copyright IBM 2017, 2020.</p><p>This code is licensed under the Apache License, Version 2.0. You may<br>obtain a copy of this license in the LICENSE.txt file in the root directory<br> of this source tree or at http://www.apache.org/licenses/LICENSE-2.0.<p>Any modifications or derivative works of this code must retain this<br>copyright notice, and modified files need to carry a notice indicating<br>that they have been altered from the originals.</p></div>"
      ],
      "text/plain": [
       "<IPython.core.display.HTML object>"
      ]
     },
     "metadata": {},
     "output_type": "display_data"
    }
   ],
   "source": [
    "import qiskit.tools.jupyter\n",
    "%qiskit_version_table\n",
    "%qiskit_copyright"
   ]
  }
 ],
 "metadata": {
  "kernelspec": {
   "display_name": "Python 3",
   "language": "python",
   "name": "python3"
  },
  "language_info": {
   "codemirror_mode": {
    "name": "ipython",
    "version": 3
   },
   "file_extension": ".py",
   "mimetype": "text/x-python",
   "name": "python",
   "nbconvert_exporter": "python",
   "pygments_lexer": "ipython3",
   "version": "3.6.1"
  }
 },
 "nbformat": 4,
 "nbformat_minor": 2
}
