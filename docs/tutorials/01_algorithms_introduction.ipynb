{
 "cells": [
  {
   "cell_type": "markdown",
   "metadata": {},
   "source": [
    "# An Introduction to Algorithms using Qiskit\n",
    "\n",
    "This introduction to algorithms using Qiskit provides a high-level overview to get started with the `qiskit_algorithms` library."
   ]
  },
  {
   "cell_type": "markdown",
   "metadata": {},
   "source": [
    "## How is the algorithm library structured?\n",
    "\n",
    "`qiskit_algorithms` provides a number of [algorithms](https://qiskit-community.github.io/qiskit-algorithms/apidocs/algorithms.html) grouped by category, according to the task they can perform. For instance `Minimum Eigensolvers` to find the smallest eigen value of an operator, for example ground state energy of a chemistry Hamiltonian or a solution to an optimization problem when expressed as an Ising Hamiltonian. There are `Time Evolvers` for the time evolution of quantum systems and `Amplitude Estimators` for value estimation that can be used say in financial applications. The full set of categories can be seen in the documentation link above.\n",
    "\n",
    "Algorithms are configurable, and part of the configuration will often be in the form of smaller building blocks. For instance `VQE`, the Variational Quantum Eigensolver, it takes a trial wavefunction, in the form of a `QuantumCircuit` and a classical optimizer among other things.\n",
    "\n",
    "Let's take a look at an example to construct a VQE instance. Here, `n_local` is the variational form (trial wavefunction), a parameterized circuit which can be varied, and `SLSQP` a classical optimizer. These are created as separate instances and passed to VQE when it is constructed. Trying, for example, a different classical optimizer, or variational form is simply a case of creating an instance of the one you want and passing it into VQE."
   ]
  },
  {
   "cell_type": "code",
   "execution_count": 1,
   "metadata": {},
   "outputs": [],
   "source": [
    "from qiskit_algorithms.optimizers import SLSQP\n",
    "from qiskit.circuit.library import n_local\n",
    "\n",
    "num_qubits = 2\n",
    "ansatz = n_local(num_qubits, \"ry\", \"cz\")\n",
    "optimizer = SLSQP(maxiter=1000)"
   ]
  },
  {
   "cell_type": "markdown",
   "metadata": {},
   "source": [
    "Let's draw the ansatz so we can see it's a `QuantumCircuit` where θ\\[0\\] through θ\\[7\\] will be the parameters that are varied as VQE optimizer finds the minimum eigenvalue. We'll come back to the parameters later in a working example below."
   ]
  },
  {
   "cell_type": "code",
   "execution_count": 2,
   "metadata": {
    "tags": [
     "nbsphinx-thumbnail"
    ]
   },
   "outputs": [
    {
     "data": {
      "image/png": "[encoded data removed]",
      "text/plain": [
       "<Figure size 705.35x200.667 with 1 Axes>"
      ]
     },
     "execution_count": 2,
     "metadata": {},
     "output_type": "execute_result"
    }
   ],
   "source": [
    "ansatz.draw(\"mpl\")"
   ]
  },
  {
   "cell_type": "markdown",
   "metadata": {},
   "source": [
    "But more is needed before we can run the algorithm so let's get to that next."
   ]
  },
  {
   "cell_type": "markdown",
   "metadata": {},
   "source": [
    "## How to run an algorithm?\n",
    "\n",
    "Algorithms rely on the primitives to evaluate expectation values or sample circuits. The primitives can be based on a simulator or real device and can be used interchangeably in the algorithms, as they all implement the same interface.\n",
    "\n",
    "In the VQE, we have to evaluate expectation values, so for example we can use the [qiskit.primitives.StatevectorEstimator](https://quantum.cloud.ibm.com/docs/api/qiskit/qiskit.primitives.StatevectorEstimator) which is shipped with the default Qiskit installation."
   ]
  },
  {
   "cell_type": "code",
   "execution_count": 3,
   "metadata": {},
   "outputs": [],
   "source": [
    "from qiskit.primitives import StatevectorEstimator\n",
    "\n",
    "estimator = StatevectorEstimator()"
   ]
  },
  {
   "cell_type": "markdown",
   "metadata": {},
   "source": [
    "This estimator uses an exact, statevector simulation to evaluate the expectation values. We can also use a noisy simulator or real backends instead. For more information of the simulators you can check out [Qiskit Aer](https://qiskit.github.io/qiskit-aer/apidocs/aer_primitives.html) and for the actual hardware [Qiskit IBM Runtime](https://quantum.cloud.ibm.com/docs/api/qiskit-ibm-runtime).\n",
    "\n",
    "With all the ingredients ready, we can now instantiate the VQE:"
   ]
  },
  {
   "cell_type": "code",
   "execution_count": 4,
   "metadata": {},
   "outputs": [],
   "source": [
    "from qiskit_algorithms import VQE\n",
    "\n",
    "vqe = VQE(estimator, ansatz, optimizer)"
   ]
  },
  {
   "cell_type": "markdown",
   "metadata": {},
   "source": [
    "Now we can call the [compute_mininum_eigenvalue()](https://qiskit-community.github.io/qiskit-algorithms/stubs/qiskit_algorithms.VQE.html#qiskit_algorithms.VQE.compute_minimum_eigenvalue) method. The latter is the interface of choice for the application modules, such as Nature and Optimization, in order that they can work interchangeably with any algorithm within the specific category."
   ]
  },
  {
   "cell_type": "markdown",
   "metadata": {},
   "source": [
    "## A complete working example\n",
    "\n",
    "Let's put what we have learned from above together and create a complete working example. VQE will find the minimum eigenvalue, i.e. minimum energy value of a Hamiltonian operator and hence we need such an operator for VQE to work with. Such an operator is given below. This was originally created by the Nature application module as the Hamiltonian for an H2 molecule at 0.735A interatomic distance. It's a sum of Pauli terms as below."
   ]
  },
  {
   "cell_type": "code",
   "execution_count": 5,
   "metadata": {},
   "outputs": [],
   "source": [
    "from qiskit.quantum_info import SparsePauliOp\n",
    "\n",
    "H2_op = SparsePauliOp.from_list(\n",
    "    [\n",
    "        (\"II\", -1.052373245772859),\n",
    "        (\"IZ\", 0.39793742484318045),\n",
    "        (\"ZI\", -0.39793742484318045),\n",
    "        (\"ZZ\", -0.01128010425623538),\n",
    "        (\"XX\", 0.18093119978423156),\n",
    "    ]\n",
    ")"
   ]
  },
  {
   "cell_type": "markdown",
   "metadata": {},
   "source": [
    "So let's run VQE and print the result object it returns."
   ]
  },
  {
   "cell_type": "code",
   "execution_count": 6,
   "metadata": {
    "scrolled": true
   },
   "outputs": [
    {
     "name": "stdout",
     "output_type": "stream",
     "text": [
      "{   'aux_operators_evaluated': None,\n",
      "    'cost_function_evals': 56,\n",
      "    'eigenvalue': np.float64(-1.8572750043551267),\n",
      "    'optimal_circuit': <qiskit.circuit.quantumcircuit.QuantumCircuit object at 0x7f9de46c0c90>,\n",
      "    'optimal_parameters': {   ParameterVectorElement(θ[0]): np.float64(3.8216810016823652),\n",
      "                              ParameterVectorElement(θ[1]): np.float64(-6.310507271097852),\n",
      "                              ParameterVectorElement(θ[2]): np.float64(2.761245969250949),\n",
      "                              ParameterVectorElement(θ[3]): np.float64(2.4401140923202016),\n",
      "                              ParameterVectorElement(θ[4]): np.float64(2.833791885749139),\n",
      "                              ParameterVectorElement(θ[5]): np.float64(-5.526380711861978),\n",
      "                              ParameterVectorElement(θ[6]): np.float64(-0.5241844512608815),\n",
      "                              ParameterVectorElement(θ[7]): np.float64(3.128832883826076)},\n",
      "    'optimal_point': array([ 3.821681  , -6.31050727,  2.76124597,  2.44011409,  2.83379189,\n",
      "       -5.52638071, -0.52418445,  3.12883288]),\n",
      "    'optimal_value': np.float64(-1.8572750043551267),\n",
      "    'optimizer_evals': None,\n",
      "    'optimizer_result': <qiskit_algorithms.optimizers.optimizer.OptimizerResult object at 0x7f9e1af217f0>,\n",
      "    'optimizer_time': 0.962010383605957}\n"
     ]
    }
   ],
   "source": [
    "result = vqe.compute_minimum_eigenvalue(H2_op)\n",
    "print(result)"
   ]
  },
  {
   "cell_type": "markdown",
   "metadata": {},
   "source": [
    "From the above result we can see the number of cost function (=energy) evaluations the optimizer took until it found the minimum eigenvalue of $\\approx -1.85727$ which is the electronic ground state energy of the given H2 molecule. The optimal parameters of the ansatz can also be seen which are the values that were in the ansatz at the minimum value."
   ]
  },
  {
   "cell_type": "markdown",
   "metadata": {},
   "source": [
    "## Updating the primitive inside VQE\n",
    "\n",
    "Let's also change the estimator primitive inside the a VQE. Maybe you're satisfied with the simulation results and now want to use a noisy simulator, or run on hardware!\n",
    "\n",
    "In this example we're changing to a noisy estimator, still using Qiskit's reference primitive. However, you could replace the primitive by e.g. Qiskit Aer's estimator ([qiskit_aer.primitives.EstimatorV2](https://qiskit.github.io/qiskit-aer/stubs/qiskit_aer.primitives.EstimatorV2.html#qiskit_aer.primitives.EstimatorV2)) or even a real backend ([qiskit_ibm_runtime.EstimatorV2](https://quantum.cloud.ibm.com/docs/api/qiskit-ibm-runtime/estimator-v2)).\n",
    "\n",
    "For noisy loss functions, the SPSA optimizer typically performs well, so we also update the optimizer. See also the [noisy VQE tutorial](03_vqe_simulation_with_noise.ipynb) for more details on shot-based and noisy simulations."
   ]
  },
  {
   "cell_type": "code",
   "execution_count": 7,
   "metadata": {},
   "outputs": [
    {
     "name": "stdout",
     "output_type": "stream",
     "text": [
      "{   'aux_operators_evaluated': None,\n",
      "    'cost_function_evals': 200,\n",
      "    'eigenvalue': np.float64(-1.8642631852005251),\n",
      "    'optimal_circuit': <qiskit.circuit.quantumcircuit.QuantumCircuit object at 0x7f9de46c3cb0>,\n",
      "    'optimal_parameters': {   ParameterVectorElement(θ[0]): np.float64(3.18874102257752),\n",
      "                              ParameterVectorElement(θ[1]): np.float64(4.44525009783019),\n",
      "                              ParameterVectorElement(θ[2]): np.float64(-5.432050386217793),\n",
      "                              ParameterVectorElement(θ[3]): np.float64(2.9633312549903157),\n",
      "                              ParameterVectorElement(θ[4]): np.float64(-3.3561398735861885),\n",
      "                              ParameterVectorElement(θ[5]): np.float64(-2.4499114699188227),\n",
      "                              ParameterVectorElement(θ[6]): np.float64(-2.3107200250466),\n",
      "                              ParameterVectorElement(θ[7]): np.float64(1.2611466356539753)},\n",
      "    'optimal_point': array([ 3.18874102,  4.4452501 , -5.43205039,  2.96333125, -3.35613987,\n",
      "       -2.44991147, -2.31072003,  1.26114664]),\n",
      "    'optimal_value': np.float64(-1.8642631852005251),\n",
      "    'optimizer_evals': None,\n",
      "    'optimizer_result': <qiskit_algorithms.optimizers.optimizer.OptimizerResult object at 0x7f9de47ef250>,\n",
      "    'optimizer_time': 3.6822474002838135}\n"
     ]
    }
   ],
   "source": [
    "from qiskit_algorithms.optimizers import SPSA\n",
    "\n",
    "estimator = StatevectorEstimator(default_precision=1e-2)\n",
    "\n",
    "vqe.estimator = estimator\n",
    "vqe.optimizer = SPSA(maxiter=100)\n",
    "result = vqe.compute_minimum_eigenvalue(operator=H2_op)\n",
    "print(result)"
   ]
  },
  {
   "cell_type": "markdown",
   "metadata": {},
   "source": [
    "Note: We do not fix the random seed in the simulators here, so re-running gives slightly varying results."
   ]
  },
  {
   "cell_type": "markdown",
   "metadata": {},
   "source": [
    "## Transpilation options\n",
    "To close off, if you want to run on real hardware, you'll be required to transpile your circuits beforehand. In some cases, such as in `VQE`, the circuit is provided by the user, which means that it can be transpiled beforehand. But in other cases, such as in [`Grover`](https://qiskit-community.github.io/qiskit-algorithms/stubs/qiskit_algorithms.Grover.html), the class creates its circuit internally.\n",
    "\n",
    "To deal with this problem, every user-facing class in `qiskit-algorithms` can be provided with a `transpiler` and a a `transpiler_options` keyword-only arguments. The `transpiler` is any object having a `run` method that is able to transpile a `QuantumCircuit`, while the `transpiler_options` argument is a dictionary of options to be passed to the `transpiler`'s `run` method.\n",
    "\n",
    "As an example, let us define a custom backend on four qubits. Note that this backend has more qubits than our ansatz and our observable."
   ]
  },
  {
   "cell_type": "code",
   "execution_count": 8,
   "metadata": {},
   "outputs": [],
   "source": [
    "from qiskit_aer.noise import NoiseModel\n",
    "from qiskit.providers.fake_provider import GenericBackendV2\n",
    "\n",
    "coupling_map = [(0, 1), (1, 2), (2, 3)]\n",
    "backend = GenericBackendV2(num_qubits=4, coupling_map=coupling_map, seed=54)"
   ]
  },
  {
   "cell_type": "markdown",
   "metadata": {},
   "source": [
    "Let us define a `PassManager` for this backend."
   ]
  },
  {
   "cell_type": "code",
   "execution_count": 9,
   "metadata": {},
   "outputs": [],
   "source": [
    "from qiskit.transpiler.preset_passmanagers import generate_preset_pass_manager\n",
    "\n",
    "pm = generate_preset_pass_manager(optimization_level=2, backend=backend)"
   ]
  },
  {
   "cell_type": "markdown",
   "metadata": {},
   "source": [
    "We can then pass this `PassManager` to the `transpiler` keyword argument of the `VQE` constructor. We can also pass any options to the `run` method of the `Transpiler` by setting the `transpiler_options` keyword argument to a dictionary specifying said options. For instance, let us define a `callback` function that prints out that it has been called on the very first step of the transpilation."
   ]
  },
  {
   "cell_type": "code",
   "execution_count": 10,
   "metadata": {},
   "outputs": [],
   "source": [
    "def callback(**kwargs):\n",
    "    if kwargs[\"count\"] == 0:\n",
    "        print(\"Callback function has been called!\")"
   ]
  },
  {
   "cell_type": "markdown",
   "metadata": {},
   "source": [
    "We can now build a `VQE` instance using this `PassManager` like so."
   ]
  },
  {
   "cell_type": "code",
   "execution_count": 11,
   "metadata": {},
   "outputs": [
    {
     "name": "stdout",
     "output_type": "stream",
     "text": [
      "Callback function has been called!\n",
      "{   'aux_operators_evaluated': None,\n",
      "    'cost_function_evals': 200,\n",
      "    'eigenvalue': np.float64(-1.850941224424128),\n",
      "    'optimal_circuit': <qiskit.circuit.quantumcircuit.QuantumCircuit object at 0x7f9de4761390>,\n",
      "    'optimal_parameters': {   ParameterVectorElement(θ[0]): np.float64(-5.767339784150907),\n",
      "                              ParameterVectorElement(θ[1]): np.float64(-3.125873085717741),\n",
      "                              ParameterVectorElement(θ[2]): np.float64(0.624838684681521),\n",
      "                              ParameterVectorElement(θ[3]): np.float64(0.2986408161141705),\n",
      "                              ParameterVectorElement(θ[4]): np.float64(7.011272184157897),\n",
      "                              ParameterVectorElement(θ[5]): np.float64(0.03033368552671569),\n",
      "                              ParameterVectorElement(θ[6]): np.float64(-2.5898620839549285),\n",
      "                              ParameterVectorElement(θ[7]): np.float64(2.863708966610142)},\n",
      "    'optimal_point': array([-5.76733978, -3.12587309,  0.62483868,  0.29864082,  7.01127218,\n",
      "        0.03033369, -2.58986208,  2.86370897]),\n",
      "    'optimal_value': np.float64(-1.850941224424128),\n",
      "    'optimizer_evals': None,\n",
      "    'optimizer_result': <qiskit_algorithms.optimizers.optimizer.OptimizerResult object at 0x7f9de46f5a90>,\n",
      "    'optimizer_time': 3.1750471591949463}\n"
     ]
    }
   ],
   "source": [
    "vqe = VQE(\n",
    "    estimator, ansatz, SPSA(maxiter=100), transpiler=pm, transpiler_options={\"callback\": callback}\n",
    ")\n",
    "result = vqe.compute_minimum_eigenvalue(operator=H2_op)\n",
    "print(result)"
   ]
  },
  {
   "cell_type": "markdown",
   "metadata": {},
   "source": [
    "Note that as seen below, the ansatz has automatically been transpiled."
   ]
  },
  {
   "cell_type": "code",
   "execution_count": 12,
   "metadata": {},
   "outputs": [
    {
     "data": {
      "image/png": "[encoded data removed]",
      "text/plain": [
       "<Figure size 2262.63x451.5 with 1 Axes>"
      ]
     },
     "execution_count": 12,
     "metadata": {},
     "output_type": "execute_result"
    }
   ],
   "source": [
    "vqe.ansatz.draw(\"mpl\")"
   ]
  },
  {
   "cell_type": "markdown",
   "metadata": {},
   "source": [
    "This concludes this introduction to algorithms using Qiskit. Please check out the other algorithm tutorials in this series for both broader as well as more in depth coverage of the algorithms."
   ]
  },
  {
   "cell_type": "code",
   "execution_count": 13,
   "metadata": {
    "pycharm": {
     "name": "#%%\n"
    }
   },
   "outputs": [
    {
     "data": {
      "text/html": [
       "<h3>Version Information</h3><table><tr><th>Software</th><th>Version</th></tr><tr><td><code>qiskit</code></td><td>2.0.2</td></tr><tr><td><code>qiskit_algorithms</code></td><td>0.4.0</td></tr><tr><td><code>qiskit_aer</code></td><td>0.17.0</td></tr><tr><th colspan='2'>System information</th></tr><tr><td>Python version</td><td>3.13.5</td></tr><tr><td>OS</td><td>Linux</td></tr><tr><td colspan='2'>Sun Jul 20 19:49:21 2025 CEST</td></tr></table>"
      ],
      "text/plain": [
       "<IPython.core.display.HTML object>"
      ]
     },
     "metadata": {},
     "output_type": "display_data"
    },
    {
     "data": {
      "text/html": [
       "<div style='width: 100%; background-color:#d5d9e0;padding-left: 10px; padding-bottom: 10px; padding-right: 10px; padding-top: 5px'><h3>This code is a part of a Qiskit project</h3><p>&copy; Copyright IBM 2017, 2025.</p><p>This code is licensed under the Apache License, Version 2.0. You may<br>obtain a copy of this license in the LICENSE.txt file in the root directory<br> of this source tree or at http://www.apache.org/licenses/LICENSE-2.0.<p>Any modifications or derivative works of this code must retain this<br>copyright notice, and modified files need to carry a notice indicating<br>that they have been altered from the originals.</p></div>"
      ],
      "text/plain": [
       "<IPython.core.display.HTML object>"
      ]
     },
     "metadata": {},
     "output_type": "display_data"
    }
   ],
   "source": [
    "import tutorial_magics\n",
    "\n",
    "%qiskit_version_table\n",
    "%qiskit_copyright"
   ]
  }
 ],
 "metadata": {
  "celltoolbar": "Edit Metadata",
  "kernelspec": {
   "display_name": "Python 3 (ipykernel)",
   "language": "python",
   "name": "python3"
  },
  "language_info": {
   "codemirror_mode": {
    "name": "ipython",
    "version": 3
   },
   "file_extension": ".py",
   "mimetype": "text/x-python",
   "name": "python",
   "nbconvert_exporter": "python",
   "pygments_lexer": "ipython3",
   "version": "3.13.5"
  },
  "vscode": {
   "interpreter": {
    "hash": "f8729fd834348017bca17aea688b306f536a675180840f7307eb909fff39c285"
   }
  }
 },
 "nbformat": 4,
 "nbformat_minor": 4
}
