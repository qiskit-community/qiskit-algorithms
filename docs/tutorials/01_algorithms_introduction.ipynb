{
 "cells": [
  {
   "cell_type": "markdown",
   "metadata": {},
   "source": [
    "# An Introduction to Algorithms using Qiskit\n",
    "\n",
    "This introduction to algorithms using Qiskit provides a high-level overview to get started with the `qiskit_algorithms` library."
   ]
  },
  {
   "cell_type": "markdown",
   "metadata": {},
   "source": [
    "## How is the algorithm library structured?\n",
    "\n",
    "`qiskit_algorithms` provides a number of [algorithms](https://qiskit-community.github.io/qiskit-algorithms/apidocs/algorithms.html) grouped by category, according to the task they can perform. For instance `Minimum Eigensolvers` to find the smallest eigen value of an operator, for example ground state energy of a chemistry Hamiltonian or a solution to an optimization problem when expressed as an Ising Hamiltonian. There are `Time Evolvers` for the time evolution of quantum systems and `Amplitude Estimators` for value estimation that can be used say in financial applications. The full set of categories can be seen in the documentation link above.\n",
    "\n",
    "Algorithms are configurable, and part of the configuration will often be in the form of smaller building blocks. For instance `VQE`, the Variational Quantum Eigensolver, it takes a trial wavefunction, in the form of a `QuantumCircuit` and a classical optimizer among other things.\n",
    "\n",
    "Let's take a look at an example to construct a VQE instance. Here, `TwoLocal` is the variational form (trial wavefunction), a parameterized circuit which can be varied, and `SLSQP` a classical optimizer. These are created as separate instances and passed to VQE when it is constructed. Trying, for example, a different classical optimizer, or variational form is simply a case of creating an instance of the one you want and passing it into VQE."
   ]
  },
  {
   "cell_type": "code",
   "execution_count": 1,
   "metadata": {},
   "outputs": [],
   "source": [
    "from qiskit_algorithms.optimizers import SLSQP\n",
    "from qiskit.circuit.library import TwoLocal\n",
    "\n",
    "num_qubits = 2\n",
    "ansatz = TwoLocal(num_qubits, \"ry\", \"cz\")\n",
    "optimizer = SLSQP(maxiter=1000)"
   ]
  },
  {
   "cell_type": "markdown",
   "metadata": {},
   "source": [
    "Let's draw the ansatz so we can see it's a `QuantumCircuit` where θ\\[0\\] through θ\\[7\\] will be the parameters that are varied as VQE optimizer finds the minimum eigenvalue. We'll come back to the parameters later in a working example below."
   ]
  },
  {
   "cell_type": "code",
   "execution_count": 2,
   "metadata": {
    "tags": [
     "nbsphinx-thumbnail"
    ]
   },
   "outputs": [
    {
     "data": {
      "image/png": "[encoded data removed]",
      "text/plain": [
       "<Figure size 705.35x200.667 with 1 Axes>"
      ]
     },
     "execution_count": 2,
     "metadata": {},
     "output_type": "execute_result"
    }
   ],
   "source": [
    "ansatz.decompose().draw(\"mpl\")"
   ]
  },
  {
   "cell_type": "markdown",
   "metadata": {},
   "source": [
    "But more is needed before we can run the algorithm so let's get to that next."
   ]
  },
  {
   "cell_type": "markdown",
   "metadata": {},
   "source": [
    "## How to run an algorithm?\n",
    "\n",
    "Algorithms rely on the primitives to evaluate expectation values or sample circuits. The primitives can be based on a simulator or real device and can be used interchangeably in the algorithms, as they all implement the same interface.\n",
    "\n",
    "In the VQE, we have to evaluate expectation values, so for example we can use the [qiskit.primitives.Estimator](https://docs.quantum.ibm.com/api/qiskit/qiskit.primitives.Estimator) which is shipped with the default Qiskit installation."
   ]
  },
  {
   "cell_type": "code",
   "execution_count": 3,
   "metadata": {},
   "outputs": [],
   "source": [
    "from qiskit.primitives import Estimator\n",
    "\n",
    "estimator = Estimator()"
   ]
  },
  {
   "cell_type": "markdown",
   "metadata": {},
   "source": [
    "This estimator uses an exact, statevector simulation to evaluate the expectation values. We can also use a shot-based and noisy simulators or real backends instead. For more information of the simulators you can check out [Qiskit Aer](https://qiskit.github.io/qiskit-aer/apidocs/aer_primitives.html) and for the actual hardware [Qiskit IBM Runtime](https://docs.quantum.ibm.com/api/qiskit-ibm-runtime).\n",
    "\n",
    "With all the ingredients ready, we can now instantiate the VQE:"
   ]
  },
  {
   "cell_type": "code",
   "execution_count": 4,
   "metadata": {},
   "outputs": [],
   "source": [
    "from qiskit_algorithms import VQE\n",
    "\n",
    "vqe = VQE(estimator, ansatz, optimizer)"
   ]
  },
  {
   "cell_type": "markdown",
   "metadata": {},
   "source": [
    "Now we can call the [compute_mininum_eigenvalue()](https://qiskit-community.github.io/qiskit-algorithms/stubs/qiskit_algorithms.VQE.html#qiskit_algorithms.VQE.compute_minimum_eigenvalue) method. The latter is the interface of choice for the application modules, such as Nature and Optimization, in order that they can work interchangeably with any algorithm within the specific category."
   ]
  },
  {
   "cell_type": "markdown",
   "metadata": {},
   "source": [
    "## A complete working example\n",
    "\n",
    "Let's put what we have learned from above together and create a complete working example. VQE will find the minimum eigenvalue, i.e. minimum energy value of a Hamiltonian operator and hence we need such an operator for VQE to work with. Such an operator is given below. This was originally created by the Nature application module as the Hamiltonian for an H2 molecule at 0.735A interatomic distance. It's a sum of Pauli terms as below."
   ]
  },
  {
   "cell_type": "code",
   "execution_count": 5,
   "metadata": {},
   "outputs": [],
   "source": [
    "from qiskit.quantum_info import SparsePauliOp\n",
    "\n",
    "H2_op = SparsePauliOp.from_list(\n",
    "    [\n",
    "        (\"II\", -1.052373245772859),\n",
    "        (\"IZ\", 0.39793742484318045),\n",
    "        (\"ZI\", -0.39793742484318045),\n",
    "        (\"ZZ\", -0.01128010425623538),\n",
    "        (\"XX\", 0.18093119978423156),\n",
    "    ]\n",
    ")"
   ]
  },
  {
   "cell_type": "markdown",
   "metadata": {},
   "source": [
    "So let's run VQE and print the result object it returns."
   ]
  },
  {
   "cell_type": "code",
   "execution_count": 6,
   "metadata": {
    "scrolled": true
   },
   "outputs": [
    {
     "name": "stdout",
     "output_type": "stream",
     "text": [
      "{   'aux_operators_evaluated': None,\n",
      "    'cost_function_evals': 65,\n",
      "    'eigenvalue': -1.8572749648726616,\n",
      "    'optimal_circuit': <qiskit.circuit.library.n_local.two_local.TwoLocal object at 0x7fad40303c10>,\n",
      "    'optimal_parameters': {   ParameterVectorElement(θ[0]): -1.8728053741446136,\n",
      "                              ParameterVectorElement(θ[1]): -1.1391138641128078,\n",
      "                              ParameterVectorElement(θ[2]): 5.869131287606581,\n",
      "                              ParameterVectorElement(θ[3]): 6.351926438071783,\n",
      "                              ParameterVectorElement(θ[4]): 4.99489396352954,\n",
      "                              ParameterVectorElement(θ[5]): -0.5439930158788345,\n",
      "                              ParameterVectorElement(θ[6]): -5.992252149482055,\n",
      "                              ParameterVectorElement(θ[7]): -1.6792234013467686},\n",
      "    'optimal_point': array([-1.87280537, -1.13911386,  5.86913129,  6.35192644,  4.99489396,\n",
      "       -0.54399302, -5.99225215, -1.6792234 ]),\n",
      "    'optimal_value': -1.8572749648726616,\n",
      "    'optimizer_evals': None,\n",
      "    'optimizer_result': <qiskit_algorithms.optimizers.optimizer.OptimizerResult object at 0x7fad38796920>,\n",
      "    'optimizer_time': 0.13650894165039062}\n"
     ]
    }
   ],
   "source": [
    "result = vqe.compute_minimum_eigenvalue(H2_op)\n",
    "print(result)"
   ]
  },
  {
   "cell_type": "markdown",
   "metadata": {},
   "source": [
    "From the above result we can see the number of cost function (=energy) evaluations the optimizer took until it found the minimum eigenvalue of $\\approx -1.85727$ which is the electronic ground state energy of the given H2 molecule. The optimal parameters of the ansatz can also be seen which are the values that were in the ansatz at the minimum value."
   ]
  },
  {
   "cell_type": "markdown",
   "metadata": {},
   "source": [
    "## Updating the primitive inside VQE\n",
    "\n",
    "To close off let's also change the estimator primitive inside the a VQE. Maybe you're satisfied with the simulation results and now want to use a shot-based simulator, or run on hardware!\n",
    "\n",
    "In this example we're changing to a shot-based estimator, still using Qiskit's reference primitive. However, you could replace the primitive by e.g. Qiskit Aer's estimator ([qiskit_aer.primitives.Estimator](https://qiskit.github.io/qiskit-aer/stubs/qiskit_aer.primitives.Estimator.html#qiskit_aer.primitives.Estimator)) or even a real backend ([qiskit_ibm_runtime.Estimator](https://docs.quantum.ibm.com/api/qiskit-ibm-runtime/qiskit_ibm_runtime.Estimator)).\n",
    "\n",
    "For noisy loss functions, the SPSA optimizer typically performs well, so we also update the optimizer. See also the [noisy VQE tutorial](03_vqe_simulation_with_noise.ipynb) for more details on shot-based and noisy simulations."
   ]
  },
  {
   "cell_type": "code",
   "execution_count": 7,
   "metadata": {},
   "outputs": [
    {
     "name": "stdout",
     "output_type": "stream",
     "text": [
      "{   'aux_operators_evaluated': None,\n",
      "    'cost_function_evals': 200,\n",
      "    'eigenvalue': -1.8574199402954465,\n",
      "    'optimal_circuit': <qiskit.circuit.library.n_local.two_local.TwoLocal object at 0x7fad3901c400>,\n",
      "    'optimal_parameters': {   ParameterVectorElement(θ[0]): -5.113683583175044,\n",
      "                              ParameterVectorElement(θ[1]): 4.853118586793109,\n",
      "                              ParameterVectorElement(θ[2]): 2.166347648663523,\n",
      "                              ParameterVectorElement(θ[3]): 2.3924391958613804,\n",
      "                              ParameterVectorElement(θ[4]): 4.624991727523756,\n",
      "                              ParameterVectorElement(θ[5]): 5.951561020018319,\n",
      "                              ParameterVectorElement(θ[6]): -2.811815937510964,\n",
      "                              ParameterVectorElement(θ[7]): 1.7438519034671542},\n",
      "    'optimal_point': array([-5.11368358,  4.85311859,  2.16634765,  2.3924392 ,  4.62499173,\n",
      "        5.95156102, -2.81181594,  1.7438519 ]),\n",
      "    'optimal_value': -1.8574199402954465,\n",
      "    'optimizer_evals': None,\n",
      "    'optimizer_result': <qiskit_algorithms.optimizers.optimizer.OptimizerResult object at 0x7fad40303be0>,\n",
      "    'optimizer_time': 0.6039888858795166}\n"
     ]
    }
   ],
   "source": [
    "from qiskit_algorithms.optimizers import SPSA\n",
    "\n",
    "estimator = Estimator(options={\"shots\": 1000})\n",
    "\n",
    "vqe.estimator = estimator\n",
    "vqe.optimizer = SPSA(maxiter=100)\n",
    "result = vqe.compute_minimum_eigenvalue(operator=H2_op)\n",
    "print(result)"
   ]
  },
  {
   "cell_type": "markdown",
   "metadata": {},
   "source": [
    "Note: We do not fix the random seed in the simulators here, so re-running gives slightly varying results."
   ]
  },
  {
   "cell_type": "markdown",
   "metadata": {},
   "source": [
    "This concludes this introduction to algorithms using Qiskit. Please check out the other algorithm tutorials in this series for both broader as well as more in depth coverage of the algorithms."
   ]
  },
  {
   "cell_type": "code",
   "execution_count": 8,
   "metadata": {
    "pycharm": {
     "name": "#%%\n"
    }
   },
   "outputs": [
    {
     "data": {
      "text/html": [
       "<h3>Version Information</h3><table><tr><th>Software</th><th>Version</th></tr><tr><td><code>qiskit</code></td><td>1.0.0</td></tr><tr><td><code>qiskit_algorithms</code></td><td>0.3.0</td></tr><tr><th colspan='2'>System information</th></tr><tr><td>Python version</td><td>3.10.0</td></tr><tr><td>OS</td><td>Darwin</td></tr><tr><td colspan='2'>Mon Feb 19 11:17:24 2024 CET</td></tr></table>"
      ],
      "text/plain": [
       "<IPython.core.display.HTML object>"
      ]
     },
     "metadata": {},
     "output_type": "display_data"
    },
    {
     "data": {
      "text/html": [
       "<div style='width: 100%; background-color:#d5d9e0;padding-left: 10px; padding-bottom: 10px; padding-right: 10px; padding-top: 5px'><h3>This code is a part of a Qiskit project</h3><p>&copy; Copyright IBM 2017, 2024.</p><p>This code is licensed under the Apache License, Version 2.0. You may<br>obtain a copy of this license in the LICENSE.txt file in the root directory<br> of this source tree or at http://www.apache.org/licenses/LICENSE-2.0.<p>Any modifications or derivative works of this code must retain this<br>copyright notice, and modified files need to carry a notice indicating<br>that they have been altered from the originals.</p></div>"
      ],
      "text/plain": [
       "<IPython.core.display.HTML object>"
      ]
     },
     "metadata": {},
     "output_type": "display_data"
    }
   ],
   "source": [
    "import tutorial_magics\n",
    "\n",
    "%qiskit_version_table\n",
    "%qiskit_copyright"
   ]
  }
 ],
 "metadata": {
  "celltoolbar": "Edit Metadata",
  "kernelspec": {
   "display_name": "Python 3 (ipykernel)",
   "language": "python",
   "name": "python3"
  },
  "language_info": {
   "codemirror_mode": {
    "name": "ipython",
    "version": 3
   },
   "file_extension": ".py",
   "mimetype": "text/x-python",
   "name": "python",
   "nbconvert_exporter": "python",
   "pygments_lexer": "ipython3",
   "version": "3.10.0"
  },
  "vscode": {
   "interpreter": {
    "hash": "f8729fd834348017bca17aea688b306f536a675180840f7307eb909fff39c285"
   }
  }
 },
 "nbformat": 4,
 "nbformat_minor": 4
}
