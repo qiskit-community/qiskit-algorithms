{
 "cells": [
  {
   "cell_type": "markdown",
   "metadata": {},
   "source": [
    "# An Introduction to Algorithms for Qiskit\n",
    "\n",
    "This is an introduction to algorithms for Qiskit and provides a high-level overview to help understand the various aspects of the functionality to get started. Other tutorials will provide more in-depth material, on given algorithms, and ways to use them etc.\n"
   ]
  },
  {
   "cell_type": "markdown",
   "metadata": {},
   "source": [
    "## How is the algorithm library structured?\n",
    "\n",
    "Qiskit provides a number of [Algorithms](https://qiskit.org/ecosystem/algorithms/apidocs/algorithms.html) and they are grouped by category according to the task they can perform. For instance [Minimum Eigensolvers](https://qiskit.org/ecosystem/algorithms/stubs/qiskit_algorithms.minimum_eigensolvers.html#module-qiskit_algorithms.minimum_eigensolvers) to find the smallest eigen value of an operator, for example ground state energy of a chemistry Hamiltonian or a solution to an optimization problem when expressed as an Ising Hamiltonian. There are [Time Evolvers](https://qiskit.org/ecosystem/algorithms/apidocs/algorithms.html#time-evolvers) for the time evolution of quantum systems and [Amplitude Estimators](https://qiskit.org/ecosystem/algorithms/apidocs/algorithms.html#amplitude-estimators) for value estimation that can be used say in financial applications. The full set of categories can be seen in the Algorithms documentation link above.\n",
    "\n",
    "Algorithms are configurable and often part of the configuration will be in the form of smaller building blocks, of which different instances of the building block type can be given. For instance with [VQE](https://qiskit.org/ecosystem/algorithms/stubs/qiskit_algorithms.minimum_eigensolvers.VQE.html#qiskit_algorithms.minimum_eigensolvers.VQE), the Variational Quantum Eigensolver, it takes a trial wavefunction, in the form of a [QuantumCircuit](https://qiskit.org/documentation/stubs/qiskit.circuit.QuantumCircuit.html#quantumcircuit) and a classical optimizer among other things.\n",
    "\n",
    "Let's take a look at an example to construct a VQE instance. Here [TwoLocal](https://qiskit.org/documentation/stubs/qiskit.circuit.library.TwoLocal.html#twolocal) is the variational form (trial wavefunction), a parameterized circuit which can be varied, and [SLSQP](https://qiskit.org/ecosystem/algorithms/stubs/qiskit_algorithms.optimizers.SLSQP.html#qiskit_algorithms.optimizers.SLSQP) a classical optimizer. These are created as separate instances and passed to VQE when it is constructed. Trying, for example, a different classical optimizer, or variational form is simply a case of creating an instance of the one you want and passing it into VQE.\n"
   ]
  },
  {
   "cell_type": "code",
   "execution_count": 2,
   "metadata": {},
   "outputs": [],
   "source": [
    "from qiskit_algorithms.optimizers import SLSQP\n",
    "from qiskit.circuit.library import TwoLocal\n",
    "\n",
    "num_qubits = 2\n",
    "ansatz = TwoLocal(num_qubits, \"ry\", \"cz\")\n",
    "optimizer = SLSQP(maxiter=1000)"
   ]
  },
  {
   "cell_type": "markdown",
   "metadata": {},
   "source": [
    "Let's draw the ansatz so we can see it's a [QuantumCircuit](https://qiskit.org/documentation/stubs/qiskit.circuit.QuantumCircuit.html#quantumcircuit) where θ\\[0\\] through θ\\[7\\] will be the parameters that are varied as VQE optimizer finds the minimum eigenvalue. We'll come back to the parameters later in a working example below.\n"
   ]
  },
  {
   "cell_type": "code",
   "execution_count": 3,
   "metadata": {},
   "outputs": [
    {
     "data": {
      "image/png": "[encoded data removed]",
      "text/plain": [
       "<Figure size 705.35x200.667 with 1 Axes>"
      ]
     },
     "execution_count": 3,
     "metadata": {},
     "output_type": "execute_result"
    }
   ],
   "source": [
    "ansatz.decompose().draw(\"mpl\", style=\"iqx\")"
   ]
  },
  {
   "cell_type": "markdown",
   "metadata": {},
   "source": [
    "But more is needed before we can run the algorithm so let's get to that next.\n"
   ]
  },
  {
   "cell_type": "markdown",
   "metadata": {},
   "source": [
    "## How to run an algorithm?\n",
    "\n",
    "Algorithms rely on the primitives to evaluate expectation values or sample circuits. The primitives can be based on a simulator or real device and can be used interchangeably in the algorithms, as they all implement the same interface.\n",
    "\n",
    "In the VQE, we have to evaluate expectation values, so for example we can use the [qiskit.primitives.Estimator](https://qiskit.org/documentation/stubs/qiskit.primitives.Estimator.html) which is shipped with the default Qiskit Terra installation.\n"
   ]
  },
  {
   "cell_type": "code",
   "execution_count": 4,
   "metadata": {},
   "outputs": [],
   "source": [
    "from qiskit.primitives import Estimator\n",
    "\n",
    "estimator = Estimator()"
   ]
  },
  {
   "cell_type": "markdown",
   "metadata": {},
   "source": [
    "This estimator uses an exact, statevector simulation to evaluate the expectation values. We can also use a shot-based and noisy simulators or real backends instead. For more information of the simulators you can check out [Qiskit Aer](https://qiskit.org/ecosystem/aer/apidocs/aer_primitives.html) and for the actual hardware [Qiskit IBM Runtime](https://qiskit.org/ecosystem/ibm-runtime/).\n",
    "\n",
    "With all the ingredients ready, we can now instantiate the VQE:\n"
   ]
  },
  {
   "cell_type": "code",
   "execution_count": 5,
   "metadata": {},
   "outputs": [],
   "source": [
    "from qiskit_algorithms.minimum_eigensolvers import VQE\n",
    "\n",
    "vqe = VQE(estimator, ansatz, optimizer)"
   ]
  },
  {
   "cell_type": "markdown",
   "metadata": {},
   "source": [
    "Now we can call the [compute_mininum_eigenvalue()](https://qiskit.org/ecosystem/algorithms/stubs/qiskit_algorithms.minimum_eigensolvers.VQE.html#qiskit_algorithms.minimum_eigensolvers.VQE.compute_minimum_eigenvalue) method. The latter is the interface of choice for the application modules, such as Nature and Optimization, in order that they can work interchangeably with any algorithm within the specific category.\n"
   ]
  },
  {
   "cell_type": "markdown",
   "metadata": {},
   "source": [
    "## A complete working example\n",
    "\n",
    "Let's put what we have learned from above together and create a complete working example. VQE will find the minimum eigenvalue, i.e. minimum energy value of a Hamiltonian operator and hence we need such an operator for VQE to work with. Such an operator is given below. This was originally created by the Nature application module as the Hamiltonian for an H2 molecule at 0.735A interatomic distance. It's a sum of Pauli terms as below, but for now I am not going to say anything further about it since the goal is to run the algorithm, but further information on operators can be found in other tutorials.\n"
   ]
  },
  {
   "cell_type": "code",
   "execution_count": 6,
   "metadata": {},
   "outputs": [],
   "source": [
    "from qiskit.quantum_info import SparsePauliOp\n",
    "\n",
    "H2_op = SparsePauliOp.from_list(\n",
    "    [\n",
    "        (\"II\", -1.052373245772859),\n",
    "        (\"IZ\", 0.39793742484318045),\n",
    "        (\"ZI\", -0.39793742484318045),\n",
    "        (\"ZZ\", -0.01128010425623538),\n",
    "        (\"XX\", 0.18093119978423156),\n",
    "    ]\n",
    ")"
   ]
  },
  {
   "cell_type": "markdown",
   "metadata": {},
   "source": [
    "So let's run VQE and print the result object it returns.\n"
   ]
  },
  {
   "cell_type": "code",
   "execution_count": 7,
   "metadata": {
    "scrolled": true
   },
   "outputs": [
    {
     "name": "stdout",
     "output_type": "stream",
     "text": [
      "{   'aux_operators_evaluated': None,\n",
      "    'cost_function_evals': 54,\n",
      "    'eigenvalue': -1.8572749751321997,\n",
      "    'optimal_circuit': <qiskit.circuit.library.n_local.two_local.TwoLocal object at 0x10b47a050>,\n",
      "    'optimal_parameters': {   ParameterVectorElement(θ[1]): -4.137380786621057,\n",
      "                              ParameterVectorElement(θ[0]): 0.587854208432134,\n",
      "                              ParameterVectorElement(θ[2]): 5.638873652671935,\n",
      "                              ParameterVectorElement(θ[3]): 6.15338799125403,\n",
      "                              ParameterVectorElement(θ[4]): -1.6196994394795583,\n",
      "                              ParameterVectorElement(θ[5]): -1.2567360775493952,\n",
      "                              ParameterVectorElement(θ[6]): -2.2594501173878827,\n",
      "                              ParameterVectorElement(θ[7]): 5.24757903057859},\n",
      "    'optimal_point': array([ 0.58785421, -4.13738079,  5.63887365,  6.15338799, -1.61969944,\n",
      "       -1.25673608, -2.25945012,  5.24757903]),\n",
      "    'optimal_value': -1.8572749751321997,\n",
      "    'optimizer_evals': None,\n",
      "    'optimizer_result': <qiskit_algorithms.optimizers.optimizer.OptimizerResult object at 0x13af68210>,\n",
      "    'optimizer_time': 0.11543583869934082}\n"
     ]
    }
   ],
   "source": [
    "result = vqe.compute_minimum_eigenvalue(H2_op)\n",
    "print(result)"
   ]
  },
  {
   "cell_type": "markdown",
   "metadata": {},
   "source": [
    "From the above result we can see the number of cost function (=energy) evaluations the optimizer took until it found the minimum eigenvalue of $\\approx -1.85727$ which is the electronic ground state energy of the given H2 molecule. The optimal parameters of the ansatz can also be seen which are the values that were in the ansatz at the minimum value.\n"
   ]
  },
  {
   "cell_type": "markdown",
   "metadata": {},
   "source": [
    "## Updating the primitive inside VQE\n",
    "\n",
    "To close off let's also change the estimator primitive inside the a VQE. Maybe you're satisfied with the simulation results and now want to use a shot-based simulator, or run on hardware!\n",
    "\n",
    "In this example we're changing to a shot-based estimator, still using Qiskit Terra's reference primitive. However you could replace the primitive by e.g. Qiskit Aer's estimator ([qiskit_aer.primitives.Estimator](https://qiskit.org/ecosystem/aer/stubs/qiskit_aer.primitives.Estimator.html#estimator)) or even a real backend ([qiskit_ibm_runtime.Estimator](https://qiskit.org/ecosystem/ibm-runtime/stubs/qiskit_ibm_runtime.Estimator.html#qiskit_ibm_runtime.Estimator)).\n",
    "\n",
    "For noisy loss functions, the SPSA optimizer typically performs well, so we also update the optimizer. See also the [noisy VQE tutorial](https://qiskit.org/ecosystem/algorithms/tutorials/03_vqe_simulation_with_noise.html) for more details on shot-based and noisy simulations.\n"
   ]
  },
  {
   "cell_type": "code",
   "execution_count": 8,
   "metadata": {},
   "outputs": [
    {
     "name": "stdout",
     "output_type": "stream",
     "text": [
      "{   'aux_operators_evaluated': None,\n",
      "    'cost_function_evals': 200,\n",
      "    'eigenvalue': -1.8580626437144234,\n",
      "    'optimal_circuit': <qiskit.circuit.library.n_local.two_local.TwoLocal object at 0x13a940f50>,\n",
      "    'optimal_parameters': {   ParameterVectorElement(θ[1]): -3.537993927798663,\n",
      "                              ParameterVectorElement(θ[0]): -0.08794454569370512,\n",
      "                              ParameterVectorElement(θ[2]): 2.544219333944697,\n",
      "                              ParameterVectorElement(θ[3]): -4.489749290310527,\n",
      "                              ParameterVectorElement(θ[4]): -4.290225228259743,\n",
      "                              ParameterVectorElement(θ[5]): 5.040270846755398,\n",
      "                              ParameterVectorElement(θ[6]): 4.183950819007894,\n",
      "                              ParameterVectorElement(θ[7]): 5.583448915915113},\n",
      "    'optimal_point': array([-0.08794455, -3.53799393,  2.54421933, -4.48974929, -4.29022523,\n",
      "        5.04027085,  4.18395082,  5.58344892]),\n",
      "    'optimal_value': -1.8580626437144234,\n",
      "    'optimizer_evals': None,\n",
      "    'optimizer_result': <qiskit_algorithms.optimizers.optimizer.OptimizerResult object at 0x12d61ea50>,\n",
      "    'optimizer_time': 0.5061171054840088}\n"
     ]
    }
   ],
   "source": [
    "from qiskit_algorithms.optimizers import SPSA\n",
    "\n",
    "estimator = Estimator(options={\"shots\": 1000})\n",
    "\n",
    "vqe.estimator = estimator\n",
    "vqe.optimizer = SPSA(maxiter=100)\n",
    "result = vqe.compute_minimum_eigenvalue(operator=H2_op)\n",
    "print(result)"
   ]
  },
  {
   "cell_type": "markdown",
   "metadata": {},
   "source": [
    "Note: We do not fix the random seed in the simulators here, so re-running gives slightly varying results.\n"
   ]
  },
  {
   "cell_type": "markdown",
   "metadata": {},
   "source": [
    "This concludes this introduction to algorithms in Qiskit. Please check out the other algorithm tutorials in this series for both broader as well as more in depth coverage of the algorithms.\n"
   ]
  },
  {
   "cell_type": "code",
   "execution_count": 9,
   "metadata": {},
   "outputs": [
    {
     "data": {
      "text/html": [
       "<h3>Version Information</h3><table><tr><th>Software</th><th>Version</th></tr><tr><td><code>qiskit</code></td><td>None</td></tr><tr><td><code>qiskit-terra</code></td><td>0.25.0</td></tr><tr><th colspan='2'>System information</th></tr><tr><td>Python version</td><td>3.11.4</td></tr><tr><td>Python compiler</td><td>Clang 14.0.3 (clang-1403.0.22.14.1)</td></tr><tr><td>Python build</td><td>main, Jul 25 2023 17:07:07</td></tr><tr><td>OS</td><td>Darwin</td></tr><tr><td>CPUs</td><td>6</td></tr><tr><td>Memory (Gb)</td><td>32.0</td></tr><tr><td colspan='2'>Sun Aug 06 16:39:42 2023 BST</td></tr></table>"
      ],
      "text/plain": [
       "<IPython.core.display.HTML object>"
      ]
     },
     "metadata": {},
     "output_type": "display_data"
    },
    {
     "data": {
      "text/html": [
       "<div style='width: 100%; background-color:#d5d9e0;padding-left: 10px; padding-bottom: 10px; padding-right: 10px; padding-top: 5px'><h3>This code is a part of Qiskit</h3><p>&copy; Copyright IBM 2017, 2023.</p><p>This code is licensed under the Apache License, Version 2.0. You may<br>obtain a copy of this license in the LICENSE.txt file in the root directory<br> of this source tree or at http://www.apache.org/licenses/LICENSE-2.0.<p>Any modifications or derivative works of this code must retain this<br>copyright notice, and modified files need to carry a notice indicating<br>that they have been altered from the originals.</p></div>"
      ],
      "text/plain": [
       "<IPython.core.display.HTML object>"
      ]
     },
     "metadata": {},
     "output_type": "display_data"
    }
   ],
   "source": [
    "import qiskit.tools.jupyter\n",
    "%qiskit_version_table\n",
    "%qiskit_copyright"
   ]
  }
 ],
 "metadata": {
  "kernelspec": {
   "display_name": "Python 3.10.6 ('venv': venv)",
   "language": "python",
   "name": "python3"
  },
  "language_info": {
   "codemirror_mode": {
    "name": "ipython",
    "version": 3
   },
   "file_extension": ".py",
   "mimetype": "text/x-python",
   "name": "python",
   "nbconvert_exporter": "python",
   "pygments_lexer": "ipython3",
   "version": "3.11.4"
  },
  "vscode": {
   "interpreter": {
    "hash": "f8729fd834348017bca17aea688b306f536a675180840f7307eb909fff39c285"
   }
  }
 },
 "nbformat": 4,
 "nbformat_minor": 2
}
