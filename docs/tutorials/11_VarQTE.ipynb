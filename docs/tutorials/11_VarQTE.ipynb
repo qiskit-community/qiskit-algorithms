{
 "cells": [
  {
   "cell_type": "markdown",
   "metadata": {
    "id": "lTiEsmieVAf-"
   },
   "source": [
    "# Variational Quantum Time Evolution\n",
    "This notebook demonstrates how to use the Variational Quantum Time Evolution (VarQTE) algorithm for computing the time evolving state under a given Hamiltonian. Specifically, it introduces variational quantum imaginary and real time evolution based on McLachlan's variational principle, and shows how this can be leveraged using the `time_evolvers.variational` sub-module."
   ]
  },
  {
   "cell_type": "markdown",
   "metadata": {
    "id": "Zw5nQ9h0xVqF"
   },
   "source": [
    "## Introduction\n",
    "The time evolution of a quantum state $|\\Psi\\rangle$ is governed by the Schrödinger equation (here with $\\hbar \\equiv 1$)\n",
    "\n",
    "$$\n",
    "    \\frac{d}{dt} |\\Psi(t)\\rangle = -i H |\\Psi(t)\\rangle,\n",
    "$$\n",
    "\n",
    "\n",
    "or without the factor $i$ for imaginary time dynamics.\n",
    "\n",
    "In VarQTE, the time evolution of the _state_ $|\\Psi(t)\\rangle$ is replaced by the evolution of _parameters_ $\\theta(t)$ in a variational ansatz $|\\psi[\\theta(t)]$ ([Yuan et al. Quantum 3, 191](https://quantum-journal.org/papers/q-2019-10-07-191/)). Using the McLachlan variational principle, the algorithm updates the parameters by minimizing the distance between the right-hand side and left-hand side of the equation above, that is\n",
    "\n",
    "$$\n",
    "\\dot\\theta(t) = \\mathrm{argmin} \\Bigg\\| \\left(\\frac{d}{dt} + i H\\right)|\\psi[\\theta(t)]\\rangle \\Bigg\\|,\n",
    "$$\n",
    "\n",
    "with the norm $\\| |\\psi\\rangle \\| = \\sqrt{\\langle\\psi | \\psi\\rangle}$. This is equivalent to solving the following linear system of equations\n",
    "\n",
    "$$\n",
    "\\sum_{ij}F_{ij}\\dot{\\theta}_{i}=V_{j}\n",
    "$$\n",
    "\n",
    "where\n",
    "\n",
    "$$F_{ij}=\\text{Re}\\left[\\frac{\\partial\\left\\langle \\psi\\left[\\theta\\right]\\right|}{\\partial\\theta_{i}}\\frac{\\partial\\left|\\psi\\left[\\theta\\right]\\right\\rangle }{\\partial\\theta_{j}}+\\frac{\\partial\\left\\langle \\psi\\left[\\theta\\right]\\right|}{\\partial\\theta_{i}}\\left|\\psi\\left[\\theta\\right]\\right\\rangle \\left\\langle \\psi\\left[\\theta\\right]\\right|\\frac{\\partial\\left|\\psi\\left[\\theta\\right]\\right\\rangle }{\\partial\\theta_{j}}\\right]$$,\n",
    "\n",
    "and\n",
    "\n",
    "$$V_{i}=\\begin{cases}\n",
    "\\text{Im}\\left[\\frac{\\partial\\left\\langle \\psi\\left[\\theta\\right]\\right|}{\\partial\\theta_{i}}H\\left|\\psi\\left[\\theta\\right]\\right\\rangle +\\left\\langle \\psi\\left[\\theta\\right]\\right|\\frac{\\partial\\left|\\psi\\left[\\theta\\right]\\right\\rangle }{\\partial\\theta_{i}}\\left\\langle H\\right\\rangle _{\\theta}\\right] & \\text{Real time}\\\\\n",
    "-\\text{Re}\\left[\\frac{\\partial\\left\\langle \\psi\\left[\\theta\\right]\\right|}{\\partial\\theta_{i}}H\\left|\\psi\\left[\\theta\\right]\\right\\rangle \\right] & \\text{Imaginary time}\n",
    "\\end{cases}$$."
   ]
  },
  {
   "cell_type": "markdown",
   "metadata": {
    "id": "caoBgyluhQ3L"
   },
   "source": [
    "\n",
    "## Running VarQTE"
   ]
  },
  {
   "cell_type": "markdown",
   "metadata": {
    "id": "WG-18slyLnVM"
   },
   "source": [
    "In this tutorial, we will use two classes that extend `VarQTE`, `VarQITE` ([Variational Quantum Imaginary Time Evolution](https://qiskit-community.github.io/qiskit-algorithms/stubs/qiskit_algorithms.VarQITE.html#qiskit_algorithms.VarQITE)) and `VarQRTE` ([Variational Quantum Real Time Evolution](https://qiskit-community.github.io/qiskit-algorithms/stubs/qiskit_algorithms.VarQRTE.html)) for time evolution.\n",
    "We can use a simple Ising model on a spin chain to illustrate this. Let us consider the following Hamiltonian:\n",
    "\n",
    "$$H = -J\\sum_{i=0}^{L-2}Z_{i}Z_{i+1} - h\\sum_{i=0}^{L-1}X_i$$\n",
    "\n",
    "where $J$ stands for the interaction energy, and\n",
    "$h$ represents an external field which is orthogonal to the transverse direction. $Z_i$ and $X_i$ are the Pauli operators on the spins. Taking $L=2$, $J=0.2$,  and $h =1$, the Hamiltonian and the magnetization $\\sum_i Z_i$ can be constructed using `SparsePauliOp` as follows:"
   ]
  },
  {
   "cell_type": "code",
   "execution_count": 1,
   "metadata": {
    "id": "6B0nZEDh0EqI"
   },
   "outputs": [],
   "source": [
    "from qiskit.quantum_info import SparsePauliOp\n",
    "\n",
    "hamiltonian = SparsePauliOp(['ZZ',  'IX', 'XI'],\n",
    "              coeffs=[-0.2 , -1, -1])\n",
    "\n",
    "magnetization = SparsePauliOp([ 'IZ', 'ZI'], coeffs=[1, 1])"
   ]
  },
  {
   "cell_type": "markdown",
   "metadata": {
    "id": "Y_9Jskw4m8nF"
   },
   "source": [
    "## Imaginary Time Evolution\n",
    "\n",
    "Imaginary time evolution can be used, for example, to find the ground state or calculate the finite temperature expectation value of the system. Here, we will use the `VarQITE` class from `time_evolvers.variational` to compute a ground state energy. Firstly, we need to choose an ansatz. We can use `EfficientSU2` to easily construct an ansatz, setting the number of repetitions using `reps`."
   ]
  },
  {
   "cell_type": "code",
   "execution_count": 2,
   "metadata": {
    "colab": {
     "base_uri": "https://localhost:8080/",
     "height": 191
    },
    "id": "0fyXDwr10KqA",
    "outputId": "8df79033-2b4e-40cc-96a4-081300d579a9"
   },
   "outputs": [
    {
     "data": {
      "image/png": "[encoded data removed]",
      "text/plain": [
       "<Figure size 387.452x144.48 with 1 Axes>"
      ]
     },
     "execution_count": 2,
     "metadata": {},
     "output_type": "execute_result"
    }
   ],
   "source": [
    "from qiskit.circuit.library import EfficientSU2\n",
    "\n",
    "ansatz = EfficientSU2(hamiltonian.num_qubits, reps=1)\n",
    "ansatz.decompose().draw('mpl')"
   ]
  },
  {
   "cell_type": "markdown",
   "metadata": {
    "id": "TZEbbCfg_JLq"
   },
   "source": [
    "Here, we prepare a dictionary to store the initial parameters we set up, which determine the initial state."
   ]
  },
  {
   "cell_type": "code",
   "execution_count": 3,
   "metadata": {
    "id": "Ju2SO4sZ0R3P"
   },
   "outputs": [],
   "source": [
    "import numpy as np\n",
    "\n",
    "init_param_values={}\n",
    "for i in range(len(ansatz.parameters)):\n",
    "    init_param_values[ansatz.parameters[i]]=np.pi/2"
   ]
  },
  {
   "cell_type": "markdown",
   "metadata": {
    "id": "2VzjiBc0EeRb"
   },
   "source": [
    "Note that the initial state should be in overlap with the ground state.\n",
    "\n",
    "Next, we choose `ImaginaryMcLachlanPrinciple` as the variational principle we'll use later."
   ]
  },
  {
   "cell_type": "code",
   "execution_count": 4,
   "metadata": {
    "id": "zK934ZfdEJtG"
   },
   "outputs": [],
   "source": [
    "from qiskit_algorithms.time_evolvers.variational import ImaginaryMcLachlanPrinciple\n",
    "\n",
    "var_principle = ImaginaryMcLachlanPrinciple()"
   ]
  },
  {
   "cell_type": "markdown",
   "metadata": {
    "id": "4gOIKzLYFaCP"
   },
   "source": [
    "We set a target imaginary time $t=5$, and set the Hamiltonian as an auxiliary operator. We create  a `TimeEvolutionProblem` instance with `hamiltonian`, `time`, and `aux_operators` as arguments."
   ]
  },
  {
   "cell_type": "code",
   "execution_count": 5,
   "metadata": {
    "id": "_4LN_OIB0Vn0"
   },
   "outputs": [],
   "source": [
    "from qiskit_algorithms import TimeEvolutionProblem\n",
    "\n",
    "time = 5.0\n",
    "aux_ops = [hamiltonian]\n",
    "evolution_problem = TimeEvolutionProblem(hamiltonian, time, aux_operators=aux_ops)"
   ]
  },
  {
   "cell_type": "markdown",
   "metadata": {
    "id": "bhGjcZzsGcFa"
   },
   "source": [
    "We now use the `VarQITE` class to calculate the imaginary time evolving state. We can use `VarQITE.evolve` to get the results. Note this cell may take around  $1.5$  minutes to finish."
   ]
  },
  {
   "cell_type": "code",
   "execution_count": 6,
   "metadata": {
    "id": "T2jv73lRGbHt"
   },
   "outputs": [],
   "source": [
    "from qiskit_algorithms import VarQITE\n",
    "from qiskit.primitives import Estimator\n",
    "\n",
    "var_qite = VarQITE(ansatz, init_param_values, var_principle, Estimator())\n",
    "# an Estimator instance is necessary, if we want to calculate the expectation value of auxiliary operators.\n",
    "evolution_result = var_qite.evolve(evolution_problem)"
   ]
  },
  {
   "cell_type": "markdown",
   "metadata": {
    "id": "5oFggUXMktgG"
   },
   "source": [
    "### Exact Classical Solution\n",
    "In order to check whether our calculation using `VarQITE` is correct or not, we also call `SciPyImaginaryEvolver` to help us calculate the exact solution.\n",
    "\n",
    "Firstly, we can use `qiskit.quantum_info.Statevector` to help us get the statevector from the quantum circuit."
   ]
  },
  {
   "cell_type": "code",
   "execution_count": 7,
   "metadata": {
    "id": "nF6lJqEZkz2f"
   },
   "outputs": [],
   "source": [
    "from qiskit.quantum_info import Statevector\n",
    "\n",
    "init_state = Statevector(ansatz.assign_parameters(init_param_values))"
   ]
  },
  {
   "cell_type": "markdown",
   "metadata": {
    "id": "SUWse0TNkfky"
   },
   "source": [
    "Then we can set up the evolving problem using `SciPyImaginaryEvolver`. Here we set number of time steps as $501$."
   ]
  },
  {
   "cell_type": "code",
   "execution_count": 8,
   "metadata": {
    "id": "ZX89FSpmkhd7"
   },
   "outputs": [],
   "source": [
    "from qiskit_algorithms import SciPyImaginaryEvolver\n",
    "\n",
    "evolution_problem = TimeEvolutionProblem(hamiltonian, time, initial_state=init_state, aux_operators=aux_ops)\n",
    "exact_evol = SciPyImaginaryEvolver(num_timesteps=501)\n",
    "sol = exact_evol.evolve(evolution_problem)"
   ]
  },
  {
   "cell_type": "markdown",
   "metadata": {
    "id": "afbae447lVAR"
   },
   "source": [
    "### Results and Comparison\n",
    "\n",
    "We use `evolution_result.observables` to get the variation over time of the expectation values of the Hamiltonian."
   ]
  },
  {
   "cell_type": "code",
   "execution_count": 9,
   "metadata": {
    "colab": {
     "base_uri": "https://localhost:8080/",
     "height": 449
    },
    "id": "cCWhV-2y765c",
    "outputId": "5562be51-75fa-4a4e-a4dc-292c2d9b22f6"
   },
   "outputs": [
    {
     "data": {
      "image/png": "[encoded data removed]",
      "text/plain": [
       "<Figure size 432x288 with 1 Axes>"
      ]
     },
     "metadata": {
      "needs_background": "light"
     },
     "output_type": "display_data"
    }
   ],
   "source": [
    "import pylab\n",
    "\n",
    "h_exp_val = np.array([ele[0][0] for ele in evolution_result.observables])\n",
    "\n",
    "exact_h_exp_val = sol.observables[0][0].real\n",
    "\n",
    "times = evolution_result.times\n",
    "pylab.plot(times, h_exp_val, label= \"VarQITE\")\n",
    "pylab.plot(times, exact_h_exp_val , label= \"Exact\",  linestyle='--')\n",
    "pylab.xlabel(\"Time\")\n",
    "pylab.ylabel(r\"$\\langle H \\rangle$ (energy)\")\n",
    "pylab.legend(loc=\"upper right\");"
   ]
  },
  {
   "cell_type": "code",
   "execution_count": 10,
   "metadata": {
    "colab": {
     "base_uri": "https://localhost:8080/"
    },
    "id": "-2uSBEO83vU3",
    "outputId": "369b4864-f0b0-4096-8a59-4d104bf841b1"
   },
   "outputs": [
    {
     "name": "stdout",
     "output_type": "stream",
     "text": [
      "Ground state energy -2.0097479079521197\n"
     ]
    }
   ],
   "source": [
    "print(\"Ground state energy\", h_exp_val[-1])"
   ]
  },
  {
   "cell_type": "markdown",
   "metadata": {
    "id": "8dp41GBm3TIS"
   },
   "source": [
    "As the above figure indicates, we have obtained the converged ground state energy."
   ]
  },
  {
   "cell_type": "markdown",
   "metadata": {
    "id": "zSGo5QcUlePi"
   },
   "source": [
    "### Efficient classical calculation of gradients with VarQITE\n",
    "\n",
    "You can use classically efficient gradient calculations to speed up the time evolution simulation by setting `qgt` to `ReverseQGT()` and `gradient` to `ReverseEstimatorGradient()`."
   ]
  },
  {
   "cell_type": "code",
   "execution_count": 11,
   "metadata": {
    "id": "6PzxWQyIld-T"
   },
   "outputs": [],
   "source": [
    "from qiskit_algorithms.gradients import ReverseEstimatorGradient, ReverseQGT\n",
    "\n",
    "var_principle = ImaginaryMcLachlanPrinciple(qgt=ReverseQGT() , gradient=ReverseEstimatorGradient())\n",
    "evolution_problem = TimeEvolutionProblem(hamiltonian, time, aux_operators=aux_ops)\n",
    "var_qite = VarQITE(ansatz, init_param_values, var_principle, Estimator())\n",
    "evolution_result_eff = var_qite.evolve(evolution_problem)"
   ]
  },
  {
   "cell_type": "markdown",
   "metadata": {
    "id": "S8mtNpT5NirQ"
   },
   "source": [
    "In this example, it takes only $1$ minute to calculate imaginary time evolution. The execution time is reduced by about 33% (this may vary for each execution, but generally results in a speedup)."
   ]
  },
  {
   "cell_type": "code",
   "execution_count": 12,
   "metadata": {
    "colab": {
     "base_uri": "https://localhost:8080/",
     "height": 449
    },
    "id": "pvmRXMXxBz2H",
    "outputId": "11962fe6-96d6-4aa4-c4b4-6fcbbf65515d"
   },
   "outputs": [
    {
     "data": {
      "image/png": "[encoded data removed]",
      "text/plain": [
       "<Figure size 432x288 with 1 Axes>"
      ]
     },
     "metadata": {
      "needs_background": "light"
     },
     "output_type": "display_data"
    }
   ],
   "source": [
    "h_exp_val_eff = np.array([ele[0][0] for ele in evolution_result_eff.observables])\n",
    "\n",
    "exact_h_exp_val_eff = sol.observables[0][0].real\n",
    "\n",
    "times = evolution_result_eff.times\n",
    "pylab.plot(times, h_exp_val_eff, label= r\"VarQITE$_{eff}$\")\n",
    "pylab.plot(times, exact_h_exp_val_eff , label= \"Exact\",  linestyle='--')\n",
    "pylab.xlabel(\"Time\")\n",
    "pylab.ylabel(r\"$\\langle H \\rangle$ (energy)\")\n",
    "pylab.legend(loc=\"upper right\");"
   ]
  },
  {
   "cell_type": "markdown",
   "metadata": {
    "id": "3yZ_CTqK0-Oy"
   },
   "source": [
    "We can also get a converged result, which is consistent with the previous one."
   ]
  },
  {
   "cell_type": "code",
   "execution_count": 13,
   "metadata": {
    "colab": {
     "base_uri": "https://localhost:8080/"
    },
    "id": "_OxkX7wv03db",
    "outputId": "04a87fdc-e2e0-4cb6-eb96-1c6e9057d28f"
   },
   "outputs": [
    {
     "name": "stdout",
     "output_type": "stream",
     "text": [
      "Ground state energy -2.0097479079521183\n"
     ]
    }
   ],
   "source": [
    "print(\"Ground state energy\", h_exp_val_eff[-1])"
   ]
  },
  {
   "cell_type": "markdown",
   "metadata": {
    "id": "ed9_4HhXLE_A"
   },
   "source": [
    "\n",
    "\n",
    "Let us compare the performance of different methods. The error is defined as the difference between the results and exact solution for each method."
   ]
  },
  {
   "cell_type": "code",
   "execution_count": 14,
   "metadata": {
    "colab": {
     "base_uri": "https://localhost:8080/",
     "height": 449
    },
    "id": "PpDLxpZdpFhA",
    "outputId": "7d7acfef-27f8-47fa-c464-4ab0e15a4267"
   },
   "outputs": [
    {
     "data": {
      "image/png": "[encoded data removed]",
      "text/plain": [
       "<Figure size 432x288 with 1 Axes>"
      ]
     },
     "metadata": {
      "needs_background": "light"
     },
     "output_type": "display_data"
    }
   ],
   "source": [
    "pylab.plot(times, (h_exp_val-exact_h_exp_val), label=\"VarQITE\")\n",
    "pylab.plot(times, (h_exp_val_eff-exact_h_exp_val_eff), label=r\"VarQITE$_{eff}$\",  linestyle='--')\n",
    "pylab.xlabel(\"Time\")\n",
    "pylab.ylabel(r\"$\\Delta \\langle H \\rangle$\")\n",
    "pylab.legend(loc=\"upper right\");"
   ]
  },
  {
   "cell_type": "markdown",
   "metadata": {
    "id": "ejlBv7Qi0C1-"
   },
   "source": [
    "In this task, the accuracies of `VarQITE` with both gradient methods are very close, but `ReverseEstimatorGradient()` takes a considerably shorter time to run.\n",
    "\n",
    "We can do the same comparison for `VarQRTE` for simulating the magnetization of the Ising model."
   ]
  },
  {
   "cell_type": "markdown",
   "metadata": {
    "id": "m-tp9kdHmy55"
   },
   "source": [
    "## Real Time Evolution\n",
    "Real time evolution is more suitable for tasks such as simulating quantum dynamics. For example, one can use `VarQRTE` to get time evolving expectation values of the magnetization.\n"
   ]
  },
  {
   "cell_type": "markdown",
   "metadata": {
    "id": "TPGhF7xfodnT"
   },
   "source": [
    "### VarQRTE\n",
    "Again, the first step is to select an ansatz."
   ]
  },
  {
   "cell_type": "code",
   "execution_count": 15,
   "metadata": {
    "colab": {
     "base_uri": "https://localhost:8080/",
     "height": 191
    },
    "id": "l7hz6wSLnZx3",
    "outputId": "b23ea3f0-d19c-4def-a494-72fa0d5d40cf"
   },
   "outputs": [
    {
     "data": {
      "image/png": "[encoded data removed]",
      "text/plain": [
       "<Figure size 387.452x144.48 with 1 Axes>"
      ]
     },
     "execution_count": 15,
     "metadata": {},
     "output_type": "execute_result"
    }
   ],
   "source": [
    "ansatz = EfficientSU2(hamiltonian.num_qubits, reps=1)\n",
    "ansatz.decompose().draw('mpl')"
   ]
  },
  {
   "cell_type": "markdown",
   "metadata": {
    "id": "Hil3c_xfubIw"
   },
   "source": [
    "We set all initial parameters as $\\frac{\\pi}{2}$."
   ]
  },
  {
   "cell_type": "code",
   "execution_count": 16,
   "metadata": {
    "id": "thWw2mahnipB"
   },
   "outputs": [],
   "source": [
    "init_param_values = {}\n",
    "\n",
    "for i in range(len(ansatz.parameters)):\n",
    "    init_param_values[ansatz.parameters[i]] = np.pi/2 # initialize the parameters which also decide the initial state"
   ]
  },
  {
   "cell_type": "markdown",
   "metadata": {
    "id": "i18irpxD4ETl"
   },
   "source": [
    "We also define an initial state:"
   ]
  },
  {
   "cell_type": "code",
   "execution_count": 17,
   "metadata": {
    "colab": {
     "base_uri": "https://localhost:8080/"
    },
    "id": "4AsVk0Gj3-KQ",
    "outputId": "60460d22-a873-4c1c-a034-a5b62c305526"
   },
   "outputs": [
    {
     "name": "stdout",
     "output_type": "stream",
     "text": [
      "Statevector([-5.00000000e-01+0.00000000e+00j,\n",
      "             -5.00000000e-01-5.55111512e-17j,\n",
      "              0.00000000e+00-5.00000000e-01j,\n",
      "              1.66533454e-16+5.00000000e-01j],\n",
      "            dims=(2, 2))\n"
     ]
    }
   ],
   "source": [
    "init_state = Statevector(ansatz.assign_parameters(init_param_values))\n",
    "print(init_state)"
   ]
  },
  {
   "cell_type": "markdown",
   "metadata": {
    "id": "-ee7tApy4lsp"
   },
   "source": [
    "In order to use the real time McLachlan principle, we instantiate the `RealMcLachlanPrinciple` class."
   ]
  },
  {
   "cell_type": "code",
   "execution_count": 18,
   "metadata": {
    "id": "U8ytm_9g4kkx"
   },
   "outputs": [],
   "source": [
    "from qiskit_algorithms.time_evolvers.variational import RealMcLachlanPrinciple\n",
    "\n",
    "var_principle = RealMcLachlanPrinciple()"
   ]
  },
  {
   "cell_type": "markdown",
   "metadata": {
    "id": "qknpQG8LFRdX"
   },
   "source": [
    "We also set the target time as $t=10$, and set the auxiliary operator to be the magnetization operator. The following steps are similar to `VarQITE`.\n"
   ]
  },
  {
   "cell_type": "code",
   "execution_count": 19,
   "metadata": {
    "id": "Yh7vyZr62ubD"
   },
   "outputs": [],
   "source": [
    "aux_ops = [magnetization]"
   ]
  },
  {
   "cell_type": "code",
   "execution_count": 20,
   "metadata": {
    "id": "-o2B3533nqsU"
   },
   "outputs": [],
   "source": [
    "from qiskit_algorithms import VarQRTE\n",
    "\n",
    "time = 10.0\n",
    "evolution_problem = TimeEvolutionProblem(hamiltonian, time, aux_operators=aux_ops)\n",
    "var_qrte = VarQRTE(ansatz, init_param_values,var_principle, Estimator())\n",
    "evolution_result_re = var_qrte.evolve(evolution_problem)"
   ]
  },
  {
   "cell_type": "markdown",
   "metadata": {
    "id": "ByiDyBuia1fN"
   },
   "source": [
    "We can also obtain the exact solution with `SciPyRealEvolver`. We first create the corresponding initial state for the exact classical method."
   ]
  },
  {
   "cell_type": "code",
   "execution_count": 21,
   "metadata": {
    "id": "yDWL-Zd5oQwH"
   },
   "outputs": [],
   "source": [
    "init_circ = ansatz.assign_parameters(init_param_values)"
   ]
  },
  {
   "cell_type": "markdown",
   "metadata": {
    "id": "SimuqpjpbHuU"
   },
   "source": [
    "`SciPyRealEvolver` can help us get the classical exact result."
   ]
  },
  {
   "cell_type": "code",
   "execution_count": 22,
   "metadata": {
    "id": "ac4twWUqonXm"
   },
   "outputs": [],
   "source": [
    "from qiskit_algorithms import SciPyRealEvolver\n",
    "\n",
    "evolution_problem = TimeEvolutionProblem(hamiltonian, time, initial_state = init_circ, aux_operators=aux_ops)\n",
    "rtev = SciPyRealEvolver(1001)\n",
    "sol = rtev.evolve(evolution_problem)"
   ]
  },
  {
   "cell_type": "markdown",
   "metadata": {
    "id": "M2hl_f2Y67tu"
   },
   "source": [
    "We can compare the results, where $m_z$ represents the magnetization."
   ]
  },
  {
   "cell_type": "code",
   "execution_count": 23,
   "metadata": {
    "colab": {
     "base_uri": "https://localhost:8080/",
     "height": 449
    },
    "id": "02oeqzHDotYT",
    "outputId": "2b95d596-f9be-43cc-f1f0-18c1f13dc47d"
   },
   "outputs": [
    {
     "data": {
      "image/png": "[encoded data removed]",
      "text/plain": [
       "<Figure size 432x288 with 1 Axes>"
      ]
     },
     "metadata": {
      "needs_background": "light"
     },
     "output_type": "display_data"
    }
   ],
   "source": [
    "mz_exp_val_re = np.array([ele[0][0] for ele in evolution_result_re.observables])\n",
    "exact_mz_exp_val_re = sol.observables[0][0].real\n",
    "times = evolution_result_re.times\n",
    "pylab.plot(times, mz_exp_val_re, label= \"VarQRTE\")\n",
    "pylab.plot(times, exact_mz_exp_val_re , label= \"Exact\",  linestyle='--')\n",
    "pylab.xlabel(\"Time\")\n",
    "pylab.ylabel(r\"$\\langle m_z \\rangle$\")\n",
    "pylab.legend(loc=\"upper right\");"
   ]
  },
  {
   "cell_type": "markdown",
   "metadata": {
    "id": "korN4ZZv8j_8"
   },
   "source": [
    "### Efficient Way to run VarQRTE\n",
    "\n",
    "Similarly, we can set `qpt` as `ReverseQGT()` and `gradient` as `ReverseEstimatorGradient()` to speed up the calculation."
   ]
  },
  {
   "cell_type": "code",
   "execution_count": 24,
   "metadata": {
    "id": "gnBS19NQ85cn"
   },
   "outputs": [],
   "source": [
    "from qiskit_algorithms.gradients import DerivativeType\n",
    "\n",
    "var_principle = RealMcLachlanPrinciple(qgt=ReverseQGT() , gradient=ReverseEstimatorGradient(derivative_type=DerivativeType.IMAG))\n",
    "time = 10.0\n",
    "evolution_problem = TimeEvolutionProblem(hamiltonian, time, aux_operators=aux_ops)\n",
    "var_qrte = VarQRTE(ansatz, init_param_values,var_principle, Estimator())\n",
    "evolution_result_re_eff = var_qrte.evolve(evolution_problem)"
   ]
  },
  {
   "cell_type": "code",
   "execution_count": 25,
   "metadata": {
    "colab": {
     "base_uri": "https://localhost:8080/",
     "height": 449
    },
    "id": "IriOFWu89iTX",
    "outputId": "1160c308-3d08-490f-a595-325433794117",
    "tags": [
     "nbsphinx-thumbnail"
    ]
   },
   "outputs": [
    {
     "data": {
      "image/png": "[encoded data removed]",
      "text/plain": [
       "<Figure size 432x288 with 1 Axes>"
      ]
     },
     "metadata": {
      "needs_background": "light"
     },
     "output_type": "display_data"
    }
   ],
   "source": [
    "mz_exp_val_re_eff = np.array([ele[0][0] for ele in evolution_result_re_eff.observables])\n",
    "pylab.plot(times, mz_exp_val_re_eff, label= r\"VarQRTE$_{eff}$\")\n",
    "pylab.plot(times, exact_mz_exp_val_re , label= \"Exact\",  linestyle='--')\n",
    "pylab.xlabel(\"Time\")\n",
    "pylab.ylabel(r\"$\\langle m_z \\rangle$\")\n",
    "pylab.legend(loc=\"upper right\");"
   ]
  },
  {
   "cell_type": "markdown",
   "metadata": {
    "id": "-IHBehQVAfZm"
   },
   "source": [
    "Again, the accuracies of `VarQRTE` with both gradient methods are very similar, while the `ReverseEstimatorGradient()` shows a speedup of about $21\\%$ in this execution."
   ]
  },
  {
   "cell_type": "code",
   "execution_count": 26,
   "metadata": {
    "colab": {
     "base_uri": "https://localhost:8080/",
     "height": 449
    },
    "id": "ESuUu7jILMQn",
    "outputId": "e3f76d34-ef66-47d8-f4a4-9f20713ba8e7"
   },
   "outputs": [
    {
     "data": {
      "image/png": "[encoded data removed]",
      "text/plain": [
       "<Figure size 432x288 with 1 Axes>"
      ]
     },
     "metadata": {
      "needs_background": "light"
     },
     "output_type": "display_data"
    }
   ],
   "source": [
    "pylab.plot(times, (mz_exp_val_re-exact_mz_exp_val_re), label= \"VarQRTE\")\n",
    "pylab.plot(times, (mz_exp_val_re_eff-exact_mz_exp_val_re), label= r\"VarQRTE$_{eff}$\",  linestyle='--')\n",
    "pylab.xlabel(\"Time\")\n",
    "pylab.ylabel(r\"$\\Delta \\langle m_z \\rangle$\")\n",
    "pylab.legend(loc=\"upper right\");"
   ]
  },
  {
   "cell_type": "code",
   "execution_count": 27,
   "metadata": {
    "colab": {
     "base_uri": "https://localhost:8080/",
     "height": 555
    },
    "id": "tFR-8_hIvuwz",
    "outputId": "d9c1cc74-52e6-47be-e57c-26e032104636"
   },
   "outputs": [
    {
     "data": {
      "text/html": [
       "<h3>Version Information</h3><table><tr><th>Software</th><th>Version</th></tr><tr><td><code>qiskit</code></td><td>0.44.0</td></tr><tr><td><code>qiskit-terra</code></td><td>0.25.0</td></tr><tr><td><code>qiskit_algorithms</code></td><td>0.2.0</td></tr><tr><th colspan='2'>System information</th></tr><tr><td>Python version</td><td>3.9.17</td></tr><tr><td>Python compiler</td><td>Clang 14.0.6 </td></tr><tr><td>Python build</td><td>main, Jul  5 2023 16:17:03</td></tr><tr><td>OS</td><td>Darwin</td></tr><tr><td>CPUs</td><td>8</td></tr><tr><td>Memory (Gb)</td><td>64.0</td></tr><tr><td colspan='2'>Fri Aug 18 16:53:22 2023 CEST</td></tr></table>"
      ],
      "text/plain": [
       "<IPython.core.display.HTML object>"
      ]
     },
     "metadata": {},
     "output_type": "display_data"
    },
    {
     "data": {
      "text/html": [
       "<div style='width: 100%; background-color:#d5d9e0;padding-left: 10px; padding-bottom: 10px; padding-right: 10px; padding-top: 5px'><h3>This code is a part of Qiskit</h3><p>&copy; Copyright IBM 2017, 2023.</p><p>This code is licensed under the Apache License, Version 2.0. You may<br>obtain a copy of this license in the LICENSE.txt file in the root directory<br> of this source tree or at http://www.apache.org/licenses/LICENSE-2.0.<p>Any modifications or derivative works of this code must retain this<br>copyright notice, and modified files need to carry a notice indicating<br>that they have been altered from the originals.</p></div>"
      ],
      "text/plain": [
       "<IPython.core.display.HTML object>"
      ]
     },
     "metadata": {},
     "output_type": "display_data"
    }
   ],
   "source": [
    "import qiskit.tools.jupyter\n",
    "%qiskit_version_table\n",
    "%qiskit_copyright\n"
   ]
  }
 ],
 "metadata": {
  "celltoolbar": "Edit Metadata",
  "colab": {
   "provenance": []
  },
  "kernelspec": {
   "display_name": "Python 3",
   "language": "python",
   "name": "python3"
  },
  "language_info": {
   "codemirror_mode": {
    "name": "ipython",
    "version": 3
   },
   "file_extension": ".py",
   "mimetype": "text/x-python",
   "name": "python",
   "nbconvert_exporter": "python",
   "pygments_lexer": "ipython3",
   "version": "3.10.2"
  }
 },
 "nbformat": 4,
 "nbformat_minor": 1
}
