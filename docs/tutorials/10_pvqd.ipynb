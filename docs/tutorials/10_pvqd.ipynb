{
 "cells": [
  {
   "cell_type": "markdown",
   "metadata": {},
   "source": [
    "# Projected Variational Quantum Dynamics\n",
    "\n",
    "The projected Variational Quantum Dynamics (p-VQD) algorithm is a quantum algorithm for real time evolution. It's a variational algorithm that projects the state at time $t + \\Delta_t$, as calculated with Trotterization, onto a parameterized quantum circuit.\n",
    "\n",
    "For a quantum state $|\\phi(\\theta)\\rangle = U(\\theta)|0\\rangle$ constructed by a parameterized quantum circuit $U(\\theta)$ and a Hamiltonian $H$, the update rule can be written as\n",
    "\n",
    "$$\n",
    "\\theta_{n+1} = \\theta_n + \\arg\\min_{\\delta\\theta} 1 - |\\langle\\phi(\\theta_n + \\delta\\theta)|e^{-i\\Delta_t H}|\\phi(\\theta_n)\\rangle|^2,\n",
    "$$\n",
    "\n",
    "where $e^{-i\\Delta_t H}$ is calculated with a Trotter expansion (using e.g. the [PauliEvolutionGate](https://docs.quantum.ibm.com/api/qiskit/qiskit.circuit.library.PauliEvolutionGate) in Qiskit!).\n",
    "\n",
    "The following tutorial explores the p-VQD algorithm, which is available as the [PVQD](https://qiskit-community.github.io/qiskit-algorithms/stubs/qiskit_algorithms.PVQD.html) class. For details on the algorithm, see the original paper: [Barison et al. Quantum 5, 512 (2021)](https://quantum-journal.org/papers/q-2021-07-28-512/#)."
   ]
  },
  {
   "cell_type": "markdown",
   "metadata": {},
   "source": [
    "The example we're looking at is the time evolution of the $|00\\rangle$ state under the Hamiltonian\n",
    "\n",
    "$$\n",
    "    H = 0.1 Z_1 Z_2 + X_1 + X_2,\n",
    "$$\n",
    "\n",
    "which is an Ising Hamiltonian on two neighboring spins, up to a time $T=1$, where we want to keep track of the total magnetization $M = Z_1 + Z_2$ as an observable."
   ]
  },
  {
   "cell_type": "code",
   "execution_count": 1,
   "metadata": {},
   "outputs": [],
   "source": [
    "from qiskit.quantum_info import SparsePauliOp\n",
    "\n",
    "final_time = 1\n",
    "hamiltonian = SparsePauliOp.from_sparse_list([\n",
    "    (\"ZZ\", [0, 1], 0.1), (\"X\", [0], 1), (\"X\", [1], 1),\n",
    "], num_qubits=2)\n",
    "observable = SparsePauliOp([\"ZI\", \"IZ\"])"
   ]
  },
  {
   "cell_type": "markdown",
   "metadata": {},
   "source": [
    "After defining our Hamiltonian and observable, we need to choose the parameterized ansatz we project the update steps onto. We have different choices here, but for real time evolution an ansatz that contains building blocks of the evolved Hamiltonian usually performs very well."
   ]
  },
  {
   "cell_type": "code",
   "execution_count": 2,
   "metadata": {},
   "outputs": [
    {
     "data": {
      "image/png": "[encoded data removed]",
      "text/plain": [
       "<Figure size 327.252x144.48 with 1 Axes>"
      ]
     },
     "execution_count": 2,
     "metadata": {},
     "output_type": "execute_result"
    }
   ],
   "source": [
    "from qiskit.circuit import QuantumCircuit, ParameterVector\n",
    "\n",
    "theta = ParameterVector(\"th\", 5)\n",
    "ansatz = QuantumCircuit(2)\n",
    "ansatz.rx(theta[0], 0)\n",
    "ansatz.rx(theta[1], 1)\n",
    "ansatz.rzz(theta[2], 0, 1)\n",
    "ansatz.rx(theta[3], 0)\n",
    "ansatz.rx(theta[4], 1)\n",
    "\n",
    "# you can try different circuits, like:\n",
    "# from qiskit.circuit.library import EfficientSU2\n",
    "# ansatz = EfficientSU2(2, reps=1)\n",
    "\n",
    "ansatz.draw(\"mpl\", style=\"iqx\")"
   ]
  },
  {
   "cell_type": "markdown",
   "metadata": {},
   "source": [
    "With this ansatz, the $|00\\rangle$ state is prepared if all parameters are 0. Hence we'll set the initial parameters to $\\theta_0 = 0$:"
   ]
  },
  {
   "cell_type": "code",
   "execution_count": 3,
   "metadata": {},
   "outputs": [],
   "source": [
    "import numpy as np\n",
    "\n",
    "initial_parameters = np.zeros(ansatz.num_parameters)"
   ]
  },
  {
   "cell_type": "markdown",
   "metadata": {},
   "source": [
    "Before running the p-VQD algorithm, we need to select the backend and how we want to calculate the expectation values. Here, we'll perform exact statevector simulations (which are still very fast, as we investigate a 2 qubit system) through the reference primitive implementations found in `qiskit.primitives`."
   ]
  },
  {
   "cell_type": "code",
   "execution_count": 4,
   "metadata": {},
   "outputs": [],
   "source": [
    "from qiskit.primitives import Sampler, Estimator\n",
    "from qiskit_algorithms.state_fidelities import ComputeUncompute\n",
    "\n",
    "# the fidelity is used to evaluate the objective: the overlap of the variational form and the trotter step\n",
    "sampler = Sampler()\n",
    "fidelity = ComputeUncompute(sampler)\n",
    "\n",
    "# the estimator is used to evaluate the observables\n",
    "estimator = Estimator()"
   ]
  },
  {
   "cell_type": "markdown",
   "metadata": {},
   "source": [
    "Since p-VQD performs a classical optimization in each timestep to determine the best parameters for the projection, we also have to specify the classical optimizer. As a first example we're using BFGS, which typically works well in statevector simulations, but later we can switch to gradient descent."
   ]
  },
  {
   "cell_type": "code",
   "execution_count": 5,
   "metadata": {},
   "outputs": [],
   "source": [
    "from qiskit_algorithms.optimizers import L_BFGS_B\n",
    "\n",
    "bfgs = L_BFGS_B()"
   ]
  },
  {
   "cell_type": "markdown",
   "metadata": {},
   "source": [
    "Now we can define p-VQD and execute it!"
   ]
  },
  {
   "cell_type": "code",
   "execution_count": 6,
   "metadata": {},
   "outputs": [],
   "source": [
    "from qiskit_algorithms import PVQD\n",
    "\n",
    "pvqd = PVQD(\n",
    "    fidelity,\n",
    "    ansatz,\n",
    "    initial_parameters,\n",
    "    estimator=estimator,\n",
    "    num_timesteps=100,\n",
    "    optimizer=bfgs\n",
    ")"
   ]
  },
  {
   "cell_type": "markdown",
   "metadata": {},
   "source": [
    "The p-VQD implementation follows Qiskit's time evolution interface, thus we pack all information of the evolution problem into an input class: the `hamiltonian` under which we evolve the state, the `final_time` of the evolution and the observables (`aux_operators`) we keep track of."
   ]
  },
  {
   "cell_type": "code",
   "execution_count": 7,
   "metadata": {},
   "outputs": [],
   "source": [
    "from qiskit_algorithms import TimeEvolutionProblem\n",
    "\n",
    "problem = TimeEvolutionProblem(hamiltonian, time=final_time, aux_operators=[hamiltonian, observable])"
   ]
  },
  {
   "cell_type": "markdown",
   "metadata": {},
   "source": [
    "And then run the algorithm!"
   ]
  },
  {
   "cell_type": "code",
   "execution_count": 8,
   "metadata": {},
   "outputs": [
    {
     "name": "stdout",
     "output_type": "stream",
     "text": [
      "{   'aux_ops_evaluated': array([ 0.10877508, -0.8256544 ]),\n",
      "    'estimated_error': 2.4781666023709903e-06,\n",
      "    'evolved_state': <qiskit.circuit.quantumcircuit.QuantumCircuit object at 0x7f96a0a4c400>,\n",
      "    'fidelities': [   1.0,\n",
      "                      0.999999994810878,\n",
      "                      0.9999999646960552,\n",
      "                      0.9999999987682254,\n",
      "                      0.99999999993364,\n",
      "                      0.999999997930724,\n",
      "                      0.99999999278486,\n",
      "                      0.9999999992656516,\n",
      "                      0.9999999984720038,\n",
      "                      0.9999999973540102,\n",
      "                      0.9999999959238208,\n",
      "                      0.9999999941952744,\n",
      "                      0.999999999206662,\n",
      "                      0.9999999989950918,\n",
      "                      0.9999999987351132,\n",
      "                      0.9999999984180052,\n",
      "                      0.9999999980339588,\n",
      "                      0.9999999975720132,\n",
      "                      0.9999999970199948,\n",
      "                      0.9999999963644612,\n",
      "                      0.9999999955906393,\n",
      "                      0.9999999946823838,\n",
      "                      0.9999999936221278,\n",
      "                      0.9999999926028444,\n",
      "                      0.9999999916365137,\n",
      "                      0.9999999918514156,\n",
      "                      0.999999990630723,\n",
      "                      0.9999999892521608,\n",
      "                      0.9999999876977836,\n",
      "                      0.9999999859480942,\n",
      "                      0.999999983982037,\n",
      "                      0.9999999829668812,\n",
      "                      0.9999999808510363,\n",
      "                      0.9999999785107602,\n",
      "                      0.9999999759237286,\n",
      "                      0.9999999735723598,\n",
      "                      0.9999999709249182,\n",
      "                      0.9999999682197572,\n",
      "                      0.9999999656644099,\n",
      "                      0.9999999622686514,\n",
      "                      0.9999999587994122,\n",
      "                      0.9999999558194353,\n",
      "                      0.9999999519966122,\n",
      "                      0.999999947873755,\n",
      "                      0.9999999440923933,\n",
      "                      0.9999999396397626,\n",
      "                      0.9999999348559656,\n",
      "                      0.9999999308500046,\n",
      "                      0.9999999259087498,\n",
      "                      0.9999999206337274,\n",
      "                      0.9999999159455149,\n",
      "                      0.9999999104023148,\n",
      "                      0.9999999060537212,\n",
      "                      0.9999999004854963,\n",
      "                      0.9999998946027308,\n",
      "                      0.9999998896454084,\n",
      "                      0.9999998837664604,\n",
      "                      0.9999998775898982,\n",
      "                      0.9999999353908055,\n",
      "                      0.9999999351606516,\n",
      "                      0.9999999702806323,\n",
      "                      0.9999999711201872,\n",
      "                      0.9999999717248588,\n",
      "                      0.9999999727545033,\n",
      "                      0.999999973714949,\n",
      "                      0.9999999747621942,\n",
      "                      0.9999999758868302,\n",
      "                      0.9999999770714048,\n",
      "                      0.9999999783325844,\n",
      "                      0.9999999796305166,\n",
      "                      0.9999999809907598,\n",
      "                      0.9999999823721348,\n",
      "                      0.9999999837950628,\n",
      "                      0.9999999850420018,\n",
      "                      0.9999999865550524,\n",
      "                      0.9999999878041282,\n",
      "                      0.9999999893175434,\n",
      "                      0.9999999907055506,\n",
      "                      0.9999999918887482,\n",
      "                      0.9999999932430698,\n",
      "                      0.9999999943095734,\n",
      "                      0.9999999954404026,\n",
      "                      0.9999999962793982,\n",
      "                      0.9999999971438318,\n",
      "                      0.999999997670787,\n",
      "                      0.9999999981562422,\n",
      "                      0.9999999982633252,\n",
      "                      0.9999999982553294,\n",
      "                      0.9999999978178036,\n",
      "                      0.9999999972000864,\n",
      "                      0.9999999960836614,\n",
      "                      0.9999999947055718,\n",
      "                      0.9999999927546424,\n",
      "                      0.9999999904963562,\n",
      "                      0.9999999875510924,\n",
      "                      0.9999999839950175,\n",
      "                      0.9999999801833134,\n",
      "                      0.9999999753969174,\n",
      "                      0.999999999876449,\n",
      "                      0.9999999996875087,\n",
      "                      0.9999999991778888],\n",
      "    'observables': [   array([0.1, 2. ]),\n",
      "                       array([0.10016308, 1.99960002]),\n",
      "                       array([0.10065219, 1.99840036]),\n",
      "                       array([0.10070955, 1.99640142]),\n",
      "                       array([0.10065444, 1.993604  ]),\n",
      "                       array([0.10048727, 1.99000921]),\n",
      "                       array([0.10020862, 1.98561846]),\n",
      "                       array([0.10010511, 1.98043052]),\n",
      "                       array([0.09996625, 1.97444971]),\n",
      "                       array([0.09979275, 1.96767845]),\n",
      "                       array([0.09958544, 1.96011951]),\n",
      "                       array([0.09934525, 1.95177596]),\n",
      "                       array([0.09930829, 1.94265576]),\n",
      "                       array([0.09927777, 1.93275905]),\n",
      "                       array([0.09925467, 1.92208996]),\n",
      "                       array([0.09924003, 1.9106529 ]),\n",
      "                       array([0.09923498, 1.89845264]),\n",
      "                       array([0.09924067, 1.88549424]),\n",
      "                       array([0.09925834, 1.87178309]),\n",
      "                       array([0.09928929, 1.85732489]),\n",
      "                       array([0.09933486, 1.84212564]),\n",
      "                       array([0.09939643, 1.82619167]),\n",
      "                       array([0.09947544, 1.80952959]),\n",
      "                       array([0.09956601, 1.79213071]),\n",
      "                       array([0.09965841, 1.77403752]),\n",
      "                       array([0.09967624, 1.75520833]),\n",
      "                       array([0.0997088 , 1.73567838]),\n",
      "                       array([0.09975782, 1.71545575]),\n",
      "                       array([0.09982509, 1.69454881]),\n",
      "                       array([0.09991238, 1.6729662 ]),\n",
      "                       array([0.10002152, 1.65071687]),\n",
      "                       array([0.10007812, 1.62782451]),\n",
      "                       array([0.10015585, 1.60428466]),\n",
      "                       array([0.10025663, 1.58010701]),\n",
      "                       array([0.10038238, 1.55530151]),\n",
      "                       array([0.10051288, 1.52984906]),\n",
      "                       array([0.10065029, 1.50381534]),\n",
      "                       array([0.10079505, 1.47715342]),\n",
      "                       array([0.10091522, 1.4499249 ]),\n",
      "                       array([0.10106458, 1.422121  ]),\n",
      "                       array([0.10123534, 1.39372708]),\n",
      "                       array([0.10135708, 1.36478541]),\n",
      "                       array([0.1015102 , 1.33530211]),\n",
      "                       array([0.10169667, 1.30528927]),\n",
      "                       array([0.10186514, 1.27474013]),\n",
      "                       array([0.10206886, 1.24368536]),\n",
      "                       array([0.10230976, 1.21213767]),\n",
      "                       array([0.1025035 , 1.18010569]),\n",
      "                       array([0.1027352 , 1.14760628]),\n",
      "                       array([0.10300668, 1.11465268]),\n",
      "                       array([0.103254  , 1.08126366]),\n",
      "                       array([0.10354255, 1.04744734]),\n",
      "                       array([0.10378332, 1.01320555]),\n",
      "                       array([0.10406581, 0.97856344]),\n",
      "                       array([0.10439164, 0.94353509]),\n",
      "                       array([0.10467245, 0.90813182]),\n",
      "                       array([0.10499706, 0.87237041]),\n",
      "                       array([0.10536692, 0.83626537]),\n",
      "                       array([0.10564045, 0.7998196 ]),\n",
      "                       array([0.10590206, 0.76305562]),\n",
      "                       array([0.10610559, 0.7259959 ]),\n",
      "                       array([0.10631537, 0.68863874]),\n",
      "                       array([0.10649596, 0.65100716]),\n",
      "                       array([0.10670129, 0.61314725]),\n",
      "                       array([0.10689981, 0.5750102 ]),\n",
      "                       array([0.10710257, 0.53668097]),\n",
      "                       array([0.10730567, 0.49810456]),\n",
      "                       array([0.10751086, 0.4593668 ]),\n",
      "                       array([0.10771836, 0.42041565]),\n",
      "                       array([0.10792562, 0.38133175]),\n",
      "                       array([0.10813423, 0.34206929]),\n",
      "                       array([0.10834033, 0.30270259]),\n",
      "                       array([0.10854555, 0.2631919 ]),\n",
      "                       array([0.10872842, 0.22357844]),\n",
      "                       array([0.10892165, 0.18391094]),\n",
      "                       array([0.10909189, 0.14417273]),\n",
      "                       array([0.10927115, 0.10435138]),\n",
      "                       array([0.10944345, 0.06451869]),\n",
      "                       array([0.10959104, 0.02466332]),\n",
      "                       array([ 0.10974541, -0.01521811]),\n",
      "                       array([ 0.10987341, -0.05509014]),\n",
      "                       array([ 0.11000037, -0.0949116 ]),\n",
      "                       array([ 0.11009894, -0.13469162]),\n",
      "                       array([ 0.11019413, -0.17443325]),\n",
      "                       array([ 0.11025861, -0.21410138]),\n",
      "                       array([ 0.11031657, -0.25365844]),\n",
      "                       array([ 0.11034117, -0.29311021]),\n",
      "                       array([ 0.11035453, -0.33245672]),\n",
      "                       array([ 0.11033168, -0.37166613]),\n",
      "                       array([ 0.11029519, -0.41070444]),\n",
      "                       array([ 0.11021937, -0.44957427]),\n",
      "                       array([ 0.11012404, -0.48827502]),\n",
      "                       array([ 0.10998615, -0.52677591]),\n",
      "                       array([ 0.10982745, -0.56504198]),\n",
      "                       array([ 0.10962275, -0.6030775 ]),\n",
      "                       array([ 0.10937061, -0.64086722]),\n",
      "                       array([ 0.10909625, -0.67841828]),\n",
      "                       array([ 0.10877072, -0.71569282]),\n",
      "                       array([ 0.1087999 , -0.75265906]),\n",
      "                       array([ 0.10880202, -0.78931783]),\n",
      "                       array([ 0.10877508, -0.8256544 ])],\n",
      "    'parameters': [   array([0., 0., 0., 0., 0.]),\n",
      "                      array([0.00975086, 0.01146343, 0.0095736 , 0.01024915, 0.00853658]),\n",
      "                      array([0.01950172, 0.02292685, 0.01914719, 0.02049829, 0.01707316]),\n",
      "                      array([0.02712372, 0.03180869, 0.01815242, 0.03287598, 0.02819085]),\n",
      "                      array([0.03474571, 0.04069053, 0.01715764, 0.04525368, 0.03930853]),\n",
      "                      array([0.0423677 , 0.04957237, 0.01616286, 0.05763137, 0.05042621]),\n",
      "                      array([0.0499897 , 0.05845421, 0.01516808, 0.07000906, 0.06154389]),\n",
      "                      array([0.05774739, 0.06746893, 0.01643518, 0.08225857, 0.07254497]),\n",
      "                      array([0.06550509, 0.07648365, 0.01770228, 0.09450807, 0.08354604]),\n",
      "                      array([0.07326278, 0.08549837, 0.01896937, 0.10675757, 0.09454711]),\n",
      "                      array([0.08102047, 0.0945131 , 0.02023647, 0.11900707, 0.10554818]),\n",
      "                      array([0.08877817, 0.10352782, 0.02150357, 0.13125657, 0.11654925]),\n",
      "                      array([0.09661628, 0.1125804 , 0.02388823, 0.14342187, 0.12750009]),\n",
      "                      array([0.10445439, 0.12163299, 0.02627288, 0.15558717, 0.13845092]),\n",
      "                      array([0.1122925 , 0.13068557, 0.02865754, 0.16775247, 0.14940176]),\n",
      "                      array([0.1201306 , 0.13973816, 0.03104219, 0.17991777, 0.1603526 ]),\n",
      "                      array([0.12796871, 0.14879075, 0.03342685, 0.19208307, 0.17130343]),\n",
      "                      array([0.13580682, 0.15784333, 0.0358115 , 0.20424837, 0.18225427]),\n",
      "                      array([0.14364493, 0.16689592, 0.03819616, 0.21641367, 0.1932051 ]),\n",
      "                      array([0.15148304, 0.1759485 , 0.04058081, 0.22857897, 0.20415594]),\n",
      "                      array([0.15932115, 0.18500109, 0.04296547, 0.24074427, 0.21510678]),\n",
      "                      array([0.16715926, 0.19405367, 0.04535013, 0.25290957, 0.22605761]),\n",
      "                      array([0.17499737, 0.20310626, 0.04773478, 0.26507487, 0.23700845]),\n",
      "                      array([0.18284534, 0.2121651 , 0.05010193, 0.27724867, 0.24796969]),\n",
      "                      array([0.19068297, 0.22120764, 0.05242252, 0.28940871, 0.25892545]),\n",
      "                      array([0.19854885, 0.23023659, 0.05451979, 0.30157178, 0.26992279]),\n",
      "                      array([0.20641473, 0.23926554, 0.05661706, 0.31373485, 0.28092013]),\n",
      "                      array([0.21428061, 0.24829449, 0.05871433, 0.32589792, 0.29191747]),\n",
      "                      array([0.22214649, 0.25732344, 0.0608116 , 0.33806099, 0.30291481]),\n",
      "                      array([0.23001237, 0.2663524 , 0.06290887, 0.35022406, 0.31391215]),\n",
      "                      array([0.23787826, 0.27538135, 0.06500614, 0.36238713, 0.32490949]),\n",
      "                      array([0.24575334, 0.28438499, 0.0669519 , 0.37452608, 0.33591893]),\n",
      "                      array([0.25362843, 0.29338863, 0.06889766, 0.38666502, 0.34692836]),\n",
      "                      array([0.26150352, 0.30239228, 0.07084342, 0.39880396, 0.3579378 ]),\n",
      "                      array([0.26937861, 0.31139592, 0.07278918, 0.4109429 , 0.36894723]),\n",
      "                      array([0.27727195, 0.32040549, 0.07469682, 0.42308725, 0.37997162]),\n",
      "                      array([0.28516065, 0.32940074, 0.07656664, 0.43521362, 0.39099035]),\n",
      "                      array([0.29306861, 0.33840273, 0.0784014 , 0.44734505, 0.40202371]),\n",
      "                      array([0.30098822, 0.34738697, 0.08014418, 0.45944744, 0.41305935]),\n",
      "                      array([0.30890783, 0.35637121, 0.08188697, 0.47154984, 0.424095  ]),\n",
      "                      array([0.31684123, 0.36536238, 0.08361497, 0.48365751, 0.43514052]),\n",
      "                      array([0.32480711, 0.37433878, 0.08521309, 0.49572634, 0.44619479]),\n",
      "                      array([0.33277299, 0.38331518, 0.08681121, 0.50779518, 0.45724907]),\n",
      "                      array([0.34073887, 0.39229158, 0.08840933, 0.51986402, 0.46830334]),\n",
      "                      array([0.34874378, 0.4012678 , 0.08992699, 0.53190517, 0.47936787]),\n",
      "                      array([0.35674869, 0.41024401, 0.09144464, 0.54394633, 0.49043241]),\n",
      "                      array([0.36475361, 0.41922023, 0.0929623 , 0.55598749, 0.50149694]),\n",
      "                      array([0.37280173, 0.42819226, 0.09435625, 0.56798544, 0.51256518]),\n",
      "                      array([0.38084986, 0.43716429, 0.0957502 , 0.57998339, 0.52363342]),\n",
      "                      array([0.38889799, 0.44613632, 0.09714416, 0.59198134, 0.53470166]),\n",
      "                      array([0.3969769 , 0.45510576, 0.09844766, 0.60394296, 0.54576701]),\n",
      "                      array([0.40505581, 0.46407521, 0.09975116, 0.61590458, 0.55683235]),\n",
      "                      array([0.41324459, 0.47306034, 0.10092756, 0.62776021, 0.56788498]),\n",
      "                      array([0.42143338, 0.48204546, 0.10210395, 0.63961584, 0.57893761]),\n",
      "                      array([0.42962217, 0.49103059, 0.10328034, 0.65147147, 0.58999024]),\n",
      "                      array([0.43789699, 0.50003269, 0.10433705, 0.66323925, 0.60102364]),\n",
      "                      array([0.4461718 , 0.5090348 , 0.10539377, 0.67500703, 0.61205705]),\n",
      "                      array([0.45444662, 0.5180369 , 0.10645048, 0.6867748 , 0.62309045]),\n",
      "                      array([0.47059255, 0.52995772, 0.10658509, 0.69065352, 0.63118581]),\n",
      "                      array([0.48673849, 0.54187854, 0.1067197 , 0.69453224, 0.63928116]),\n",
      "                      array([0.50168622, 0.55764749, 0.10664043, 0.6995989 , 0.64351566]),\n",
      "                      array([0.51665433, 0.57342532, 0.106602  , 0.7046516 , 0.6477465 ]),\n",
      "                      array([0.53162245, 0.58920315, 0.10656357, 0.7097043 , 0.65197733]),\n",
      "                      array([0.54659729, 0.60498021, 0.10658224, 0.71473506, 0.6561959 ]),\n",
      "                      array([0.56159001, 0.62076869, 0.10662202, 0.7197677 , 0.66042007]),\n",
      "                      array([0.57658293, 0.63655249, 0.10669286, 0.72478123, 0.66463241]),\n",
      "                      array([0.59159472, 0.65234823, 0.10678982, 0.7297961 , 0.66885033]),\n",
      "                      array([0.60660576, 0.66813882, 0.10691321, 0.73479302, 0.67305703]),\n",
      "                      array([0.62163518, 0.68394062, 0.10706287, 0.73979023, 0.67726867]),\n",
      "                      array([0.63666414, 0.6997376 , 0.10723512, 0.74477073, 0.68147012]),\n",
      "                      array([0.65171047, 0.71554466, 0.10743153, 0.74975055, 0.68567584]),\n",
      "                      array([0.66675693, 0.73134737, 0.10764759, 0.75471476, 0.68987243]),\n",
      "                      array([0.68181968, 0.74715904, 0.10788521, 0.75967767, 0.69407285]),\n",
      "                      array([0.69688243, 0.76297071, 0.10812283, 0.76464058, 0.69827328]),\n",
      "                      array([0.71194597, 0.77877775, 0.10839337, 0.76958695, 0.70246427]),\n",
      "                      array([0.72700951, 0.79458479, 0.10866392, 0.77453332, 0.70665525]),\n",
      "                      array([0.74208968, 0.81040107, 0.10896704, 0.77948017, 0.7108517 ]),\n",
      "                      array([0.75716932, 0.8262125 , 0.10928715, 0.78441379, 0.71504104]),\n",
      "                      array([0.77224895, 0.84202393, 0.10960725, 0.7893474 , 0.71923038]),\n",
      "                      array([0.78734262, 0.85784146, 0.10995981, 0.79427968, 0.72342389]),\n",
      "                      array([0.80243629, 0.873659  , 0.11031237, 0.79921195, 0.72761741]),\n",
      "                      array([0.81753012, 0.88947145, 0.11069142, 0.80413207, 0.73180579]),\n",
      "                      array([0.83262394, 0.90528391, 0.11107046, 0.80905219, 0.73599417]),\n",
      "                      array([0.84772926, 0.92110047, 0.11147618, 0.81397321, 0.74018839]),\n",
      "                      array([0.86283458, 0.93691704, 0.11188189, 0.81889423, 0.74438262]),\n",
      "                      array([0.87793911, 0.95272736, 0.11231382, 0.82380601, 0.74857453]),\n",
      "                      array([0.89304364, 0.96853767, 0.11274575, 0.82871778, 0.75276644]),\n",
      "                      array([0.90815653, 0.98434911, 0.11320226, 0.83363198, 0.75696584]),\n",
      "                      array([0.92326942, 1.00016055, 0.11365877, 0.83854617, 0.76116525]),\n",
      "                      array([0.93837987, 1.01596357, 0.11414082, 0.84345465, 0.76536605]),\n",
      "                      array([0.95349031, 1.03176658, 0.11462287, 0.84836312, 0.76956686]),\n",
      "                      array([0.9686059 , 1.04756715, 0.11512802, 0.85327691, 0.77377851]),\n",
      "                      array([0.9837215 , 1.06336771, 0.11563318, 0.8581907 , 0.77799016]),\n",
      "                      array([0.9988303 , 1.07915453, 0.11616402, 0.86310239, 0.78220794]),\n",
      "                      array([1.0139391 , 1.09494135, 0.11669486, 0.86801407, 0.78642572]),\n",
      "                      array([1.0290479 , 1.11072817, 0.11722571, 0.87292576, 0.7906435 ]),\n",
      "                      array([1.04415875, 1.12650804, 0.11778728, 0.87785145, 0.79488104]),\n",
      "                      array([1.0592696 , 1.14228792, 0.11834886, 0.88277715, 0.79911859]),\n",
      "                      array([1.0726423 , 1.15495485, 0.11897834, 0.88944686, 0.80646734]),\n",
      "                      array([1.08601501, 1.16762177, 0.11960783, 0.89611657, 0.81381609]),\n",
      "                      array([1.09938771, 1.1802887 , 0.12023731, 0.90278629, 0.82116484])],\n",
      "    'times': [   0.0,\n",
      "                 0.01,\n",
      "                 0.02,\n",
      "                 0.03,\n",
      "                 0.04,\n",
      "                 0.05,\n",
      "                 0.06,\n",
      "                 0.07,\n",
      "                 0.08,\n",
      "                 0.09,\n",
      "                 0.1,\n",
      "                 0.11,\n",
      "                 0.12,\n",
      "                 0.13,\n",
      "                 0.14,\n",
      "                 0.15,\n",
      "                 0.16,\n",
      "                 0.17,\n",
      "                 0.18,\n",
      "                 0.19,\n",
      "                 0.2,\n",
      "                 0.21,\n",
      "                 0.22,\n",
      "                 0.23,\n",
      "                 0.24,\n",
      "                 0.25,\n",
      "                 0.26,\n",
      "                 0.27,\n",
      "                 0.28,\n",
      "                 0.29,\n",
      "                 0.3,\n",
      "                 0.31,\n",
      "                 0.32,\n",
      "                 0.33,\n",
      "                 0.34,\n",
      "                 0.35000000000000003,\n",
      "                 0.36,\n",
      "                 0.37,\n",
      "                 0.38,\n",
      "                 0.39,\n",
      "                 0.4,\n",
      "                 0.41000000000000003,\n",
      "                 0.42,\n",
      "                 0.43,\n",
      "                 0.44,\n",
      "                 0.45,\n",
      "                 0.46,\n",
      "                 0.47000000000000003,\n",
      "                 0.48,\n",
      "                 0.49,\n",
      "                 0.5,\n",
      "                 0.51,\n",
      "                 0.52,\n",
      "                 0.53,\n",
      "                 0.54,\n",
      "                 0.55,\n",
      "                 0.56,\n",
      "                 0.5700000000000001,\n",
      "                 0.58,\n",
      "                 0.59,\n",
      "                 0.6,\n",
      "                 0.61,\n",
      "                 0.62,\n",
      "                 0.63,\n",
      "                 0.64,\n",
      "                 0.65,\n",
      "                 0.66,\n",
      "                 0.67,\n",
      "                 0.68,\n",
      "                 0.6900000000000001,\n",
      "                 0.7000000000000001,\n",
      "                 0.71,\n",
      "                 0.72,\n",
      "                 0.73,\n",
      "                 0.74,\n",
      "                 0.75,\n",
      "                 0.76,\n",
      "                 0.77,\n",
      "                 0.78,\n",
      "                 0.79,\n",
      "                 0.8,\n",
      "                 0.81,\n",
      "                 0.8200000000000001,\n",
      "                 0.8300000000000001,\n",
      "                 0.84,\n",
      "                 0.85,\n",
      "                 0.86,\n",
      "                 0.87,\n",
      "                 0.88,\n",
      "                 0.89,\n",
      "                 0.9,\n",
      "                 0.91,\n",
      "                 0.92,\n",
      "                 0.93,\n",
      "                 0.9400000000000001,\n",
      "                 0.9500000000000001,\n",
      "                 0.96,\n",
      "                 0.97,\n",
      "                 0.98,\n",
      "                 0.99,\n",
      "                 1.0]}\n"
     ]
    }
   ],
   "source": [
    "result = pvqd.evolve(problem)\n",
    "print(result)"
   ]
  },
  {
   "cell_type": "markdown",
   "metadata": {},
   "source": [
    "Now we can have a look at the results, which are stored in a `PVQDResult` object. This class has the fields\n",
    "\n",
    "* `evolved_state`: The quantum circuit with the parameters at the final evolution time.\n",
    "* `times`: The timesteps of the time integration. At these times we have the parameter values and evaluated the observables.\n",
    "* `parameters`: The parameter values at each timestep.\n",
    "* `observables`: The observable values at each timestep.\n",
    "* `fidelities`: The fidelity of projecting the Trotter timestep onto the variational form at each timestep.\n",
    "* `estimated_error`: The estimated error as product of all fidelities."
   ]
  },
  {
   "cell_type": "markdown",
   "metadata": {},
   "source": [
    "The energy should be constant in a real time evolution. However, we are projecting the time-evolved state onto a variational form, which might violate this rule. Ideally the energy is still more or less constant. In this evolution here we observe shifts of ~5% of the energy."
   ]
  },
  {
   "cell_type": "code",
   "execution_count": 9,
   "metadata": {},
   "outputs": [
    {
     "data": {
      "text/plain": [
       "Text(0.5, 1.0, 'Energy over time')"
      ]
     },
     "execution_count": 9,
     "metadata": {},
     "output_type": "execute_result"
    },
    {
     "data": {
      "image/png": "[encoded data removed]",
      "text/plain": [
       "<Figure size 432x288 with 1 Axes>"
      ]
     },
     "metadata": {
      "needs_background": "light"
     },
     "output_type": "display_data"
    }
   ],
   "source": [
    "import matplotlib.pyplot as plt\n",
    "\n",
    "energies = np.real(result.observables)[:, 0]\n",
    "\n",
    "plt.plot(result.times, energies, color=\"royalblue\")\n",
    "plt.xlabel(\"time $t$\")\n",
    "plt.ylabel(\"energy $E$\")\n",
    "plt.title(\"Energy over time\")"
   ]
  },
  {
   "cell_type": "markdown",
   "metadata": {},
   "source": [
    "Since we also kept track of the total magnetization of the system, we can plot that quantity too. However let's first compute exact reference values to verify our algorithm results."
   ]
  },
  {
   "cell_type": "code",
   "execution_count": 10,
   "metadata": {},
   "outputs": [],
   "source": [
    "import scipy as sc\n",
    "\n",
    "def exact(final_time, timestep, hamiltonian, initial_state):\n",
    "    \"\"\"Get the exact values for energy and the observable.\"\"\"\n",
    "    O = observable.to_matrix()\n",
    "    H = hamiltonian.to_matrix()\n",
    "\n",
    "    energ, magn = [], []  # list of energies and magnetizations evaluated at timesteps timestep\n",
    "    times = []  # list of timepoints at which energy/obs are evaluated\n",
    "    time = 0\n",
    "    while time <= final_time:\n",
    "        # get exact state at time t\n",
    "        exact_state = initial_state.evolve(sc.linalg.expm(-1j * time * H))\n",
    "        # store observables and time\n",
    "        times.append(time)\n",
    "        energ.append(exact_state.expectation_value(H).real)\n",
    "        magn.append(exact_state.expectation_value(observable).real)\n",
    "\n",
    "        # next timestep\n",
    "        time += timestep\n",
    "\n",
    "    return times, energ, magn"
   ]
  },
  {
   "cell_type": "code",
   "execution_count": 11,
   "metadata": {},
   "outputs": [],
   "source": [
    "from qiskit.quantum_info import Statevector\n",
    "\n",
    "initial_state = Statevector(ansatz.bind_parameters(initial_parameters))\n",
    "exact_times, exact_energies, exact_magnetizations = exact(final_time, 0.01, hamiltonian, initial_state)"
   ]
  },
  {
   "cell_type": "code",
   "execution_count": 12,
   "metadata": {},
   "outputs": [
    {
     "data": {
      "text/plain": [
       "<matplotlib.legend.Legend at 0x7f9680a45880>"
      ]
     },
     "execution_count": 12,
     "metadata": {},
     "output_type": "execute_result"
    },
    {
     "data": {
      "image/png": "[encoded data removed]",
      "text/plain": [
       "<Figure size 432x288 with 1 Axes>"
      ]
     },
     "metadata": {
      "needs_background": "light"
     },
     "output_type": "display_data"
    }
   ],
   "source": [
    "magnetizations = np.real(result.observables)[:, 1]\n",
    "\n",
    "plt.plot(result.times, magnetizations.real, color=\"crimson\", label=\"PVQD\")\n",
    "plt.plot(exact_times, exact_magnetizations, \":\", color=\"k\", label=\"Exact\")\n",
    "plt.xlabel(\"time $t$\")\n",
    "plt.ylabel(r\"magnetization $\\langle Z_1 Z_2 \\rangle$\")\n",
    "plt.title(\"Magnetization over time\")\n",
    "plt.legend(loc=\"best\")"
   ]
  },
  {
   "cell_type": "markdown",
   "metadata": {},
   "source": [
    "Looks pretty good!"
   ]
  },
  {
   "cell_type": "markdown",
   "metadata": {},
   "source": [
    "### Gradient-based optimizations\n",
    "\n",
    "The `PVQD` class also implements parameter-shift gradients for the loss function and we can use a gradient descent optimization routine\n",
    "\n",
    "$$\n",
    "    \\theta_{k+1} = \\theta_{k} - \\eta_k \\nabla\\ell(\\theta_k).\n",
    "$$\n",
    "\n",
    "Here we're using a learning rate of\n",
    "\n",
    "$$\n",
    "    \\eta_k = 0.1 k^{-0.602}\n",
    "$$\n",
    "and 80 optimization steps in each timestep."
   ]
  },
  {
   "cell_type": "code",
   "execution_count": 13,
   "metadata": {
    "scrolled": true
   },
   "outputs": [],
   "source": [
    "from qiskit_algorithms.optimizers import GradientDescent\n",
    "\n",
    "maxiter = 80\n",
    "learning_rate = 0.1 * np.arange(1, maxiter + 1) ** (-0.602)\n",
    "gd = GradientDescent(maxiter, lambda: iter(learning_rate))"
   ]
  },
  {
   "cell_type": "code",
   "execution_count": 14,
   "metadata": {},
   "outputs": [],
   "source": [
    "pvqd.optimizer = gd"
   ]
  },
  {
   "cell_type": "markdown",
   "metadata": {},
   "source": [
    "The following cell would take a few minutes to run for 100 timesteps, so we reduce them here."
   ]
  },
  {
   "cell_type": "code",
   "execution_count": 15,
   "metadata": {},
   "outputs": [],
   "source": [
    "n = 10\n",
    "pvqd.num_timesteps = n\n",
    "problem.time = 0.1"
   ]
  },
  {
   "cell_type": "code",
   "execution_count": 16,
   "metadata": {},
   "outputs": [],
   "source": [
    "result_gd = pvqd.evolve(problem)"
   ]
  },
  {
   "cell_type": "code",
   "execution_count": 17,
   "metadata": {},
   "outputs": [
    {
     "data": {
      "text/plain": [
       "Text(0.5, 1.0, 'Energy over time')"
      ]
     },
     "execution_count": 17,
     "metadata": {},
     "output_type": "execute_result"
    },
    {
     "data": {
      "image/png": "[encoded data removed]",
      "text/plain": [
       "<Figure size 432x288 with 1 Axes>"
      ]
     },
     "metadata": {
      "needs_background": "light"
     },
     "output_type": "display_data"
    }
   ],
   "source": [
    "energies_gd = np.real(result_gd.observables)[:, 0]\n",
    "\n",
    "plt.plot(result.times[:n + 1], energies[:n + 1], \"-\", color=\"royalblue\", label=\"BFGS\")\n",
    "plt.plot(result_gd.times, energies_gd, \"--\", color=\"royalblue\", label=\"Gradient descent\")\n",
    "plt.plot(exact_times[:n + 1], exact_energies[:n + 1], \":\", color=\"k\", label=\"Exact\")\n",
    "plt.legend(loc=\"best\")\n",
    "plt.xlabel(\"time $t$\")\n",
    "plt.ylabel(\"energy $E$\")\n",
    "plt.title(\"Energy over time\")"
   ]
  },
  {
   "cell_type": "markdown",
   "metadata": {},
   "source": [
    "We can observe here, that the energy does vary quite a bit! But as we mentioned before, p-VQD does not preserve the energy."
   ]
  },
  {
   "cell_type": "code",
   "execution_count": 18,
   "metadata": {
    "tags": [
     "nbsphinx-thumbnail"
    ]
   },
   "outputs": [
    {
     "data": {
      "text/plain": [
       "Text(0.5, 1.0, 'Magnetization over time')"
      ]
     },
     "execution_count": 18,
     "metadata": {},
     "output_type": "execute_result"
    },
    {
     "data": {
      "image/png": "[encoded data removed]",
      "text/plain": [
       "<Figure size 432x288 with 1 Axes>"
      ]
     },
     "metadata": {
      "needs_background": "light"
     },
     "output_type": "display_data"
    }
   ],
   "source": [
    "magnetizations_gd = np.real(result_gd.observables)[:, 1]\n",
    "\n",
    "plt.plot(result.times[:n + 1], magnetizations[:n + 1], \"-\", color=\"crimson\", label=\"BFGS\")\n",
    "plt.plot(result_gd.times, magnetizations_gd, \"--\", color=\"crimson\", label=\"Gradient descent\")\n",
    "plt.plot(exact_times[:n + 1], exact_magnetizations[:n + 1], \":\", color=\"k\", label=\"Exact\")\n",
    "plt.legend(loc=\"best\")\n",
    "plt.xlabel(\"time $t$\")\n",
    "plt.ylabel(r\"magnetization $\\langle Z_1 + Z_2 \\rangle$\")\n",
    "plt.title(\"Magnetization over time\")"
   ]
  },
  {
   "cell_type": "markdown",
   "metadata": {},
   "source": [
    "The magnetization, however, is computed very precisely."
   ]
  },
  {
   "cell_type": "code",
   "execution_count": 19,
   "metadata": {},
   "outputs": [
    {
     "data": {
      "text/html": [
       "<h3>Version Information</h3><table><tr><th>Software</th><th>Version</th></tr><tr><td><code>qiskit</code></td><td>0.44.0</td></tr><tr><td><code>qiskit-terra</code></td><td>0.25.0</td></tr><tr><td><code>qiskit_algorithms</code></td><td>0.2.0</td></tr><tr><th colspan='2'>System information</th></tr><tr><td>Python version</td><td>3.9.17</td></tr><tr><td>Python compiler</td><td>Clang 14.0.6 </td></tr><tr><td>Python build</td><td>main, Jul  5 2023 16:17:03</td></tr><tr><td>OS</td><td>Darwin</td></tr><tr><td>CPUs</td><td>8</td></tr><tr><td>Memory (Gb)</td><td>64.0</td></tr><tr><td colspan='2'>Fri Aug 18 15:40:38 2023 CEST</td></tr></table>"
      ],
      "text/plain": [
       "<IPython.core.display.HTML object>"
      ]
     },
     "metadata": {},
     "output_type": "display_data"
    },
    {
     "data": {
      "text/html": [
       "<div style='width: 100%; background-color:#d5d9e0;padding-left: 10px; padding-bottom: 10px; padding-right: 10px; padding-top: 5px'><h3>This code is a part of Qiskit</h3><p>&copy; Copyright IBM 2017, 2023.</p><p>This code is licensed under the Apache License, Version 2.0. You may<br>obtain a copy of this license in the LICENSE.txt file in the root directory<br> of this source tree or at http://www.apache.org/licenses/LICENSE-2.0.<p>Any modifications or derivative works of this code must retain this<br>copyright notice, and modified files need to carry a notice indicating<br>that they have been altered from the originals.</p></div>"
      ],
      "text/plain": [
       "<IPython.core.display.HTML object>"
      ]
     },
     "metadata": {},
     "output_type": "display_data"
    }
   ],
   "source": [
    "import qiskit.tools.jupyter\n",
    "%qiskit_version_table\n",
    "%qiskit_copyright\n"
   ]
  }
 ],
 "metadata": {
  "celltoolbar": "Edit Metadata",
  "kernelspec": {
   "display_name": "Python 3",
   "language": "python",
   "name": "python3"
  },
  "language_info": {
   "codemirror_mode": {
    "name": "ipython",
    "version": 3
   },
   "file_extension": ".py",
   "mimetype": "text/x-python",
   "name": "python",
   "nbconvert_exporter": "python",
   "pygments_lexer": "ipython3",
   "version": "3.10.2"
  }
 },
 "nbformat": 4,
 "nbformat_minor": 4
}